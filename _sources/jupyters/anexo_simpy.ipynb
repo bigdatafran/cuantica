{
 "cells": [
  {
   "cell_type": "markdown",
   "metadata": {},
   "source": [
    "(sympy)=\n",
    "# Introducción.\n",
    "\n",
    "Para mejorar los resultados numéricos obtenidos mediante diversas operaciones con python se puede utilizar la biblioteca de Python denominada *Sympy*. Se trata de un módulo diseñado para trabajar con matemática simbólica y de esta manera se puede decir que su objetivo es reunir todas las característica de un sistema de álgebra computacional, ser fácilmente extensible y mantener el código todo lo simple que sea posible. Además Sympy no requiere ninguna biblioteca externa, salvo para soporte gráfico.\n",
    "\n",
    "No es el objetivo de este módulo hacer una descripción detallada de las posibilidades que ofrece Sympy, pues para ello el lector puede acudir <a href=\"https://www.sympy.org/en/index.html\" target=\"_balnk\"> a su web oficial </a> donde se describe con todo detalle las posibilidades que ofrece esta librería, no obstante se van a mostrar las herramientas suficientes y necesarias como para poder utilizar la librería para la consecución de los resultados que se muestran en la publicación central de este trabajo.\n",
    "\n",
    "Comencemos con lo más básico, como es instalar la librería en python, para ello se debe ejecutar el siguiente comando:\n",
    "\n",
    "> pip install sympy\n",
    "\n",
    "Un vez instalado, procedemos a importar todo el paquete mediante el siguiente comando."
   ]
  },
  {
   "cell_type": "code",
   "execution_count": 26,
   "metadata": {},
   "outputs": [],
   "source": [
    "from sympy import init_session"
   ]
  },
  {
   "cell_type": "markdown",
   "metadata": {},
   "source": [
    "Para presentar los resultados en un formato igual alq ue utiliza latex, se deberá ejecutar la siguiente instrucción:"
   ]
  },
  {
   "cell_type": "code",
   "execution_count": 3,
   "metadata": {},
   "outputs": [
    {
     "name": "stdout",
     "output_type": "stream",
     "text": [
      "IPython console for SymPy 1.12 (Python 3.11.4-64-bit) (ground types: python)\n",
      "\n",
      "These commands were executed:\n",
      ">>> from sympy import *\n",
      ">>> x, y, z, t = symbols('x y z t')\n",
      ">>> k, m, n = symbols('k m n', integer=True)\n",
      ">>> f, g, h = symbols('f g h', cls=Function)\n",
      ">>> init_printing()\n",
      "\n",
      "Documentation can be found at https://docs.sympy.org/1.12/\n",
      "\n"
     ]
    }
   ],
   "source": [
    "# Para que saque resultados em latex\n",
    "init_session(use_latex=True)"
   ]
  },
  {
   "cell_type": "markdown",
   "metadata": {},
   "source": [
    "Como ya se ha dicho anteriormente, Sympy es una librería para trabajar con la matemática simbólica, y en este sentido, en lugar de obtener resultados con un montón de cifras decimales, lo que hace es presentar los resultados como los que solemos obtener cuando se trabja de una forma manual con matemáticas, y en este sentido podemos ver la diferencia de representación de resultados matemáticos en los dos ejemplos que siguen. "
   ]
  },
  {
   "cell_type": "code",
   "execution_count": 4,
   "metadata": {},
   "outputs": [
    {
     "data": {
      "image/png": "[encoded data removed]",
      "text/latex": [
       "$\\displaystyle \\frac{\\sqrt{3}}{2}$"
      ],
      "text/plain": [
       "√3\n",
       "──\n",
       "2 "
      ]
     },
     "execution_count": 4,
     "metadata": {},
     "output_type": "execute_result"
    }
   ],
   "source": [
    "# Resultado con matemática simbólica\n",
    "from sympy import sqrt\n",
    "sqrt(3)/2"
   ]
  },
  {
   "cell_type": "code",
   "execution_count": 27,
   "metadata": {},
   "outputs": [
    {
     "data": {
      "image/png": "[encoded data removed]",
      "text/latex": [
       "$\\displaystyle 0.866025403784439$"
      ],
      "text/plain": [
       "0.8660254037844386"
      ]
     },
     "execution_count": 27,
     "metadata": {},
     "output_type": "execute_result"
    }
   ],
   "source": [
    "# Resultado con matemática computacional\n",
    "import numpy as np\n",
    "np.sqrt(3)/2"
   ]
  },
  {
   "cell_type": "markdown",
   "metadata": {},
   "source": [
    "Igualmente con Sympy se pueden simplificar expresiones como la que figura a continuación."
   ]
  },
  {
   "cell_type": "code",
   "execution_count": 5,
   "metadata": {},
   "outputs": [
    {
     "data": {
      "image/png": "[encoded data removed]",
      "text/latex": [
       "$\\displaystyle 2 \\sqrt{2}$"
      ],
      "text/plain": [
       "2⋅√2"
      ]
     },
     "execution_count": 5,
     "metadata": {},
     "output_type": "execute_result"
    }
   ],
   "source": [
    "sqrt(8)"
   ]
  },
  {
   "cell_type": "markdown",
   "metadata": {},
   "source": [
    "Para que Sympy entienda que queremos trabajar con notaciones simbólicas para determinadas letras, previamente las tenemos que definir."
   ]
  },
  {
   "cell_type": "code",
   "execution_count": 6,
   "metadata": {},
   "outputs": [
    {
     "data": {
      "image/png": "[encoded data removed]",
      "text/latex": [
       "$\\displaystyle x + 2 y$"
      ],
      "text/plain": [
       "x + 2⋅y"
      ]
     },
     "execution_count": 6,
     "metadata": {},
     "output_type": "execute_result"
    }
   ],
   "source": [
    "from sympy import symbols\n",
    "x, y = symbols('x y')\n",
    "expr = x + 2*y\n",
    "expr"
   ]
  },
  {
   "cell_type": "markdown",
   "metadata": {},
   "source": [
    "Sympy además cuenta con determinadas facilidades que nos permiten obtener resultados matemáticos interesantes, como puede ser el cálculo de integrales (ya sean definidas o no)."
   ]
  },
  {
   "cell_type": "code",
   "execution_count": 7,
   "metadata": {},
   "outputs": [
    {
     "data": {
      "image/png": "[encoded data removed]",
      "text/latex": [
       "$\\displaystyle e^{x} \\sin{\\left(x \\right)}$"
      ],
      "text/plain": [
       " x       \n",
       "ℯ ⋅sin(x)"
      ]
     },
     "execution_count": 7,
     "metadata": {},
     "output_type": "execute_result"
    }
   ],
   "source": [
    "integrate(exp(x)*sin(x) + exp(x)*cos(x), x)"
   ]
  },
  {
   "cell_type": "markdown",
   "metadata": {},
   "source": [
    "Igualmente nos permite resolver ecuaciones:"
   ]
  },
  {
   "cell_type": "code",
   "execution_count": 8,
   "metadata": {},
   "outputs": [
    {
     "data": {
      "image/png": "[encoded data removed]",
      "text/latex": [
       "$\\displaystyle \\left[ - \\sqrt{2}, \\  \\sqrt{2}\\right]$"
      ],
      "text/plain": [
       "[-√2, √2]"
      ]
     },
     "execution_count": 8,
     "metadata": {},
     "output_type": "execute_result"
    }
   ],
   "source": [
    "solve(x**2 - 2, x)"
   ]
  },
  {
   "cell_type": "markdown",
   "metadata": {},
   "source": [
    "## Números complejos en Sympy.\n",
    "\n",
    "Sympy tiene una forma bien simple par definir número complejos, para ello utiliza la letra mayúscula I para definir la parte imaginaria. Un ejemplo de esta construcción puede ser el que se muestra a continuación."
   ]
  },
  {
   "cell_type": "code",
   "execution_count": 31,
   "metadata": {},
   "outputs": [
    {
     "name": "stdout",
     "output_type": "stream",
     "text": [
      "El número complejo obtenido es el siguiente: \n"
     ]
    },
    {
     "data": {
      "image/png": "[encoded data removed]",
      "text/latex": [
       "$\\displaystyle 4 + 3 i$"
      ],
      "text/plain": [
       "4 + 3⋅ⅈ"
      ]
     },
     "execution_count": 31,
     "metadata": {},
     "output_type": "execute_result"
    }
   ],
   "source": [
    "a = 4+3*I\n",
    "\n",
    "print(\"El número complejo obtenido es el siguiente: \")\n",
    "\n",
    "a"
   ]
  },
  {
   "cell_type": "markdown",
   "metadata": {},
   "source": [
    "## Cálculo matricial.\n",
    "\n",
    "Para los propósitos de este trabajo, una de las herramientas más interesantes que nos ofrece Sympy es el trabajo con matrices. Para construir una matriz en Sympy se debe utilizar el objeto *Matrix*. Veamos un ejemplo:\n"
   ]
  },
  {
   "cell_type": "code",
   "execution_count": 33,
   "metadata": {},
   "outputs": [
    {
     "data": {
      "image/png": "[encoded data removed]",
      "text/latex": [
       "$\\displaystyle \\left[\\begin{matrix}3 & 5 & 6\\\\2 & 6 & 4\\end{matrix}\\right]$"
      ],
      "text/plain": [
       "⎡3  5  6⎤\n",
       "⎢       ⎥\n",
       "⎣2  6  4⎦"
      ]
     },
     "execution_count": 33,
     "metadata": {},
     "output_type": "execute_result"
    }
   ],
   "source": [
    "m = Matrix([[3,5,6],[2,6,4]])\n",
    "m"
   ]
  },
  {
   "cell_type": "markdown",
   "metadata": {},
   "source": [
    "Si queremos construir un vector de tipo columna, debemos facilitar como argumento una lista de valores."
   ]
  },
  {
   "cell_type": "code",
   "execution_count": 34,
   "metadata": {},
   "outputs": [
    {
     "data": {
      "image/png": "[encoded data removed]",
      "text/latex": [
       "$\\displaystyle \\left[\\begin{matrix}3\\\\5\\\\4\\\\7\\end{matrix}\\right]$"
      ],
      "text/plain": [
       "⎡3⎤\n",
       "⎢ ⎥\n",
       "⎢5⎥\n",
       "⎢ ⎥\n",
       "⎢4⎥\n",
       "⎢ ⎥\n",
       "⎣7⎦"
      ]
     },
     "execution_count": 34,
     "metadata": {},
     "output_type": "execute_result"
    }
   ],
   "source": [
    "m2 = Matrix([3,5,4,7])\n",
    "m2"
   ]
  },
  {
   "cell_type": "markdown",
   "metadata": {},
   "source": [
    "La matriz transpuesta se puede obtener con el método T:"
   ]
  },
  {
   "cell_type": "code",
   "execution_count": 35,
   "metadata": {},
   "outputs": [
    {
     "data": {
      "image/png": "[encoded data removed]",
      "text/latex": [
       "$\\displaystyle \\left[\\begin{matrix}3 & 5 & 4 & 7\\end{matrix}\\right]$"
      ],
      "text/plain": [
       "[3  5  4  7]"
      ]
     },
     "execution_count": 35,
     "metadata": {},
     "output_type": "execute_result"
    }
   ],
   "source": [
    "m3 = m2.T\n",
    "m3"
   ]
  },
  {
   "cell_type": "markdown",
   "metadata": {},
   "source": [
    "Igualmente se pueden multiplicar matrices utilizando el símbolo \"*\". Veamos un ejemplo:"
   ]
  },
  {
   "cell_type": "code",
   "execution_count": 36,
   "metadata": {},
   "outputs": [
    {
     "name": "stdout",
     "output_type": "stream",
     "text": [
      "El resultado de este producto es el siguiente:\n"
     ]
    },
    {
     "data": {
      "image/png": "[encoded data removed]",
      "text/latex": [
       "$\\displaystyle \\left[\\begin{matrix}5\\\\3\\end{matrix}\\right]$"
      ],
      "text/plain": [
       "⎡5⎤\n",
       "⎢ ⎥\n",
       "⎣3⎦"
      ]
     },
     "execution_count": 36,
     "metadata": {},
     "output_type": "execute_result"
    }
   ],
   "source": [
    "M = Matrix([[1, 2, 3], [3, 2, 1]])\n",
    "N = Matrix([0, 1, 1])\n",
    "print(\"El resultado de este producto es el siguiente:\")\n",
    "M*N"
   ]
  },
  {
   "cell_type": "markdown",
   "metadata": {},
   "source": [
    "Con tan sólo todo este conocimiento ya estamos en condiciones de utilizar Sympy para el objetivo que perseguimos en este trabajo: hacer una representación del tipo \"matemática simbólica\" de los resultado obtenido dentro de la computación cuántica. En este sentido, vamos a aplicar todo esto para obtener un resultado que se ha visto en la parte teórica desarrollada.\n",
    "\n",
    "Dentro del [apartado destinado a desarrollar el producto interno](productointerno), se ha visto el siguiente ejemplo:\n",
    "\n",
    "$$\\langle+\\vert\\psi\\rangle=\\frac{1}{\\sqrt{2}}{\\big(}\\langle0\\vert+\\langle1\\vert{\\big)}\\left(\\frac{\\sqrt{3}}{2}\\vert0\\rangle+\\frac{1}{2}\\vert1\\rangle\\right)$$\n",
    "\n",
    "$$=\\frac{1}{\\sqrt{2}}\\left(\\frac{\\sqrt{3}}{2}\\underset{1}{\\underbrace{\\langle0|0\\rangle}}+\\frac{1}{2}\\underset{0}{\\underbrace{\\langle0|1\\rangle}+\\frac{\\sqrt{3}}{2}\\underset{0}{\\underbrace{\\langle1|0\\rangle}}}+\\frac{1}{2}\\underset{1}{\\underbrace{\\langle1|1\\rangle}}\\right)=$$\n",
    "\n",
    "$$={\\frac{1}{\\sqrt{2}}}\\left({\\frac{\\sqrt{3}}{2}}+{\\frac{1}{2}}\\right)={\\frac{{\\sqrt{3}}+1}{2{\\sqrt{2}}}}$$\n",
    "\n",
    "También en este apartado se ha definido un código con el que se obtenía un resultado en formato de tipo flotante, según el cual se obtiene números con una determinada cantidad de cifras decimales que se aproximan a la cifra  obtenida con notación matématica.\n",
    "\n",
    "Entonces teniendo en cuenta cómo se opera para obtener el producto interno, y las nociones desarrolladas en este apartado, podemos obtener estos resultados en formato de matemática simbólica de la siguiente manera:"
   ]
  },
  {
   "cell_type": "code",
   "execution_count": 37,
   "metadata": {},
   "outputs": [
    {
     "name": "stdout",
     "output_type": "stream",
     "text": [
      "el resultado de este producto interno es el siguiente: \n"
     ]
    },
    {
     "data": {
      "image/png": "[encoded data removed]",
      "text/latex": [
       "$\\displaystyle \\left[\\begin{matrix}0.25 \\sqrt{2} + \\frac{\\sqrt{6}}{4}\\end{matrix}\\right]$"
      ],
      "text/plain": [
       "⎡          √6⎤\n",
       "⎢0.25⋅√2 + ──⎥\n",
       "⎣          4 ⎦"
      ]
     },
     "execution_count": 37,
     "metadata": {},
     "output_type": "execute_result"
    }
   ],
   "source": [
    "# defino las amplitudes del primer elemento\n",
    "a= Matrix([1/sqrt(2),1/sqrt(2)])\n",
    "# defino las amplitudes del segundo elemento\n",
    "b= Matrix([sqrt(3)/2,1/2])\n",
    "# Calculo ahora el producto interno. Tengo que transponer a para hacer un vector fila\n",
    "print(\"el resultado de este producto interno es el siguiente: \")\n",
    "a.T*b"
   ]
  },
  {
   "cell_type": "markdown",
   "metadata": {},
   "source": [
    "Esta expresión se puede aún simplicar más obteniendo un resultado igual al obtenido de forma manual pero presentado de forma casi igual"
   ]
  },
  {
   "cell_type": "code",
   "execution_count": 38,
   "metadata": {},
   "outputs": [
    {
     "data": {
      "image/png": "[encoded data removed]",
      "text/latex": [
       "$\\displaystyle \\left[\\begin{matrix}\\frac{\\sqrt{2}}{4} + \\frac{\\sqrt{6}}{4}\\end{matrix}\\right]$"
      ],
      "text/plain": [
       "⎡√2   √6⎤\n",
       "⎢── + ──⎥\n",
       "⎣4    4 ⎦"
      ]
     },
     "execution_count": 38,
     "metadata": {},
     "output_type": "execute_result"
    }
   ],
   "source": [
    "simplify(a.T*b)"
   ]
  },
  {
   "cell_type": "markdown",
   "metadata": {},
   "source": [
    "Tener presente que operando en esta expresión llegamos al mismo resultado que el obtenido de forma manual. Resumiendo todo esto, podemos crear una función que obtenga en formato simbólico el producto interno de dos qubits."
   ]
  },
  {
   "cell_type": "code",
   "execution_count": 39,
   "metadata": {},
   "outputs": [],
   "source": [
    "#from sympy import init_session\n",
    "#init_session(use_latex=True)\n",
    "\n",
    "def productoInterno(x,y, simplificar=True):\n",
    "    \"\"\" \n",
    "    Con esta función calculamos el producto interno de dos qubits\n",
    "\n",
    "    @parámteros:\n",
    "    x,y son dos mtarices de Sympy definidas como vectores columna. Estas matrices\n",
    "    son la amplitudes de los qubits\n",
    "\n",
    "    simplificar es un valor lógico que permite obtener el resultado simplificado o no.\n",
    "\n",
    "    \"\"\"\n",
    "\n",
    "    resul = x.T*y\n",
    "\n",
    "    if simplificar:\n",
    "        resul = simplify(resul)\n",
    "\n",
    "    return resul"
   ]
  },
  {
   "cell_type": "markdown",
   "metadata": {},
   "source": [
    "Apliquemos la función anterior, para obtener el resultado buscado"
   ]
  },
  {
   "cell_type": "code",
   "execution_count": 40,
   "metadata": {},
   "outputs": [
    {
     "data": {
      "image/png": "[encoded data removed]",
      "text/latex": [
       "$\\displaystyle \\left[\\begin{matrix}\\frac{\\sqrt{2}}{4} + \\frac{\\sqrt{6}}{4}\\end{matrix}\\right]$"
      ],
      "text/plain": [
       "⎡√2   √6⎤\n",
       "⎢── + ──⎥\n",
       "⎣4    4 ⎦"
      ]
     },
     "execution_count": 40,
     "metadata": {},
     "output_type": "execute_result"
    }
   ],
   "source": [
    "# defino las amplitudes del primer elemento\n",
    "a= Matrix([1/sqrt(2),1/sqrt(2)])\n",
    "# defino las amplitudes del segundo elemento\n",
    "b= Matrix([sqrt(3)/2,1/2])\n",
    "\n",
    "productoInterno(a,b)"
   ]
  },
  {
   "cell_type": "markdown",
   "metadata": {},
   "source": [
    "## Anexo.\n",
    "\n",
    "* <a href=\"https://www.youtube.com/playlist?list=PLoGFizEtm_6jCjWqRU8A-dQYQuo5q5KNc\" target=\"_blank\">Vídeos de iniciación a Sympy </a>\n",
    "\n",
    "* <a href=\"https://www.youtube.com/watch?v=SNLBhyvq5O8\" target=\"_blank\">Evaluate inner product of bra and ket in Sympy Quantum </a>\n",
    "\n",
    "* <a href=\"https://www.youtube.com/watch?v=OGQRcYVys1Q\" target=\"_blank\">Tutorial de SymPy: introducción y comandos básicos</a>"
   ]
  }
 ],
 "metadata": {
  "kernelspec": {
   "display_name": "venv",
   "language": "python",
   "name": "python3"
  },
  "language_info": {
   "codemirror_mode": {
    "name": "ipython",
    "version": 3
   },
   "file_extension": ".py",
   "mimetype": "text/x-python",
   "name": "python",
   "nbconvert_exporter": "python",
   "pygments_lexer": "ipython3",
   "version": "3.11.4"
  }
 },
 "nbformat": 4,
 "nbformat_minor": 2
}
