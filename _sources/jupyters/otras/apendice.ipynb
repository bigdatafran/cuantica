{
 "cells": [
  {
   "cell_type": "markdown",
   "id": "a69ee2b3",
   "metadata": {},
   "source": [
    "# Apendice.\n",
    "\n",
    "A continuación se pasan algunas referencias a páginas web interesantes o publicaciones relacionadas con la materia de NLP\n",
    "\n",
    "# Publicaciones.\n",
    "\n",
    "\n",
    "# Páginas web.\n",
    "\n",
    "\n",
    "* <a href=\"https://algassert.com/quirk\" target=\"_blank\">Simulador quantico Quirk </a>\n",
    "\n",
    "* <a href=\"https://www.primaryobjects.com/2021/09/15/the-ultimate-guide-to-a-quantum-computing-certification-with-qiskit/\" target=\"_blank\">The Ultimate Guide to a Quantum Computing Certification with Qiskit</a>\n",
    "\n",
    "* <a href=\"https://gitlab.citius.usc.es/tf.pena/CiTIUS-Curso_Intro_QC\" target=\"_blank\"> Curso de introducción a la computación cuántica </a>\n",
    "\n",
    "# Esfera Bloch.\n",
    "\n",
    "* <a href=\"https://javafxpert.github.io/grok-bloch/\" target=\"_blank\"> Una interactiva esfera de Bloch</a>\n",
    "\n",
    "* <a href=\"https://attilakun.net/bloch/\" target=\"_blank\"> Esfera bloch interactiva</a>\n",
    "\n",
    "* <a href=\"https://www.st-andrews.ac.uk/physics/quvis/simulations_html5/sims/blochsphere/blochsphere.html\" target=\"_blank\"> Otro simulador esfera bloch </a>\n",
    "\n",
    "* <a href=\"https://eecs.ceas.uc.edu/~cahaymm/blochsphere/\" target=\"_blank\">Para instalar en local el simulador </a>\n",
    "\n",
    "* <a href=\"https://nonhermitian.org/kaleido/index.html\" target=\"_blank\"> Kaleidoscope </a>\n",
    "\n",
    "\n",
    "# Paquetes Python.\n",
    "\n",
    "*<a href=\"https://github.com/cduck/bloch_sphere\" target=\"_blank\">Paquete Python para esfera bloch</a>\n",
    "\n",
    "* <a href=\"https://qutip.org/docs/latest/index.html\" target='_blank'>QuTiP: Quantum Toolbox in Python </a>"
   ]
  },
  {
   "cell_type": "code",
   "execution_count": null,
   "id": "3ffda9a3",
   "metadata": {},
   "outputs": [],
   "source": []
  }
 ],
 "metadata": {
  "kernelspec": {
   "display_name": "Python 3 (ipykernel)",
   "language": "python",
   "name": "python3"
  },
  "language_info": {
   "codemirror_mode": {
    "name": "ipython",
    "version": 3
   },
   "file_extension": ".py",
   "mimetype": "text/x-python",
   "name": "python",
   "nbconvert_exporter": "python",
   "pygments_lexer": "ipython3",
   "version": "3.9.13"
  },
  "toc": {
   "base_numbering": 1,
   "nav_menu": {},
   "number_sections": true,
   "sideBar": true,
   "skip_h1_title": false,
   "title_cell": "Table of Contents",
   "title_sidebar": "Contents",
   "toc_cell": false,
   "toc_position": {},
   "toc_section_display": true,
   "toc_window_display": false
  },
  "varInspector": {
   "cols": {
    "lenName": 16,
    "lenType": 16,
    "lenVar": 40
   },
   "kernels_config": {
    "python": {
     "delete_cmd_postfix": "",
     "delete_cmd_prefix": "del ",
     "library": "var_list.py",
     "varRefreshCmd": "print(var_dic_list())"
    },
    "r": {
     "delete_cmd_postfix": ") ",
     "delete_cmd_prefix": "rm(",
     "library": "var_list.r",
     "varRefreshCmd": "cat(var_dic_list()) "
    }
   },
   "types_to_exclude": [
    "module",
    "function",
    "builtin_function_or_method",
    "instance",
    "_Feature"
   ],
   "window_display": false
  }
 },
 "nbformat": 4,
 "nbformat_minor": 5
}
