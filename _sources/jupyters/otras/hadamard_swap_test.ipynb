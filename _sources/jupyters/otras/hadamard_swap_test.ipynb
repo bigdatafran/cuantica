{
 "cells": [
  {
   "cell_type": "markdown",
   "metadata": {},
   "source": [
    "(hadamrd-test)=\n",
    "\n",
    "# Hadamard test y swap test\n",
    "\n",
    "```{index} Hadamard test, Swap test\n",
    "```\n",
    "\n",
    "\n",
    "En este apartado vamos a ver dos cuestiones muy útiles en el mundo de la programación cuántica\n",
    "\n",
    "* El Hadamard test que no permite calcular la parte real imaginaria del valor esperado de un qubit vía una puerta unitaria U\n",
    "\n",
    "* El swap test, que nos permite ver si dos qubits son los mimos o son ortogonales\n",
    "\n",
    "## Hadamard test\n",
    "\n",
    "```{index} ancilla registro\n",
    "```\n",
    "\n",
    "Con este test lo que se pretende es encontrar una expresión que aparece muchas veces en los problemas de computación cuántica, y este valor sería el siguiente:\n",
    "\n",
    "$$\\langle\\psi|U|\\psi\\rangle$$\n",
    "\n",
    "Es decir, con esa expresión lo que calculamos es valor esperado de $|\\psi\\rangle$ a través de U.\n",
    "\n",
    "Para calcular estos valores deberemos montar el siguiente circuito\n",
    "\n",
    "![](../images/HadamardTest.PNG)\n",
    "\n",
    "Es decir, hacemos pasar nuestro estado $|\\psi \\rangle$ por nuestra puerta U , y además creamos otro qubit auxiliar (ancilla qubit ) en estado $|0\\rangle$ al que aplicamos una puerta H y después una puerta control sobre dicha puerta U y además en el qubit auxiliar se vuelve a aplicar una puerta H y medimos ese circuito auxiliar. Pues bien el resultado que obtenemos con esta medición es $Re($\\langle\\psi|U|\\psi\\rangle$). La demostración de que esto es así se <a href=\"../documentos/Quantum_Tests.pdf\" target=\"_blank\"> puede encontrar en este documento </a> que se ha entresacado <a href=\"https://www.youtube.com/watch?v=V43R-26NtUU\" target=\"_blank\"> de este vídeo </a>.\n",
    "\n",
    "Al hacer la medición tenemos que :\n",
    "\n",
    "$$Re(\\langle\\psi|U|\\psi\\rangle)=P(|0\\rangle)-P(|1\\rangle)$$\n",
    "\n",
    "Para obtener la parte imaginaría tendremos que añadir al circuito anterior un puerta $R_{Z}\\left(\\frac{-\\pi}{2}\\right)$ en el primer qubit auxiliar justo después de la primera puerta H,\n",
    "\n",
    "\n",
    "![](../images/HadamardTest_2.PNG)\n",
    "\n",
    "El resultado anterior tiene su mérito, pues es muy utilizado en computación cuántica, pero se puede extender su resultado para que podamos podamos obtener por ejemplo el valor de un producto interno como $<\\varphi|\\psi>$. Como vemos aquí entran en juego dos estados quánticos, mientras que en el test de Hadamard sólo se trabaja con un qubit. LA idea es que de alguna forma se pueda poner lo anterior en la forma $\\langle0|U|0\\rangle$, y después de construir la puerta U (como se verá a continuación) entonces  aplicando el test de Hadamard se podrá obtener $Re(<\\varphi|\\psi>)$. La forma de conseguir esto lo vemos en el siguiente gráfico:\n",
    "\n",
    "![](../images/TestHadamard_3.PNG)\n",
    "\n",
    "\n",
    "La puerta U que conseguimos con este enfoque sigue siendo una puerta unitaria, por lo que podremos aplicar el test de Hadamard al qubit $|0\\rangle$ y a esta puerta U. La situación en la que nos encontraremos ahora, se muestra en el siguiente gráfico:\n",
    "\n",
    "![](../images/TestHadamard_4.PNG)\n",
    "\n",
    "Y la parte imaginaria la conseguimos siguiendo el siguiente esquema:\n",
    "\n",
    "![](../images/TestHadamerd_5.PNG)\n",
    "\n",
    "A continuación implementamos el código en qiskit que utiliza toda esta teoría para obtener el producto interno de dos estados cuánticos\n"
   ]
  },
  {
   "cell_type": "code",
   "execution_count": 78,
   "metadata": {},
   "outputs": [
    {
     "data": {
      "text/plain": [
       "{'qiskit': '0.46.0', 'qiskit-aer': '0.13.2', 'qiskit-ignis': None, 'qiskit-ibmq-provider': None, 'qiskit-nature': None, 'qiskit-finance': None, 'qiskit-optimization': None, 'qiskit-machine-learning': None}"
      ]
     },
     "execution_count": 78,
     "metadata": {},
     "output_type": "execute_result"
    }
   ],
   "source": [
    "import qiskit\n",
    "qiskit.__qiskit_version__"
   ]
  },
  {
   "cell_type": "code",
   "execution_count": 79,
   "metadata": {},
   "outputs": [],
   "source": [
    "from qiskit import QuantumRegister, ClassicalRegister, QuantumCircuit, transpile\n",
    "from qiskit import execute, Aer\n",
    "import numpy as np\n",
    "from qiskit.tools.visualization import circuit_drawer"
   ]
  },
  {
   "cell_type": "markdown",
   "metadata": {},
   "source": [
    "A continuación creamos una función que sirve para crear un circuito cuántico parametrizado y que servirá para crear los estados "
   ]
  },
  {
   "cell_type": "code",
   "execution_count": 80,
   "metadata": {},
   "outputs": [
    {
     "data": {
      "image/png": "[encoded data removed]",
      "text/plain": [
       "<Figure size 510.814x284.278 with 1 Axes>"
      ]
     },
     "execution_count": 80,
     "metadata": {},
     "output_type": "execute_result"
    }
   ],
   "source": [
    "def build_circ(_circuit, _register, _params, _n_qubits, _barrier = False):\n",
    "    \"\"\"\n",
    "    Implementación de un circuito parametrizado\n",
    "    \"\"\"\n",
    "\n",
    "    for index in range(_n_qubits):\n",
    "        # Añadimos una puerta de Hadamrd\n",
    "        _circuit.h(index)\n",
    "        # Implementamos una rotación sobre el je x\n",
    "        _circuit.rx(_params[index], _register[index])\n",
    "\n",
    "    # Añadimo puertas CNOT\n",
    "    for k in range(_n_qubits - 1):\n",
    "        # .cnot está deprecated desde la versión 0.45.0 de qiskit\n",
    "        #_circuit.cnot(_register[k], _register[k+1])\n",
    "        _circuit.cx(_register[k], _register[k+1])\n",
    "\n",
    "    if _barrier:\n",
    "        _circuit.barrier()\n",
    "\n",
    "    return _circuit\n",
    "\n",
    "# Ahora construimos los circuitos para |psi> and |phi>\n",
    "nqubits = 3\n",
    "nb_params = nqubits\n",
    "\n",
    "# circuito para  |psi>\n",
    "q = QuantumRegister(nqubits, 'qubit')\n",
    "circ_psi = QuantumCircuit(q)\n",
    "params_psi = [el for el in range( nb_params )]\n",
    "circ_psi = build_circ(circ_psi, q, params_psi, nqubits)\n",
    "\n",
    "# circuito para |phi>\n",
    "p = QuantumRegister(nqubits, 'qubit')\n",
    "circ_phi = QuantumCircuit(p)\n",
    "params_phi = [el for el in range( nb_params, 2*nb_params)]\n",
    "circ_phi = build_circ(circ_phi, p, params_phi, nqubits)\n",
    "\n",
    "# Comentar esta línea si no se quiere dibujar el circuito\n",
    "circuit_drawer(circ_phi, output='mpl', style={'backgroundcolor': '#EEEEEE'})"
   ]
  },
  {
   "cell_type": "markdown",
   "metadata": {},
   "source": [
    "A continuación, construimos una función que medirá el qubit auxiliar 1000 veces y los promediará como se describe anteriormente (NOTA: Se ha tenido que hacer transpile inicialmente para eliminar error de ejecución):\n",
    "\n",
    "```{index} transpile\n",
    "```"
   ]
  },
  {
   "cell_type": "code",
   "execution_count": 81,
   "metadata": {},
   "outputs": [],
   "source": [
    "def sigma_z(_circuit):\n",
    "    \"\"\"\n",
    "    Takes in a circuit with an ancilla;\n",
    "    returns the <sigma_z> of the measurements on the ancilla alone.\n",
    "    \"\"\"\n",
    "    circuit_copy = _circuit.copy()\n",
    "    c_reg = ClassicalRegister(1, \"c_bit\")\n",
    "    circuit_copy.add_register(c_reg)\n",
    "\n",
    "    circuit_copy.measure(0, c_reg[0])\n",
    "    nb_shots = 10000\n",
    "\n",
    "    simulator = Aer.get_backend(\"qasm_simulator\")\n",
    "    # esta instrucción está deprecated\n",
    "    #job = execute(circuit_copy, backend=simulator, shots = nb_shots)\n",
    "    transpiled =transpile(circuit_copy,simulator)\n",
    "    job= simulator.run(transpiled, shots=nb_shots)\n",
    "    result = job.result()\n",
    "    counts = result.get_counts()\n",
    "\n",
    "    return (counts['0'] - counts['1'])/nb_shots"
   ]
  },
  {
   "cell_type": "markdown",
   "metadata": {},
   "source": [
    "Ahora podemos construir el operador U (la composición de $U_{\\varphi}^{\\dagger}U_{\\Psi}$ que se muestra en los diagramas de circuito anteriores):"
   ]
  },
  {
   "cell_type": "code",
   "execution_count": 82,
   "metadata": {},
   "outputs": [],
   "source": [
    "# para el circuito phi obtenemos U_phi^dagger\n",
    "U_phi_dagger = circ_phi.to_gate(label = \"U_phi^dagger\").inverse()\n",
    "definition = [ q[index] for index in range(nqubits) ]\n",
    "# para el circuito psi\n",
    "U_circ = circ_psi.copy()\n",
    "# Añado ahora los dos circuitos\n",
    "U_circ.append(U_phi_dagger, definition)\n",
    "\n",
    "# Ahora construyo un control U\n",
    "U_controlled_gate = (U_circ.to_gate(label = \"U\")).control(1)"
   ]
  },
  {
   "cell_type": "code",
   "execution_count": 83,
   "metadata": {},
   "outputs": [
    {
     "data": {
      "text/plain": [
       "-0.2046"
      ]
     },
     "execution_count": 83,
     "metadata": {},
     "output_type": "execute_result"
    }
   ],
   "source": [
    "U_controlled_gate = (U_circ.to_gate(label = \"U\")).control(1)\n",
    "\n",
    "anc = QuantumRegister(1, 'ancilla')\n",
    "q = QuantumRegister(nqubits, 'qubit')\n",
    "circ_Hadamard = QuantumCircuit(anc, q)\n",
    "definition = [anc[0]] + [q[index] for index in range(nqubits)]\n",
    "\n",
    "\n",
    "evaluate_complex_part = False # cambiar a True si se quiere evaluar la parte imaginaria\n",
    "\n",
    "circ_Hadamard.h(anc[0])\n",
    "if evaluate_complex_part:\n",
    "    circ_Hadamard.sdg(anc[0])\n",
    "\n",
    "circ_Hadamard.append(U_controlled_gate, definition)\n",
    "circ_Hadamard.h(anc[0])\n",
    "\n",
    "# visualizo el circuito\n",
    "circuit_drawer(circ_Hadamard, output='mpl', style={'backgroundcolor': '#EEEEEE'})\n",
    "\n",
    "# mido el circuito auxiliar (anzila)\n",
    "avg_Z = sigma_z(circ_Hadamard)\n",
    "avg_Z"
   ]
  },
  {
   "cell_type": "markdown",
   "metadata": {},
   "source": [
    "NOTA: el valor anterior puede cambiar pero estar cerca del mismo, ya que existe un factor de aleatoriedad que hay que tener en cuenta.\n",
    "\n",
    "A continuación se muestra el ´código que sirve para evaluar de una forma analítica esta superposición"
   ]
  },
  {
   "cell_type": "code",
   "execution_count": 84,
   "metadata": {},
   "outputs": [
    {
     "data": {
      "text/plain": [
       "(-0.2107957994307797-0.9775301176650976j)"
      ]
     },
     "execution_count": 84,
     "metadata": {},
     "output_type": "execute_result"
    }
   ],
   "source": [
    "simulator = Aer.get_backend('aer_simulator')\n",
    "circ_psi.save_statevector()\n",
    "#job = execute(circ_psi, simulator)\n",
    "job = simulator.run(transpile(circ_psi, simulator))\n",
    "result = job.result()\n",
    "psi_state = result.get_statevector()\n",
    "psi_vector = psi_state.data\n",
    "\n",
    "circ_phi.save_statevector()\n",
    "#job = execute(circ_phi, simulator)\n",
    "job = simulator.run(transpile(circ_phi, simulator))\n",
    "result = job.result()\n",
    "phi_state = result.get_statevector()\n",
    "phi_vector = phi_state.data\n",
    "\n",
    "\n",
    "phi_vector_dagger = phi_state.conjugate()\n",
    "overlap = np.dot(phi_vector_dagger, psi_vector)\n",
    "overlap"
   ]
  },
  {
   "cell_type": "markdown",
   "metadata": {},
   "source": [
    "## Swap test"
   ]
  },
  {
   "cell_type": "code",
   "execution_count": 23,
   "metadata": {},
   "outputs": [
    {
     "data": {
      "image/png": "[encoded data removed]",
      "text/plain": [
       "<Figure size 454.719x367.889 with 1 Axes>"
      ]
     },
     "execution_count": 23,
     "metadata": {},
     "output_type": "execute_result"
    }
   ],
   "source": [
    "from qiskit import QuantumRegister, ClassicalRegister, QuantumCircuit, Aer\n",
    "from qiskit.visualization import plot_histogram\n",
    "\n",
    "q = QuantumRegister(3,'q')\n",
    "c = ClassicalRegister(1, 'c')\n",
    "\n",
    "circuit = QuantumCircuit(q,c)\n",
    "\n",
    "circuit.h(q[0])\n",
    "circuit.x(q[1]) #comentar para hacer ambos estados no ortogonales\n",
    "circuit.cswap(q[0],q[1],q[2]) #puerta controlada swap\n",
    "circuit.h(q[0])\n",
    "circuit.measure(q[0],c[0])\n",
    "\n",
    "circuit.draw('mpl',style='iqp')\n"
   ]
  },
  {
   "cell_type": "code",
   "execution_count": 24,
   "metadata": {},
   "outputs": [
    {
     "data": {
      "text/plain": [
       "{'1': 4086, '0': 4106}"
      ]
     },
     "execution_count": 24,
     "metadata": {},
     "output_type": "execute_result"
    }
   ],
   "source": [
    "backend = Aer.get_backend('aer_simulator')\n",
    "nShots = 8192\n",
    "counts = backend.run(circuit,shots=nShots).result().get_counts()\n",
    "counts"
   ]
  },
  {
   "cell_type": "code",
   "execution_count": 25,
   "metadata": {},
   "outputs": [
    {
     "data": {
      "image/png": "[encoded data removed]",
      "text/plain": [
       "<Figure size 700x500 with 1 Axes>"
      ]
     },
     "execution_count": 25,
     "metadata": {},
     "output_type": "execute_result"
    }
   ],
   "source": [
    "plot_histogram(counts)"
   ]
  },
  {
   "cell_type": "code",
   "execution_count": 26,
   "metadata": {},
   "outputs": [
    {
     "name": "stdout",
     "output_type": "stream",
     "text": [
      "módulo producto interno al cuadrado: 0.00244140625\n",
      "Conteo:  {'1': 4086, '0': 4106}\n"
     ]
    }
   ],
   "source": [
    "if '1' in counts:\n",
    "    b = counts['1']\n",
    "else:\n",
    "    b = 0\n",
    "\n",
    "\n",
    "s = 1-(2/nShots)*(b)\n",
    "\n",
    "print(\"módulo producto interno al cuadrado:\",str(s))\n",
    "print(\"Conteo: \",counts)"
   ]
  },
  {
   "cell_type": "code",
   "execution_count": null,
   "metadata": {},
   "outputs": [],
   "source": []
  },
  {
   "cell_type": "markdown",
   "metadata": {},
   "source": [
    "## Apéndice\n",
    "```{index} density matrix, matriz de densidad\n",
    "```\n",
    "\n",
    "\n",
    "* <a href=\"https://www.youtube.com/watch?v=fDSqkt3cJvs\" target=\"_blank\"> Matriz de densidad </a>"
   ]
  }
 ],
 "metadata": {
  "kernelspec": {
   "display_name": "Python 3 (ipykernel)",
   "language": "python",
   "name": "python3"
  },
  "language_info": {
   "codemirror_mode": {
    "name": "ipython",
    "version": 3
   },
   "file_extension": ".py",
   "mimetype": "text/x-python",
   "name": "python",
   "nbconvert_exporter": "python",
   "pygments_lexer": "ipython3",
   "version": "3.11.4"
  },
  "toc": {
   "base_numbering": 1,
   "nav_menu": {},
   "number_sections": true,
   "sideBar": true,
   "skip_h1_title": false,
   "title_cell": "Table of Contents",
   "title_sidebar": "Contents",
   "toc_cell": false,
   "toc_position": {},
   "toc_section_display": true,
   "toc_window_display": true
  },
  "varInspector": {
   "cols": {
    "lenName": 16,
    "lenType": 16,
    "lenVar": 40
   },
   "kernels_config": {
    "python": {
     "delete_cmd_postfix": "",
     "delete_cmd_prefix": "del ",
     "library": "var_list.py",
     "varRefreshCmd": "print(var_dic_list())"
    },
    "r": {
     "delete_cmd_postfix": ") ",
     "delete_cmd_prefix": "rm(",
     "library": "var_list.r",
     "varRefreshCmd": "cat(var_dic_list()) "
    }
   },
   "types_to_exclude": [
    "module",
    "function",
    "builtin_function_or_method",
    "instance",
    "_Feature"
   ],
   "window_display": false
  }
 },
 "nbformat": 4,
 "nbformat_minor": 2
}
