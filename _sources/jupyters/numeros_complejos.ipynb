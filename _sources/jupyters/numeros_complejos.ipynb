{
 "cells": [
  {
   "cell_type": "markdown",
   "id": "2cf2b249",
   "metadata": {},
   "source": [
    "(complejos)=\n",
    "# Números complejos en Python.\n",
    "\n",
    "\n",
    "Los números complejos juegan un papel predominante en en el lenguaje de computación cuántica, por ese motivo se ha creído conveniente abrir un apartado para hacer un resumen donde exponer los conocimientos que se necesitan sobre este tipo de números con la finalidad de que de esa manera se pueda entender mejor cómo funciona la computación cuántica.\n",
    "\n",
    "Además de la exposición teórica, también se utilizará python como herramienta complementaria para que de esta manera el lector pueda trabajar con este tipo de números desde el lenguaje de programación que es la base de qiskit.  \n",
    "\n",
    "Un número complejo $z$ es un número que posee una parte real y otra imaginaria, por ejemplo la siguiente expresión sería un número complejo:\n",
    "\n",
    "$$z=x+iy$$\n",
    "\n",
    "Cada una de las partes que conforman el número complejo se llaman *componentes*, la primera componente es la parte real ($\\Re(z)=x$) y la segunda la imaginaria($\\Im(z)=y$). Asi se tendrá $\\Re(1+i\\sqrt{3})=1$ y $\\Im(1+i\\sqrt{3})=\\sqrt{3}$.\n",
    "\n",
    "Hay que tener en cuenta que los números reales también se pueden considerar complejos pero sin parte imaginaria. Igualmente un número con sólo parte imaginaria, también será un número complejo.\n",
    "\n",
    "\n",
    "\n",
    "Cuando se facilita un número complejo en el formato que se ha dado anteriormente ($z=x+iy$), se dice que el número complejo está dado en *forma cartesiana* o *forma rectangular*. En computación cuántica es más frecuente dar el número complejo en *forma polar*, es decir de la siguiente manera:\n",
    "\n",
    "$$z=r\\cdot e^{i\\theta}$$\n",
    "\n",
    "donde r es el módulo del número complejo y $e^{i\\theta}$ es la fase compleja. Lógicamente cualquier número complejo puede ser expresado en uno u otro formato, para ello existen fórmulas de conversión entre estos formatos. Por ejemplo, si queremos pasar de forma cartesiana a polar se utilizarán las siguientes equivalencias.\n",
    "\n",
    "$$r=\\sqrt{x^2+y^2}$$\n",
    "$$\\theta=tan^{-1}(\\frac{y}{x})$$\n",
    "\n",
    "De manera recíproca, para pasar de polar a formato cartesiano, utilizaremos las siguientes equivalencias:\n",
    "\n",
    "$$x=r\\cdot cos\\theta$$\n",
    "$$y=r\\cdot sen \\theta$$\n",
    "\n",
    "Podemos utilizar las siguientes funciones construidas con código python para hacer estas transformaciones"
   ]
  },
  {
   "cell_type": "code",
   "execution_count": 1,
   "id": "861bcfdd",
   "metadata": {},
   "outputs": [],
   "source": [
    "import numpy as np\n",
    "\n",
    "def cart2pol(x, y):\n",
    "    rho = np.sqrt(x**2 + y**2)\n",
    "    phi = np.arctan2(y, x)\n",
    "    return(rho, phi)\n",
    "\n",
    "def pol2cart(rho, phi):\n",
    "    x = rho * np.cos(phi)\n",
    "    y = rho * np.sin(phi)\n",
    "    return(x, y)"
   ]
  },
  {
   "cell_type": "markdown",
   "id": "5b845b38",
   "metadata": {},
   "source": [
    "```{index} cmath libreria\n",
    "```\n",
    "\n",
    "También existe la librería de python denominada <a href=\"https://docs.python.org/3/library/cmath.html\" target=\"_blank\"> cmath </a> que nos permite hacer este tipo de operaciones.\n",
    "\n",
    "Los números complejos en python se pueden generar de la dos formas que a continuación se indican."
   ]
  },
  {
   "cell_type": "code",
   "execution_count": 2,
   "id": "26f92e30",
   "metadata": {},
   "outputs": [
    {
     "name": "stdout",
     "output_type": "stream",
     "text": [
      "(3.5+1.2j)\n",
      "(3.5+1.2j)\n"
     ]
    }
   ],
   "source": [
    "a = 3.5\n",
    "b = 1.2\n",
    "c = a + b*1j\n",
    "print(c)\n",
    "c2 = complex(a,b)\n",
    "print(c2)"
   ]
  },
  {
   "cell_type": "markdown",
   "id": "24aa130f",
   "metadata": {},
   "source": [
    "Con las expresiones anteriores, hay que tener en cuenta que el número complejo $i=\\sqrt{-1}$ se representa en python mediante la letra $j$."
   ]
  },
  {
   "cell_type": "markdown",
   "id": "3be464f4",
   "metadata": {},
   "source": [
    "Utilizando numpy podemos obtener la parte real y la imaginaria de los números complejos."
   ]
  },
  {
   "cell_type": "code",
   "execution_count": 3,
   "id": "7e2de857",
   "metadata": {},
   "outputs": [
    {
     "name": "stdout",
     "output_type": "stream",
     "text": [
      "parte real de c: 3.5\n",
      "Parte imaginaria de c: 1.2\n"
     ]
    }
   ],
   "source": [
    "print(\"parte real de c: {}\".format(np.real(c)))\n",
    "print(\"Parte imaginaria de c: {}\".format(np.imag(c)))"
   ]
  },
  {
   "cell_type": "markdown",
   "id": "8a65396b",
   "metadata": {},
   "source": [
    "\n",
    "\n",
    "Dentro del campo de los números complejos, también hay que tener en cuenta la denominada fórmula de Euler que dice lo siguientes:\n",
    "\n",
    "```{index} Euler fórmula\n",
    "```\n",
    "\n",
    "$$e^{i\\theta}=cos \\theta + i sen\\theta $$\n",
    "\n",
    "Todo número complejo tiene su representación en el plano cartesiano, como se puede ver en el siguiente gráfico:\n",
    "\n",
    "![](images\\representacion.PNG)\n",
    "\n",
    "Teniendo en cuenta esa imagen, en una representación cartesiana, la parte real, $x$, se representa en el eje de abscisas, mientras que en el de ordenadas, se representa la parte imaginaria, $y$. Si tenemos el número en coordenadas polares, el ángulo $\\theta$ de la figura, será el valor que acompaña al número i en el exponente, mientras que la longitud del segmento de la figura (r), será el valor de r.\n",
    "\n",
    "A continuación se facilita un código python que facilita la representación gráfica de un número complejo, dado en coordenadas cartesianas.\n"
   ]
  },
  {
   "cell_type": "code",
   "execution_count": 4,
   "id": "9054c336",
   "metadata": {},
   "outputs": [
    {
     "data": {
      "image/png": "[encoded data removed]",
      "text/plain": [
       "<Figure size 750x300 with 1 Axes>"
      ]
     },
     "metadata": {},
     "output_type": "display_data"
    }
   ],
   "source": [
    "from matplotlib import pyplot as plt\n",
    "%matplotlib inline\n",
    "\n",
    "def generate_figure(figsize=(2, 2), xlim=[0, 1], ylim=[0, 1]):\n",
    "    \"\"\"Generate figure for plotting complex numbers\n",
    "\n",
    "    Notebook: C2/C2_ComplexNumbers.ipynb\n",
    "\n",
    "    Args:\n",
    "        figsize: Figure size (Default value = (2, 2))\n",
    "        xlim: Limits of x-axis (Default value = [0, 1])\n",
    "        ylim: Limits of y-axis (Default value = [0, 1])\n",
    "    \"\"\"\n",
    "    plt.figure(figsize=figsize)\n",
    "    plt.grid()\n",
    "    plt.xlim(xlim)\n",
    "    plt.ylim(ylim)\n",
    "    plt.xlabel(r'$\\mathrm{Re}$')\n",
    "    plt.ylabel(r'$\\mathrm{Im}$')\n",
    "\n",
    "def plot_vector(c, color='k', start=0, linestyle='-'):\n",
    "    \"\"\"Plot arrow corresponding to difference of two complex numbers\n",
    "\n",
    "    Notebook: C2/C2_ComplexNumbers.ipynb\n",
    "\n",
    "    Args:\n",
    "        c: Complex number\n",
    "        color: Color of arrow (Default value = 'k')\n",
    "        start: Complex number encoding the start position (Default value = 0)\n",
    "        linestyle: Linestyle of arrow (Default value = '-')\n",
    "\n",
    "    Returns:\n",
    "        arrow (matplotlib.patches.FancyArrow): Arrow\n",
    "    \"\"\"\n",
    "    return plt.arrow(np.real(start), np.imag(start), np.real(c), np.imag(c),\n",
    "                     linestyle=linestyle, head_width=0.05, fc=color, ec=color, overhang=0.3,\n",
    "                     length_includes_head=True)\n",
    "\n",
    "c = 1.5 + 0.8j\n",
    "\n",
    "generate_figure(figsize=(7.5, 3), xlim=[0, 2.5], ylim=[0, 1])\n",
    "v = plot_vector(c, color='k')\n",
    "\n",
    "plt.text(1.5, 0.8, '$c$', size='16')\n",
    "plt.text(0.8, 0.55, '$|c|$', size='16')\n",
    "plt.text(0.25, 0.05, '$\\gamma$', size='16');"
   ]
  },
  {
   "cell_type": "markdown",
   "id": "9e4fb6a3",
   "metadata": {},
   "source": [
    "La representación mediante coordenadas polares se haría de la siguiente manera."
   ]
  },
  {
   "cell_type": "code",
   "execution_count": 5,
   "id": "6370aec0",
   "metadata": {},
   "outputs": [
    {
     "data": {
      "image/png": "[encoded data removed]",
      "text/plain": [
       "<Figure size 600x600 with 1 Axes>"
      ]
     },
     "metadata": {},
     "output_type": "display_data"
    }
   ],
   "source": [
    "def plot_polar_vector(c, label=None, color=None, start=0, linestyle='-'):\n",
    "    # plot line in polar plane\n",
    "    line = plt.polar([np.angle(start), np.angle(c)], [np.abs(start), np.abs(c)], label=label, \n",
    "                     color=color, linestyle=linestyle)\n",
    "    # plot arrow in same color\n",
    "    this_color = line[0].get_color() if color is None else color\n",
    "    plt.annotate('', xytext=(np.angle(start), np.abs(start)), xy=(np.angle(c), np.abs(c)),\n",
    "                 arrowprops=dict(facecolor=this_color, edgecolor='none', \n",
    "                                 headlength=12, headwidth=10, shrink=1, width=0))\n",
    "\n",
    "#head_width=0.05, fc=color, ec=color, overhang=0.3, length_includes_head=True    \n",
    "    \n",
    "c_abs = 1.5\n",
    "c_angle = 45  # in degree\n",
    "c_angle_rad = np.deg2rad(c_angle) \n",
    "a = c_abs * np.cos(c_angle_rad)\n",
    "b = c_abs * np.sin(c_angle_rad)\n",
    "c1 = a + b*1j    \n",
    "c2 = -0.5 + 0.75*1j\n",
    "\n",
    "plt.figure(figsize=(6, 6))\n",
    "plot_polar_vector(c1, label='$c_1$', color='k')\n",
    "plot_polar_vector(np.conj(c1), label='$\\overline{c}_1$', color='gray')\n",
    "plot_polar_vector(c2, label='$c_2$', color='b')\n",
    "plot_polar_vector(c1*c2, label='$c_1\\cdot c_2$', color='r')\n",
    "plot_polar_vector(c1/c2, label='$c_1/c_2$', color='g')\n",
    "\n",
    "plt.ylim([0, 1.8]);\n",
    "plt.legend(framealpha=1);"
   ]
  },
  {
   "cell_type": "code",
   "execution_count": null,
   "id": "c1f72b56",
   "metadata": {},
   "outputs": [],
   "source": []
  },
  {
   "cell_type": "markdown",
   "id": "26a96926",
   "metadata": {},
   "source": [
    "\n",
    "## Otras cuastiones de los número complejos.\n",
    "\n",
    "Hay otros aspectos de los números complejos que el lector debe tener en cuenta.\n",
    "\n",
    "### Complejo conjugado.\n",
    "\n",
    "Son también números complejos que se obtienen cambiando de signo la parte imaginaria de otro número complejo. De esta manera si tenemos un número complejo $z=x+iy$, su conjugado será $z^{*}=x-iy$. Si el número complejo lo tenemos en forma polar ($z=r\\cdot e^{i\\theta}$), entonces su conjugado será $z^{*}=re^{-i\\theta}$ \n",
    "\n",
    "### Norma de un número complejo.\n",
    "\n",
    "La norma de un número complejo es el valor de r cuando éste está escrito en forma polar. Si lo tenemos escrito en formato cartesiano la norma se calcula de la siguiente manera:\n",
    "\n",
    "$$|r|=\\sqrt(x^2+y^2)$$\n",
    "\n",
    "Una forma fácil de calcular la norma elevada al cuadrado de un número complejo es multiplicando ese numero por cu conjugado:\n",
    "\n",
    "$$|z|^{2}=z^{*}\\cdot z=z \\cdot z^{*}$$"
   ]
  },
  {
   "cell_type": "markdown",
   "id": "ee24c1cb",
   "metadata": {},
   "source": [
    "## Multiplicación de matrices de números complejos.\n",
    "\n",
    "En el campo de la computación cuántica es muy frecuente tener la necesidad de multiplicar matrices de números complejos, en particular cuando se tienen matrices que representan ciertas puertas lógicas, que se verán a lo largo de este trabajo.\n",
    "\n",
    "Para hacer este tipo de operaciones matriciales utilizaremos la clase de numpy denominada *matmul*, vemos a continuación un ejemplo.. "
   ]
  },
  {
   "cell_type": "code",
   "execution_count": 6,
   "id": "d861d1e2",
   "metadata": {},
   "outputs": [
    {
     "name": "stdout",
     "output_type": "stream",
     "text": [
      "[[ 1.+2.j -1.+1.j]\n",
      " [ 2.+0.j  2.+1.j]]\n"
     ]
    }
   ],
   "source": [
    "a = np.array([[complex(1,2),complex(-1,1)],[2,complex(2,1)]])\n",
    "print(a)"
   ]
  },
  {
   "cell_type": "code",
   "execution_count": 7,
   "id": "c7d8a2b6",
   "metadata": {},
   "outputs": [
    {
     "name": "stdout",
     "output_type": "stream",
     "text": [
      "[[ 2. +1.j  0.5+1.j]\n",
      " [ 1. +3.j -2. +2.j]]\n"
     ]
    }
   ],
   "source": [
    "b= np.array([[complex(2,1),complex(0.5,1)],[complex(1,3),complex(-2,2)]])\n",
    "print(b)"
   ]
  },
  {
   "cell_type": "code",
   "execution_count": 8,
   "id": "6c62aa59",
   "metadata": {},
   "outputs": [
    {
     "data": {
      "text/plain": [
       "array([[-4. +3.j, -1.5-2.j],\n",
       "       [ 3. +9.j, -5. +4.j]])"
      ]
     },
     "execution_count": 8,
     "metadata": {},
     "output_type": "execute_result"
    }
   ],
   "source": [
    "# Multiplicamos las matrices \n",
    "np.matmul(a,b)"
   ]
  },
  {
   "cell_type": "code",
   "execution_count": 9,
   "id": "a92ec3cb",
   "metadata": {},
   "outputs": [
    {
     "data": {
      "text/plain": [
       "array([[-4. +3.j, -1.5-2.j],\n",
       "       [ 3. +9.j, -5. +4.j]])"
      ]
     },
     "execution_count": 9,
     "metadata": {},
     "output_type": "execute_result"
    }
   ],
   "source": [
    "# También las podemos multiplicar de la siguiente manera\n",
    "a@b"
   ]
  },
  {
   "cell_type": "markdown",
   "id": "7d4a77d1",
   "metadata": {},
   "source": [
    "## Producto de Kronecker.\n",
    "\n",
    "```{index} Kronecker product\n",
    "```\n",
    "\n",
    "Este tipo de multiplicación de matrices, también es un elemento muy importante cuando se estudian dos o más qubits en la computación cuántica. Este tipo de producto se puede definir de la siguiente manera.\n",
    "\n",
    "![](images/kroneker.PNG)\n",
    "\n",
    "En concreto se tiene lo siguiente:\n",
    "\n",
    "![](images/kroneker2.PNG)\n",
    "\n",
    "Para hacer esta operación, numpy también nos facilita mucho la tarea, veamos cómo mediante el siguiente ejemplo:"
   ]
  },
  {
   "cell_type": "code",
   "execution_count": 10,
   "id": "1bb38230",
   "metadata": {},
   "outputs": [
    {
     "data": {
      "text/plain": [
       "array([[0],\n",
       "       [1]])"
      ]
     },
     "execution_count": 10,
     "metadata": {},
     "output_type": "execute_result"
    }
   ],
   "source": [
    "a=np.array([[0],[1]])\n",
    "a"
   ]
  },
  {
   "cell_type": "code",
   "execution_count": 11,
   "id": "85e9fdaa",
   "metadata": {},
   "outputs": [
    {
     "data": {
      "text/plain": [
       "array([[1],\n",
       "       [0]])"
      ]
     },
     "execution_count": 11,
     "metadata": {},
     "output_type": "execute_result"
    }
   ],
   "source": [
    "b= np.array([[1],[0]])\n",
    "b"
   ]
  },
  {
   "cell_type": "code",
   "execution_count": 12,
   "id": "2f3d316d",
   "metadata": {},
   "outputs": [
    {
     "data": {
      "text/plain": [
       "array([[0],\n",
       "       [0],\n",
       "       [1],\n",
       "       [0]])"
      ]
     },
     "execution_count": 12,
     "metadata": {},
     "output_type": "execute_result"
    }
   ],
   "source": [
    "# El producto de Kronecker será\n",
    "np.kron(a,b)"
   ]
  },
  {
   "cell_type": "markdown",
   "id": "87ddb2ac",
   "metadata": {},
   "source": [
    "Si tuviéramos que multiplicar tres matrices con este procedimiento, lo haríamos de la siguiente manera "
   ]
  },
  {
   "cell_type": "code",
   "execution_count": 13,
   "id": "ce50256c",
   "metadata": {},
   "outputs": [
    {
     "data": {
      "text/plain": [
       "array([[1],\n",
       "       [0]])"
      ]
     },
     "execution_count": 13,
     "metadata": {},
     "output_type": "execute_result"
    }
   ],
   "source": [
    "c= np.array([[1],[0]])\n",
    "c"
   ]
  },
  {
   "cell_type": "markdown",
   "id": "059430df",
   "metadata": {},
   "source": [
    "Veamos cual sería el valor de \n",
    "\n",
    "$$c\\otimes b \\otimes a$$"
   ]
  },
  {
   "cell_type": "code",
   "execution_count": 14,
   "id": "3ba9c585",
   "metadata": {},
   "outputs": [
    {
     "data": {
      "text/plain": [
       "array([[0],\n",
       "       [1],\n",
       "       [0],\n",
       "       [0],\n",
       "       [0],\n",
       "       [0],\n",
       "       [0],\n",
       "       [0]])"
      ]
     },
     "execution_count": 14,
     "metadata": {},
     "output_type": "execute_result"
    }
   ],
   "source": [
    "np.kron(c,np.kron(b,a))"
   ]
  },
  {
   "cell_type": "markdown",
   "id": "55cea63c",
   "metadata": {},
   "source": [
    "Notar que lo anterior se ha podido hacer porque el producto de Kronecker (también llamado producto tensorial) tiene la propiedad asociativa, pero no la conmutativa.\n",
    "\n",
    "## Apéndice sobre los números complejos con Python.\n",
    "\n",
    "En este apartado se va a mostrar una serie de detalles importantes para  poder trabajar con solidez y soltura los números complejos en python.\n",
    "\n",
    "La forma más rápida de definir un número complejo en Python es escribiendo su literal directamente en el código fuente:"
   ]
  },
  {
   "cell_type": "code",
   "execution_count": 15,
   "id": "c3f0e1b2",
   "metadata": {},
   "outputs": [],
   "source": [
    "z= 3+2j"
   ]
  },
  {
   "cell_type": "markdown",
   "id": "0c81efa3",
   "metadata": {},
   "source": [
    "Aunque parece una fórmula algebraica, la expresión a la derecha del signo igual ya es un valor fijo que no necesita mayor evaluación. Cuando verifiques su tipo, confirmarás que efectivamente es un número complejo:"
   ]
  },
  {
   "cell_type": "code",
   "execution_count": 16,
   "id": "76961583",
   "metadata": {},
   "outputs": [
    {
     "data": {
      "text/plain": [
       "complex"
      ]
     },
     "execution_count": 16,
     "metadata": {},
     "output_type": "execute_result"
    }
   ],
   "source": [
    "type(z)"
   ]
  },
  {
   "cell_type": "markdown",
   "id": "023dd22d",
   "metadata": {},
   "source": [
    "Como bien se puede observar para que python reconozca que queremos definir un número complejo, es necesario añadir la letra \"j\" a continuación del segundo número.\n",
    "\n",
    "Veamos a continuación lo que ocurre cuando se introduce más términos en la suma."
   ]
  },
  {
   "cell_type": "code",
   "execution_count": 17,
   "id": "93b083aa",
   "metadata": {},
   "outputs": [
    {
     "data": {
      "text/plain": [
       "(8+12j)"
      ]
     },
     "execution_count": 17,
     "metadata": {},
     "output_type": "execute_result"
    }
   ],
   "source": [
    "3+2j+5+6j+4j"
   ]
  },
  {
   "cell_type": "markdown",
   "id": "e8fbc739",
   "metadata": {},
   "source": [
    "Podemos observar que python es lo suficientemente listo como para discriminar la parte real de la imaginaria y así hacer las suma correctamente. \n",
    "\n",
    "Otra forma de generar número complejos es utilizar una función incorporada en Python denominada *complex()* que se puede usar como alternativa a la forma presentada anteriormente."
   ]
  },
  {
   "cell_type": "code",
   "execution_count": 18,
   "id": "89d4ccc8",
   "metadata": {},
   "outputs": [
    {
     "name": "stdout",
     "output_type": "stream",
     "text": [
      "(3+2j)\n"
     ]
    }
   ],
   "source": [
    "z=complex(3,2)\n",
    "print(z)"
   ]
  },
  {
   "cell_type": "markdown",
   "id": "77e4b7de",
   "metadata": {},
   "source": [
    "De esta forma, se parece a una tupla o a un par ordenado de números ordinarios. La analogía no es tan descabellada, pues como bien es sabido, los números complejos tienen una interpretación geométrica en el sistema de coordenadas cartesiano. Puedes pensar en los números complejos como número bidimensionales.\n",
    "\n",
    "La función de *complex()* de números complejos acepta dos parámetros numéricos. El primero representa la parte real , mientras que el segundo representa la parte imaginaria denotada con la letra j del literal que viste antes:"
   ]
  },
  {
   "cell_type": "code",
   "execution_count": 19,
   "id": "7992f30d",
   "metadata": {},
   "outputs": [
    {
     "data": {
      "text/plain": [
       "True"
      ]
     },
     "execution_count": 19,
     "metadata": {},
     "output_type": "execute_result"
    }
   ],
   "source": [
    "complex(3, 2) == 3 + 2j"
   ]
  },
  {
   "cell_type": "markdown",
   "id": "6ce2c0a5",
   "metadata": {},
   "source": [
    "A la función *complex()* se le puede pasar como argumento un literal ( conteniendo la expresión de un número complejo) y python lo entenderá perfectamente (ojo, la cadena no puede contener ningún espacio en blanco)."
   ]
  },
  {
   "cell_type": "code",
   "execution_count": 20,
   "id": "feccb1a0",
   "metadata": {},
   "outputs": [
    {
     "data": {
      "text/plain": [
       "(3+5j)"
      ]
     },
     "execution_count": 20,
     "metadata": {},
     "output_type": "execute_result"
    }
   ],
   "source": [
    "complex(\"3+5j\")"
   ]
  },
  {
   "cell_type": "code",
   "execution_count": 21,
   "id": "734a80d4",
   "metadata": {},
   "outputs": [
    {
     "data": {
      "text/plain": [
       "complex"
      ]
     },
     "execution_count": 21,
     "metadata": {},
     "output_type": "execute_result"
    }
   ],
   "source": [
    "type(complex(3+5j))"
   ]
  },
  {
   "cell_type": "markdown",
   "id": "1adcd14e",
   "metadata": {},
   "source": [
    "Para acceder a la parte real e imaginaria de los número complejos en python, se deberá actuar de la siguiente manera"
   ]
  },
  {
   "cell_type": "code",
   "execution_count": 23,
   "id": "80a36054",
   "metadata": {},
   "outputs": [
    {
     "name": "stdout",
     "output_type": "stream",
     "text": [
      "número complejo: (4+5j)\n",
      "parte real:  4.0\n",
      "parte imaginaria:  5.0\n"
     ]
    }
   ],
   "source": [
    "z= 4+5j\n",
    "print(\"número complejo:\",z)\n",
    "z1=z.real\n",
    "print(\"parte real: \",z1)\n",
    "z2 = z.imag\n",
    "print(\"parte imaginaria: \",z2)"
   ]
  },
  {
   "cell_type": "markdown",
   "id": "fd5c8af2",
   "metadata": {},
   "source": [
    "Ambas propiedades son de solo lectura porque los números complejos son inmutables, por lo que intentar asignar un nuevo valor a cualquiera de ellos fallará:"
   ]
  },
  {
   "cell_type": "code",
   "execution_count": 25,
   "id": "0627bb3d",
   "metadata": {},
   "outputs": [
    {
     "ename": "AttributeError",
     "evalue": "readonly attribute",
     "output_type": "error",
     "traceback": [
      "\u001b[1;31m---------------------------------------------------------------------------\u001b[0m",
      "\u001b[1;31mAttributeError\u001b[0m                            Traceback (most recent call last)",
      "Cell \u001b[1;32mIn[25], line 1\u001b[0m\n\u001b[1;32m----> 1\u001b[0m z\u001b[38;5;241m.\u001b[39mreal \u001b[38;5;241m=\u001b[39m \u001b[38;5;241m4.57\u001b[39m\n",
      "\u001b[1;31mAttributeError\u001b[0m: readonly attribute"
     ]
    }
   ],
   "source": [
    "z.real = 4.57"
   ]
  },
  {
   "cell_type": "markdown",
   "id": "158d829b",
   "metadata": {},
   "source": [
    "El conjugado de un número complejo se puede obtener de la siguiente manera:"
   ]
  },
  {
   "cell_type": "code",
   "execution_count": 26,
   "id": "4d89072d",
   "metadata": {},
   "outputs": [
    {
     "data": {
      "text/plain": [
       "(4-5j)"
      ]
     },
     "execution_count": 26,
     "metadata": {},
     "output_type": "execute_result"
    }
   ],
   "source": [
    "z= 4+5j\n",
    "z.conjugate()"
   ]
  },
  {
   "cell_type": "markdown",
   "id": "494d92c0",
   "metadata": {},
   "source": [
    "Dado que *complex()* es un tipo de datos nativo en Python, puede conectar números complejos en expresiones aritméticas y llamar a muchas de las funciones integradas en ellas. Las funciones más avanzadas para números complejos se definen en el  <a href=\"https://docs.python.org/es/3/library/cmath.html\" target=\"_blank\"> módulo cmath </a>, que forma parte de la biblioteca estándar de python.\n",
    "\n",
    "Además de las sumas, restas, multiplicaciones y divisiones, que se realizan de forma tradicional como con otros tipos numéricos, también se permite la exponenciación tal y como se puede comprobar en los siguientes ejemplos:"
   ]
  },
  {
   "cell_type": "code",
   "execution_count": 27,
   "id": "d4c1f583",
   "metadata": {},
   "outputs": [
    {
     "data": {
      "text/plain": [
       "(2.9353115958928275+15.7284438465799j)"
      ]
     },
     "execution_count": 27,
     "metadata": {},
     "output_type": "execute_result"
    }
   ],
   "source": [
    "z=4+2j\n",
    "2**z"
   ]
  },
  {
   "cell_type": "code",
   "execution_count": 28,
   "id": "bdbed4b4",
   "metadata": {},
   "outputs": [
    {
     "data": {
      "text/plain": [
       "(2.0581710272714924+0.48586827175664565j)"
      ]
     },
     "execution_count": 28,
     "metadata": {},
     "output_type": "execute_result"
    }
   ],
   "source": [
    "z**0.5"
   ]
  },
  {
   "cell_type": "code",
   "execution_count": 29,
   "id": "af982e28",
   "metadata": {},
   "outputs": [
    {
     "data": {
      "text/plain": [
       "(21.758716390823256-156.74592048155935j)"
      ]
     },
     "execution_count": 29,
     "metadata": {},
     "output_type": "execute_result"
    }
   ],
   "source": [
    "z**z"
   ]
  },
  {
   "cell_type": "markdown",
   "id": "1aec2807",
   "metadata": {},
   "source": [
    "### Módulo cmatch\n",
    "\n",
    "Como ya se ha indicado anteriormente, este módulo permite realizar operaciones con números complejos, imposibles de hacer con las funciones que por defecto tiene definido python. Algunas de estas funcionalidades, las vamos a exponer en el presente apartado.\n",
    "\n",
    "Con este módulo podemos obtener la raíz cuadrada de números negativos, como por ejemplo"
   ]
  },
  {
   "cell_type": "code",
   "execution_count": 31,
   "id": "0026e8b1",
   "metadata": {},
   "outputs": [
    {
     "data": {
      "text/plain": [
       "1j"
      ]
     },
     "execution_count": 31,
     "metadata": {},
     "output_type": "execute_result"
    }
   ],
   "source": [
    "import cmath,math\n",
    "\n",
    "cmath.sqrt(-1)"
   ]
  },
  {
   "cell_type": "markdown",
   "id": "398e8ed6",
   "metadata": {},
   "source": [
    "Para poder extraer todas las raices cuadradas debemos hacer lo siguiente"
   ]
  },
  {
   "cell_type": "code",
   "execution_count": 39,
   "id": "4e967707",
   "metadata": {},
   "outputs": [
    {
     "data": {
      "text/plain": [
       "1.4142135623730951j"
      ]
     },
     "execution_count": 39,
     "metadata": {},
     "output_type": "execute_result"
    }
   ],
   "source": [
    "cmath.sqrt(complex(-2.0,0.0))"
   ]
  },
  {
   "cell_type": "code",
   "execution_count": 41,
   "id": "72fd385d",
   "metadata": {},
   "outputs": [
    {
     "data": {
      "text/plain": [
       "-1.4142135623730951j"
      ]
     },
     "execution_count": 41,
     "metadata": {},
     "output_type": "execute_result"
    }
   ],
   "source": [
    "cmath.sqrt(complex(-2.0,-0.0))"
   ]
  },
  {
   "cell_type": "markdown",
   "id": "8c9abfed",
   "metadata": {},
   "source": [
    "Pero como podemos observar por defecto no nos devuelve todas las raíces cuadradas, es decir no vamos a poder extraer todas las raíces de una ecuación de una sola vez, como por ejemplo las del polinomio siguiente $x^4+1$. Para poder obtener todas esas raíces se utiliza el paquete denominado numpy, y se haría para este caso de la siguiente manera:"
   ]
  },
  {
   "cell_type": "code",
   "execution_count": 32,
   "id": "f14ab8dc",
   "metadata": {},
   "outputs": [
    {
     "data": {
      "text/plain": [
       "array([-0.70710678+0.70710678j, -0.70710678-0.70710678j,\n",
       "        0.70710678+0.70710678j,  0.70710678-0.70710678j])"
      ]
     },
     "execution_count": 32,
     "metadata": {},
     "output_type": "execute_result"
    }
   ],
   "source": [
    "import numpy as np\n",
    "\n",
    "np.roots([1,0,0,0,1]) # son los coeficientes del polinomio anterior"
   ]
  },
  {
   "cell_type": "markdown",
   "id": "62dc223f",
   "metadata": {},
   "source": [
    "Puede resultar útil conocer las distintas formas de números complejos y sus sistemas de coordenadas. Como se puede ver, estas distintas formas ayudan a resolver problemas prácticos como por ejemplo  encontrar raíces complejas. En consecuencia, en la siguiente sección, se profundizará más en estos detalles."
   ]
  },
  {
   "attachments": {
    "image.png": {
     "image/png": "[encoded data removed]"
    }
   },
   "cell_type": "markdown",
   "id": "b1fd088a",
   "metadata": {},
   "source": [
    "### Conversión entre coordenadas rectangulares y polares.\n",
    "\n",
    "Como ya es sabido, un número complejo admite diferentes formas de representación. Una es la denominada forma binómica, que es la que se ha visto anteriormente, y otra la polar que estaría definida por el módulo del complejo ( distancia al origen) y el ángulo que se forma con el eje de abcisas, como se puede ver en la siguiente figura:\n",
    "\n",
    "![image.png](images/complejopolar.PNG)\n",
    "\n",
    "La propiedad que permite pasar un número complejo en forma binómica a forma polar es *polar*. Veamos el siguiente ejemplo."
   ]
  },
  {
   "cell_type": "code",
   "execution_count": 33,
   "id": "2320ec23",
   "metadata": {},
   "outputs": [
    {
     "data": {
      "text/plain": [
       "(3.605551275463989, 0.982793723247329)"
      ]
     },
     "execution_count": 33,
     "metadata": {},
     "output_type": "execute_result"
    }
   ],
   "source": [
    "z=2+3J\n",
    "cmath.polar(z)"
   ]
  },
  {
   "cell_type": "markdown",
   "id": "3a4976e4",
   "metadata": {},
   "source": [
    "El resultado que se nos devuelve en una tupla, donde el primer elemento es el módulo del complejo y el segundo el ángulo o la fase de ese número. Estos datos se pueden obtener también de la siguiente manera:"
   ]
  },
  {
   "cell_type": "code",
   "execution_count": 36,
   "id": "1b9d51ce",
   "metadata": {},
   "outputs": [
    {
     "name": "stdout",
     "output_type": "stream",
     "text": [
      "El valor del módulo es:  3.605551275463989\n",
      "La fase del número es:  0.982793723247329\n"
     ]
    }
   ],
   "source": [
    "modulo = abs(z)\n",
    "print(\"El valor del módulo es: \", modulo)\n",
    "fase = cmath.phase(z)\n",
    "print(\"La fase del número es: \", fase)"
   ]
  },
  {
   "cell_type": "markdown",
   "id": "022dcbfa",
   "metadata": {},
   "source": [
    "Para hacer la conversión inversa deberemos utilizar el método rect()*:"
   ]
  },
  {
   "cell_type": "code",
   "execution_count": 42,
   "id": "8848f92d",
   "metadata": {},
   "outputs": [
    {
     "name": "stdout",
     "output_type": "stream",
     "text": [
      "(2+2.9999999999999996j)\n"
     ]
    }
   ],
   "source": [
    "z = 2+3J\n",
    "z2 = cmath.polar(z)\n",
    "z3 = cmath.rect(z2[0],z2[1])\n",
    "print(z3)"
   ]
  },
  {
   "cell_type": "markdown",
   "id": "0d518081",
   "metadata": {},
   "source": [
    "Observar que el primer parámetro que se pasa a la función es el módulo del número complejo y de segundo la fase del mismo.\n",
    "\n",
    "Existen diferentes formatos para representar los números complejos. Algunas de estas formas, son las siguientes:\n",
    "\n",
    "* Algebraico\n",
    "\n",
    "* Geométrico\n",
    "\n",
    "* Trigonométrico\n",
    "\n",
    "* exponencial\n",
    "\n",
    "A continuación se muestra un código que sirve para ilustrar algunas instrucciones de Python para trabajar con estos formatos diferentes de números complejos."
   ]
  },
  {
   "cell_type": "code",
   "execution_count": 43,
   "id": "6be37636",
   "metadata": {},
   "outputs": [
    {
     "name": "stdout",
     "output_type": "stream",
     "text": [
      "3+2j\n",
      "3+2j\n",
      "3+2j\n",
      "3+2j\n"
     ]
    }
   ],
   "source": [
    "import cmath\n",
    "\n",
    "algebraic = 3 + 2j\n",
    "geometric = complex(3, 2)\n",
    "radius, angle = cmath.polar(algebraic)\n",
    "trigonometric = radius * (cmath.cos(angle) + 1j*cmath.sin(angle))\n",
    "exponential = radius * cmath.exp(1j*angle)\n",
    "\n",
    "for number in algebraic, geometric, trigonometric, exponential:\n",
    "    print(format(number, \"g\"))"
   ]
  },
  {
   "cell_type": "markdown",
   "id": "3283175f",
   "metadata": {},
   "source": [
    "Existe una notación que se utiliza mucho dentro del mundo de la programación cuántica, y esa expresión consiste en utilizar notación exponencial, y en concreto la denominada fórmula de Euler, que dice lo siguiente:\n",
    "\n",
    "$$e^{i\\theta}=cos(\\theta)+i\\cdot sen(\\theta)$$\n",
    "\n",
    "Así por ejemplo $e^{i\\pi}=cos(\\pi)+i\\cdot sen(\\pi)=-1+0\\cdot i$. Veamos cómo expresar lo anterior, desde un punto de vista de código python\n"
   ]
  },
  {
   "cell_type": "code",
   "execution_count": 46,
   "id": "0ea11a6c",
   "metadata": {},
   "outputs": [
    {
     "data": {
      "text/plain": [
       "(-1+1.2246467991473532e-16j)"
      ]
     },
     "execution_count": 46,
     "metadata": {},
     "output_type": "execute_result"
    }
   ],
   "source": [
    "cmath.exp(1j*np.pi)"
   ]
  },
  {
   "cell_type": "code",
   "execution_count": null,
   "id": "650981ed",
   "metadata": {},
   "outputs": [],
   "source": [
    "Comprobmeos que la parte real debe ser -1 y la imaginaria 0."
   ]
  },
  {
   "cell_type": "code",
   "execution_count": 49,
   "id": "f14e5929",
   "metadata": {},
   "outputs": [
    {
     "data": {
      "text/plain": [
       "(-1-0j)"
      ]
     },
     "execution_count": 49,
     "metadata": {},
     "output_type": "execute_result"
    }
   ],
   "source": [
    "cmath.cos(np.pi)"
   ]
  },
  {
   "cell_type": "code",
   "execution_count": 50,
   "id": "1637346b",
   "metadata": {},
   "outputs": [
    {
     "data": {
      "text/plain": [
       "(1.2246467991473532e-16-0j)"
      ]
     },
     "execution_count": 50,
     "metadata": {},
     "output_type": "execute_result"
    }
   ],
   "source": [
    "cmath.sin(np.pi)"
   ]
  },
  {
   "attachments": {
    "image.png": {
     "image/png": "[encoded data removed]"
    }
   },
   "cell_type": "markdown",
   "id": "dfd7a729",
   "metadata": {},
   "source": [
    "## Razones trigonométricas de angulos usuales.\n",
    "\n",
    "Por último y para terminar este apartado recordemos el valor de las funciones trigonométrica de los ángulos más utilizados:\n",
    "\n",
    "![image.png](images/angulosnotables.PNG)"
   ]
  },
  {
   "cell_type": "code",
   "execution_count": null,
   "id": "bc24ebfa",
   "metadata": {},
   "outputs": [],
   "source": []
  }
 ],
 "metadata": {
  "kernelspec": {
   "display_name": "Python 3 (ipykernel)",
   "language": "python",
   "name": "python3"
  },
  "language_info": {
   "codemirror_mode": {
    "name": "ipython",
    "version": 3
   },
   "file_extension": ".py",
   "mimetype": "text/x-python",
   "name": "python",
   "nbconvert_exporter": "python",
   "pygments_lexer": "ipython3",
   "version": "3.11.4"
  },
  "toc": {
   "base_numbering": 1,
   "nav_menu": {},
   "number_sections": true,
   "sideBar": true,
   "skip_h1_title": false,
   "title_cell": "Table of Contents",
   "title_sidebar": "Contents",
   "toc_cell": false,
   "toc_position": {
    "height": "calc(100% - 180px)",
    "left": "10px",
    "top": "150px",
    "width": "165px"
   },
   "toc_section_display": true,
   "toc_window_display": false
  },
  "varInspector": {
   "cols": {
    "lenName": 16,
    "lenType": 16,
    "lenVar": 40
   },
   "kernels_config": {
    "python": {
     "delete_cmd_postfix": "",
     "delete_cmd_prefix": "del ",
     "library": "var_list.py",
     "varRefreshCmd": "print(var_dic_list())"
    },
    "r": {
     "delete_cmd_postfix": ") ",
     "delete_cmd_prefix": "rm(",
     "library": "var_list.r",
     "varRefreshCmd": "cat(var_dic_list()) "
    }
   },
   "types_to_exclude": [
    "module",
    "function",
    "builtin_function_or_method",
    "instance",
    "_Feature"
   ],
   "window_display": false
  }
 },
 "nbformat": 4,
 "nbformat_minor": 5
}
