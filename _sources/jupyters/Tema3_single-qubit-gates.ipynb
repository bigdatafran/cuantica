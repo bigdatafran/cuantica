{
 "cells": [
  {
   "cell_type": "markdown",
   "metadata": {},
   "source": [
    "# Puertas cuánticas simples\n",
    "\n",
    "En la sección anterior vimos todos los estados posibles de un qubit. Vimos que los qubits podían representarse mediante vectores 2D, y que sus estados se limitan a la forma:\n",
    "\n",
    "$$ |q\\rangle = \\cos{\\tfrac{\\theta}{2}}|0\\rangle + e^{i\\phi}\\sin{\\tfrac{\\theta}{2}}|1\\rangle $$\n",
    "\n",
    "Donde $\\theta$ y $\\phi$ son números reales. En esta sección cubriremos las _puertas cuánticas,_ las operaciones que cambian un qubit entre estos estados. Debido al número de puertas y a las similitudes entre ellas, este capítulo corre el riesgo de convertirse en una lista. Para contrarrestarlo, hemos incluido algunas digresiones para introducir ideas importantes en lugares apropiados a lo largo del capítulo. \n",
    "\n",
    "En el [capítulo sobre computación](computacion) ya nos encontramos con algunas puertas cuánticas y las utilizamos para realizar un cálculo clásico. Una característica importante de los circuitos cuánticos es que, entre la inicialización de los qubits y su medición, las operaciones (puertas) son *_siempre_* reversibles. Estas puertas reversibles se pueden representarse como matrices y como rotaciones alrededor de la esfera de Bloch.   \n",
    "\n",
    "Como ya se ha hecho en capítulos anteriores, ejecutemos el siguiente código para tenerlos listo en pasos posteriores."
   ]
  },
  {
   "cell_type": "code",
   "execution_count": 1,
   "metadata": {
    "tags": [
     "thebelab-init"
    ]
   },
   "outputs": [],
   "source": [
    "from qiskit import QuantumCircuit, assemble, Aer\n",
    "from math import pi, sqrt\n",
    "from qiskit.visualization import plot_bloch_multivector, plot_histogram\n",
    "sim = Aer.get_backend('aer_simulator')"
   ]
  },
  {
   "cell_type": "markdown",
   "metadata": {},
   "source": [
    "## Las puertas de Pauli <a id=\"pauli\"></a>\n",
    "\n",
    "En este apartado veremos que las matrices de Pauli pueden representar algunas puertas cuánticas de uso muy común.\n",
    "\n",
    "### La puerta X-Gate <a id=\"xgate\"></a>\n",
    "\n",
    "La X-gate está representada por la matriz Pauli-X :\n",
    "\n",
    "$$ X = \\begin{bmatrix} 0 & 1 \\\\ 1 & 0 \\end{bmatrix} = |0\\rangle\\langle1| + |1\\rangle\\langle0| $$\n",
    "\n",
    "```{note}\n",
    "**NOTA:** Observar la notación $|0\\rangle\\langle1|$ realmente indica que el elemento (0,1) de la matriz es 1 y el resto, mientras que $|1\\rangle\\langle0|$ indica que el elemento (1,0) de la matriz es 1 y el resto ceros.\n",
    "```\n",
    "\n",
    "\n",
    "\n",
    "Para ver el efecto que tiene una puerta sobre un qubit, simplemente multiplicamos el vector estado del qubit por la puerta. Podemos ver que la puerta-X cambia las amplitudes de los estados $|0\\rangle$ y $|1\\rangle$:\n",
    "\n",
    "$$ X|0\\rangle = \\begin{bmatrix} 0 & 1 \\\\ 1 & 0 \\end{bmatrix}\\begin{bmatrix} 1 \\\\ 0 \\end{bmatrix} = \\begin{bmatrix} 0 \\\\ 1 \\end{bmatrix} = |1\\rangle$$\n",
    "\n"
   ]
  },
  {
   "cell_type": "markdown",
   "metadata": {},
   "source": [
    "\n",
    " **Recordatorio**: Multiplicación de un vector por una matriz (Click here to expand)</summary>\n",
    " \n",
    "La multiplicación de matrices es una generalización del producto interior que vimos en el capítulo anterior. En el caso concreto de multiplicar un vector por una matriz (como vimos anteriormente), siempre obtenemos un vector de vuelta: \n",
    " \n",
    "  \n",
    "    \n",
    "  $$ M|v\\rangle  = \\begin{bmatrix}a & b \\\\ c & d \\\\\\end{bmatrix}\\begin{bmatrix}v_0 \\\\ v_1 \\\\\\end{bmatrix}\n",
    "                = \\begin{bmatrix}a\\cdot v_0 + b \\cdot v_1 \\\\ c \\cdot v_0 + d \\cdot v_1\\end{bmatrix} $$\n",
    "      \n",
    "\n",
    "  En computación cuántica, podemos escribir nuestras matrices en términos de vectores base:\n",
    "\n",
    "  $$X = |0\\rangle\\langle1| + |1\\rangle\\langle0|$$\n",
    "  \n",
    "  Esto a veces puede ser más claro que utilizar una matriz de cajas, ya que podemos ver el resultado de diferentes multiplicaciones:\n",
    "  \n",
    "\n",
    "  $$\n",
    "      \\begin{aligned}\n",
    "      X|1\\rangle & = (|0\\rangle\\langle1| + |1\\rangle\\langle0|)|1\\rangle \\\\\n",
    "                 & = |0\\rangle\\langle1|1\\rangle + |1\\rangle\\langle0|1\\rangle \\\\\n",
    "                 & = |0\\rangle \\times 1 + |1\\rangle \\times 0 \\\\\n",
    "                 & = |0\\rangle\n",
    "      \\end{aligned}\n",
    "  $$\n",
    "  \n",
    "De hecho, cuando vemos un ket y un bra multiplicados así:\n",
    "\n",
    "  $$ |a\\rangle\\langle b| $$\n",
    "  \n",
    "  \n",
    "esto se denomina *outer product*, que sigue la siguiente regla:\n",
    "  \n",
    "  \n",
    "  $$\n",
    "      |a\\rangle\\langle b| = \n",
    "      \\begin{bmatrix}\n",
    "              a_0 b_0^* & a_0 b_1^* & \\dots  & a_0 b_n^*\\\\ \n",
    "              a_1 b_0^* & \\ddots  &        & \\vdots \\\\\n",
    "              \\vdots  &         & \\ddots & \\vdots \\\\\n",
    "              a_n b_0^* & \\dots   & \\dots  & a_n b_n^* \\\\\n",
    "      \\end{bmatrix}\n",
    "  $$\n",
    "  \n",
    "  donde $*$ significa el complejo conjugado. Podemos ver que esto da como resultado la X-matrix como vemos a continuación:\n",
    "  \n",
    "  $$\n",
    "      |0\\rangle\\langle1| + |1\\rangle\\langle0| = \n",
    "      \\begin{bmatrix}0 & 1 \\\\ 0 & 0 \\\\\\end{bmatrix} +\n",
    "      \\begin{bmatrix}0 & 0 \\\\ 1 & 0 \\\\\\end{bmatrix} = \n",
    "      \\begin{bmatrix}0 & 1 \\\\ 1 & 0 \\\\\\end{bmatrix} = X\n",
    "  $$\n"
   ]
  },
  {
   "cell_type": "markdown",
   "metadata": {},
   "source": [
    "En Qiskit, podemos crear un circuito para comprobarlo:"
   ]
  },
  {
   "cell_type": "code",
   "execution_count": 2,
   "metadata": {},
   "outputs": [
    {
     "data": {
      "image/png": "[encoded data removed]",
      "text/plain": [
       "<Figure size 185.453x117.056 with 1 Axes>"
      ]
     },
     "execution_count": 2,
     "metadata": {},
     "output_type": "execute_result"
    }
   ],
   "source": [
    "# Let's do an X-gate on a |0> qubit\n",
    "qc = QuantumCircuit(1)\n",
    "qc.x(0)\n",
    "qc.draw(output='mpl')"
   ]
  },
  {
   "cell_type": "markdown",
   "metadata": {},
   "source": [
    "Veamos el resultado del circuito anterior. **Nota:** Aquí usamos `plot_bloch_multivector()` que toma el vector estado de un qubit en lugar del vector Bloch."
   ]
  },
  {
   "cell_type": "code",
   "execution_count": 3,
   "metadata": {},
   "outputs": [
    {
     "name": "stderr",
     "output_type": "stream",
     "text": [
      "C:\\Users\\Francisco\\AppData\\Local\\Temp\\ipykernel_10444\\1045836840.py:4: DeprecationWarning: Using a qobj for run() is deprecated as of qiskit-aer 0.9.0 and will be removed no sooner than 3 months from that release date. Transpiled circuits should now be passed directly using `backend.run(circuits, **run_options).\n",
      "  state = sim.run(qobj).result().get_statevector()\n"
     ]
    },
    {
     "data": {
      "image/png": "[encoded data removed]",
      "text/plain": [
       "<Figure size 480x480 with 1 Axes>"
      ]
     },
     "execution_count": 3,
     "metadata": {},
     "output_type": "execute_result"
    }
   ],
   "source": [
    "# Let's see the result\n",
    "qc.save_statevector()\n",
    "qobj = assemble(qc)\n",
    "state = sim.run(qobj).result().get_statevector()\n",
    "plot_bloch_multivector(state)"
   ]
  },
  {
   "cell_type": "markdown",
   "metadata": {},
   "source": [
    "Podemos ver que el estado del qubit es $|1\\rangle$ como se esperaba. Podemos pensar en esto como una rotación de $\\pi$ radianes alrededor del *eje x* de la esfera de Bloch. La compuerta X también se suele llamar **compuerta NOT**, en referencia a su análogo clásico.\n",
    "\n",
    "###  Las puertas Y & Z   <a id=\"ynzgatez\"></a>\n",
    "\n",
    "Al igual que la puerta X, las matrices de Pauli Y y Z también actúan como puertas Y y Z en nuestros circuitos cuánticos:\n",
    "\n",
    "\n",
    "$$ Y = \\begin{bmatrix} 0 & -i \\\\ i & 0 \\end{bmatrix} \\quad\\quad\\quad\\quad Z = \\begin{bmatrix} 1 & 0 \\\\ 0 & -1 \\end{bmatrix} $$\n",
    "\n",
    "$$ Y = -i|0\\rangle\\langle1| + i|1\\rangle\\langle0| \\quad\\quad Z = |0\\rangle\\langle0| - |1\\rangle\\langle1| $$\n",
    "\n",
    "Y, como era de esperar, también realizan respectivamente rotaciones de $\\pi$ radianes alrededor de los ejes y y z de la esfera de Bloch.\n",
    "\n",
    "A continuación se muestra un widget que muestra el estado de un qubit en la esfera de Bloch, pulsando uno de los botones se realizará la puerta en el qubit:"
   ]
  },
  {
   "cell_type": "code",
   "execution_count": 4,
   "metadata": {},
   "outputs": [
    {
     "data": {
      "application/vnd.jupyter.widget-view+json": {
       "model_id": "943a84709224400abf2cdbb05269e6dc",
       "version_major": 2,
       "version_minor": 0
      },
      "text/plain": [
       "HBox(children=(Button(description='X', layout=Layout(height='3em', width='3em'), style=ButtonStyle()), Button(…"
      ]
     },
     "metadata": {},
     "output_type": "display_data"
    },
    {
     "data": {
      "application/vnd.jupyter.widget-view+json": {
       "model_id": "e05d5ce2515740df9a098be527ebe294",
       "version_major": 2,
       "version_minor": 0
      },
      "text/plain": [
       "Image(value=b'\\x89PNG\\r\\n\\x1a\\n\\x00\\x00\\x00\\rIHDR\\x00\\x00\\x01\\xe0\\x00\\x00\\x01\\xe0\\x08\\x06\\x00\\x00\\x00}\\xd4\\xbe…"
      ]
     },
     "metadata": {},
     "output_type": "display_data"
    }
   ],
   "source": [
    "# Run the code in this cell to see the widget\n",
    "from qiskit_textbook.widgets import gate_demo\n",
    "gate_demo(gates='pauli')"
   ]
  },
  {
   "cell_type": "markdown",
   "metadata": {},
   "source": [
    "En Qiskit, podemos aplicar las puertas Y y Z a nuestro circuito utilizando el siguiente código:"
   ]
  },
  {
   "cell_type": "code",
   "execution_count": 5,
   "metadata": {},
   "outputs": [
    {
     "data": {
      "image/png": "[encoded data removed]",
      "text/plain": [
       "<Figure size 519.897x117.056 with 1 Axes>"
      ]
     },
     "execution_count": 5,
     "metadata": {},
     "output_type": "execute_result"
    }
   ],
   "source": [
    "qc.y(0) # Do Y-gate on qubit 0\n",
    "qc.z(0) # Do Z-gate on qubit 0\n",
    "qc.draw(output='mpl')"
   ]
  },
  {
   "cell_type": "markdown",
   "metadata": {},
   "source": [
    "## Digresión: las bases X, Y & Z <a id=\"xyzbases\"></a>"
   ]
  },
  {
   "cell_type": "markdown",
   "metadata": {},
   "source": [
    "```{index} eigenvectors\n",
    "```\n",
    "**Recordatorio:** Valores y vectores (eigenvectores) propios de una matriz.\n",
    "\n",
    "Hemos visto que multiplicando un vector por una matriz se obtiene un vector:\n",
    "\n",
    "     \n",
    "$$\n",
    "    M|v\\rangle  = |v'\\rangle \\leftarrow \\text{vector nuevo}\n",
    "    $$\n",
    "    \n",
    "    \n",
    "Si elegimos los vectores y matrices adecuados, podemos encontrar un caso en el que esta multiplicación matricial sea lo mismo que hacer una multiplicación por un escalar:\n",
    "      \n",
    "$$\n",
    "    M|v\\rangle  = \\lambda|v\\rangle\n",
    "    $$\n",
    "\n",
    "(En la expresión de arriba, $M$ es una matriz, y $\\lambda$ es un escalar).  Para una matriz $M$, cualquier vector que tenga esta propiedad se denomina <i>vector propio</i> de $M$. Por ejemplo, los vectores propios de la matriz Z son los estados $|0\\rangle$ y $|1\\rangle$:\n",
    "\n",
    "$$\n",
    "      \\begin{aligned}\n",
    "      Z|0\\rangle & = |0\\rangle \\\\\n",
    "      Z|1\\rangle & = -|1\\rangle\n",
    "      \\end{aligned}\n",
    "      $$\n",
    "\n",
    "```{index} eigenstates\n",
    "```\n",
    "\n",
    "Dado que utilizamos vectores para describir el estado de nuestros qubits, en este contexto solemos llamar a estos vectores <i>eigenstates</i>. Los eigenvectores son muy importantes en la computación cuántica y es importante que los conozcas bien.\n"
   ]
  },
  {
   "cell_type": "markdown",
   "metadata": {},
   "source": [
    "También puede notar que la compuerta Z parece no tener ningún efecto sobre nuestro qubit cuando está en cualquiera de estos dos estados (esto se comprueba cuando se ejecuta el widget anterior, que se observa al ejecutar el código en jupyter notebook, pero no se puede observar cuando se ve este tema en HTML). Esto se debe a que los estados $|0\\rangle$ y $|1\\rangle$ son los dos _eigenstates_ de la compuerta Z. \n",
    "\n",
    "De hecho, la _base computacional_ (la base formada por los estados $|0\\rangle$ y $|1\\rangle$) se llama a menudo la *base Z*.  Esta no es la única base que podemos utilizar, una base popular es la base X, formada por los *eigenstates* de la puerta X. Llamamos a estos dos vectores $|0\\rangle$ y $|1\\rangle$. Llamamos a estos dos vectores $|+\\rangle$ y $|-\\rangle$:\n",
    "\n",
    "\n",
    "\n",
    "\n",
    "$$ |+\\rangle = \\tfrac{1}{\\sqrt{2}}(|0\\rangle + |1\\rangle) = \\tfrac{1}{\\sqrt{2}}\\begin{bmatrix} 1 \\\\ 1 \\end{bmatrix}$$\n",
    "\n",
    "$$ |-\\rangle = \\tfrac{1}{\\sqrt{2}}(|0\\rangle - |1\\rangle) = \\tfrac{1}{\\sqrt{2}}\\begin{bmatrix} 1 \\\\ -1 \\end{bmatrix} $$\n",
    "\n",
    "Otra base menos utilizada es la formada por los estados propios de la puerta Y. Estos se llaman:\n",
    "\n",
    "$$ |\\circlearrowleft\\rangle, \\quad |\\circlearrowright\\rangle$$\n",
    "\n",
    "Que también esta denotada como:\n",
    "\n",
    "$$ |i\\rangle, \\quad |-i\\rangle$$\n",
    "\n",
    "\n",
    "Con los siguientes valores\n",
    "\n",
    "$$|i\\rangle = \\tfrac{1}{\\sqrt{2}}(|0\\rangle + i|1\\rangle) = \\tfrac{1}{\\sqrt{2}}\\begin{bmatrix} 1 \\\\ i \\end{bmatrix} $$\n",
    "\n",
    "$$|-i\\rangle = \\tfrac{1}{\\sqrt{2}}(|0\\rangle - i|1\\rangle) = \\tfrac{1}{\\sqrt{2}}\\begin{bmatrix} 1 \\\\ -i \\end{bmatrix}$$\n",
    "\n",
    "Dejamos como ejercicio el calcularlas. De hecho, hay un número infinito de bases; para formar una, simplemente necesitamos dos vectores ortonormales. Los vectores propios de las matrices hermitianas y unitarias forman una base para el espacio vectorial. Debido a esta propiedad, podemos estar seguros de que los estados propios de la puerta X y la puerta Y forman una base para los estados de 1 qubit.\n",
    "\n",
    "**NOTA**. Hay que tener en cuenta que los qubits forman un espacio vectorial, y que todo esto que estamos comentando, realmente son cambios de base de un espacio vectorial. Por lo tanto la teoría subyacente a todo esto está en cómo se cambia de base en estos espacios vectoriales. Para que el lector tenga una idea de cómo va este procedimiento se le invita a <a href=\"https://www.ugr.es/~lmerino/2-2.html\" target=\"_blank\"> leer este enlace </a>. \n",
    "\n",
    "\n",
    "### Quick Ejercicios\n",
    "\n",
    "1. Verificar que $|+\\rangle$ and $|-\\rangle$ son en efecto eigenstates de la puerta X-gate.\n",
    "\n",
    "2. Qué eigenvalues tienen? \n",
    "\n",
    "3. Encontrar los eigenstates de la puerta Y-gate, y sus coordenadas en la esfera de Bloch.\n",
    "\n",
    "Usando sólo las puertas de Pauli es imposible mover nuestro qubit inicializado a cualquier estado que no sea $|0\\rangle$ o $|1\\rangle$, es decir, no podemos lograr la superposición. Esto significa que no podemos ver un comportamiento diferente al de un bit clásico. Para crear estados más interesantes necesitaremos más puertas cuánticas.\n",
    "\n",
    "\n",
    "\n",
    "##  La puerta de Hadamard  <a id=\"hgate\"></a>\n",
    "\n",
    "La puerta de Hadamard (puerta H) es una puerta cuántica fundamental. Nos permite alejarnos de los polos de la esfera de Bloch y crear una superposición de $|0\\rangle$ y $|1\\rangle$. Tiene la siguiente matriz\n",
    "\n",
    "$$ H = \\tfrac{1}{\\sqrt{2}}\\begin{bmatrix} 1 & 1 \\\\ 1 & -1 \\end{bmatrix} $$\n",
    "\n",
    "Podemos ver que esto realiza las transformaciones de abajo:\n",
    "\n",
    "$$ H|0\\rangle = |+\\rangle $$\n",
    "\n",
    "$$ H|1\\rangle = |-\\rangle $$\n",
    "\n",
    "Esto puede considerarse como una rotación alrededor del vector de Bloch `[1,0,1]` (la línea entre los ejes x y z), o como una transformación del estado del qubit entre las bases X y Z.\n",
    "\n",
    "Puedes jugar con estas puertas utilizando el widget que aparece a continuación (**NOTA**: si el código que sigue se ve en HTML, como ocurre en cualquier otro widget, no se puede apreciar el resultado, pues éste no va a ser dinámico en ese contexto. Para verlo de forma adecuada, se recomienda ejecutar el código en jupyter notebook):"
   ]
  },
  {
   "cell_type": "code",
   "execution_count": 6,
   "metadata": {},
   "outputs": [
    {
     "data": {
      "application/vnd.jupyter.widget-view+json": {
       "model_id": "f5714df7068742cab02cb839c453807d",
       "version_major": 2,
       "version_minor": 0
      },
      "text/plain": [
       "HBox(children=(Button(description='X', layout=Layout(height='3em', width='3em'), style=ButtonStyle()), Button(…"
      ]
     },
     "metadata": {},
     "output_type": "display_data"
    },
    {
     "data": {
      "application/vnd.jupyter.widget-view+json": {
       "model_id": "6b4345cc01904d27bc907afaf638dac6",
       "version_major": 2,
       "version_minor": 0
      },
      "text/plain": [
       "Image(value=b'\\x89PNG\\r\\n\\x1a\\n\\x00\\x00\\x00\\rIHDR\\x00\\x00\\x01\\xe0\\x00\\x00\\x01\\xe0\\x08\\x06\\x00\\x00\\x00}\\xd4\\xbe…"
      ]
     },
     "metadata": {},
     "output_type": "display_data"
    }
   ],
   "source": [
    "# Run the code in this cell to see the widget\n",
    "from qiskit_textbook.widgets import gate_demo\n",
    "gate_demo(gates='pauli+h')"
   ]
  },
  {
   "cell_type": "markdown",
   "metadata": {},
   "source": [
    "### Quick Ejercicios\n",
    "\n",
    "1.Escribe la puerta H-gate como un outer products de los vectores $|0\\rangle$, $|1\\rangle$, $|+\\rangle$ and $|-\\rangle$.\n",
    "\n",
    "2. Demuestre que aplicando la secuencia de puertas: HZH, a cualquier estado qubit es equivalente a aplicar una puerta X-gate.\n",
    "\n",
    "3. Encontrar una combinación de puertas X, Z and H-gates que sea equivalente a la puerta Y-gate (ignorando la fase global).\n",
    "\n",
    "## Digresion: Medidas en bases diferentes  <a id=\"measuring\"></a>\n",
    "\n",
    "Hemos visto que la base Z no es intrínsecamente especial, y que hay infinitas bases más. Del mismo modo con la medición, no siempre tenemos que medir en la base computacional (la base Z), podemos medir nuestros qubits en cualquier base.\n",
    "\n",
    "Como ejemplo, probemos a medir en la base X. Podemos calcular la probabilidad de medir $|+\\rangle$ o $|-\\rangle$:\n",
    "\n",
    "$$ p(|+\\rangle) = |\\langle+|q\\rangle|^2, \\quad p(|-\\rangle) = |\\langle-|q\\rangle|^2 $$\n",
    "\n",
    "Y después de la medición, la superposición se destruye. Como Qiskit sólo permite medir en la base Z, debemos crear la nuestra utilizando puertas Hadamard:"
   ]
  },
  {
   "cell_type": "code",
   "execution_count": 7,
   "metadata": {},
   "outputs": [
    {
     "data": {
      "image/png": "[encoded data removed]",
      "text/plain": [
       "<Figure size 436.286x200.667 with 1 Axes>"
      ]
     },
     "execution_count": 7,
     "metadata": {},
     "output_type": "execute_result"
    }
   ],
   "source": [
    "# Create the X-measurement function:\n",
    "def x_measurement(qc, qubit, cbit):\n",
    "    \"\"\"Measure 'qubit' in the X-basis, and store the result in 'cbit'\"\"\"\n",
    "    qc.h(qubit)\n",
    "    qc.measure(qubit, cbit)\n",
    "    return qc\n",
    "\n",
    "initial_state = [1/sqrt(2), -1/sqrt(2)]\n",
    "# Initialize our qubit and measure it\n",
    "qc = QuantumCircuit(1,1)\n",
    "qc.initialize(initial_state, 0)\n",
    "x_measurement(qc, 0, 0)  # measure qubit 0 to classical bit 0\n",
    "qc.draw(output='mpl')"
   ]
  },
  {
   "cell_type": "markdown",
   "metadata": {},
   "source": [
    "En los ejercicios rápidos anteriores, vimos que podíamos crear una puerta X intercalando nuestra puerta Z entre dos puertas H:\n",
    "\n",
    "\n",
    "$$ X = HZH $$\n",
    "\n",
    "Empezando en la base Z, la puerta H cambia nuestro qubit a la base X, la puerta Z realiza un NOT en la base X, y la puerta H final devuelve nuestro qubit a la base Z. Podemos comprobar que siempre se comporta como una puerta-X multiplicando las matrices:\n",
    "\n",
    "\n",
    "$$\n",
    "HZH =\n",
    "\\tfrac{1}{\\sqrt{2}}\\begin{bmatrix} 1 & 1 \\\\ 1 & -1 \\end{bmatrix}\n",
    "\\begin{bmatrix} 1 & 0 \\\\ 0 & -1 \\end{bmatrix}\n",
    "\\tfrac{1}{\\sqrt{2}}\\begin{bmatrix} 1 & 1 \\\\ 1 & -1 \\end{bmatrix}\n",
    "=\n",
    "\\begin{bmatrix} 0 & 1 \\\\ 1 & 0 \\end{bmatrix}\n",
    "=X\n",
    "$$\n",
    "\n",
    "Siguiendo la misma lógica, hemos creado una medición X transformando de la base X a la base Z antes de nuestra medición. Dado que el proceso de medición puede tener diferentes efectos dependiendo del sistema (por ejemplo, algunos sistemas siempre devuelven el qubit a $|0\\rangle$ después de la medición, mientras que otros pueden dejarlo como el estado medido), el estado del qubit post-medición es indefinido y debemos restablecerlo si queremos utilizarlo de nuevo.\n",
    "\n",
    "Hay otra forma de ver por qué la puerta de Hadamard nos lleva efectivamente de la base Z a la base X. Supongamos que el qubit que queremos medir en la base X está en el estado (normalizado) $a |0\\rangle + b |1\\rangle$. Para medirlo en base X, primero expresamos el estado como una combinación lineal de $|+\\rangle$ y $|-\\rangle$. Utilizando las relaciones $|0\\\\rangle = \\frac{|+\\rangle + |-\\rangle}{\\sqrt{2}}$ y $|1\\rangle = \\frac{|+\\rangle - |-\\rangle}{\\sqrt{2}}$, el estado se convierte en $\\frac{a + b}{\\sqrt{2}}|+\\rangle + \\frac{a - b}{\\sqrt{2}}|-\\rangle$. Obsérvese que las amplitudes de probabilidad en base X pueden obtenerse aplicando una matriz de Hadamard sobre el vector de estado expresado en base Z.\n",
    "\n",
    "Veamos a continuación el resultado obtenido"
   ]
  },
  {
   "cell_type": "code",
   "execution_count": 8,
   "metadata": {},
   "outputs": [
    {
     "name": "stderr",
     "output_type": "stream",
     "text": [
      "C:\\Users\\Francisco\\AppData\\Local\\Temp\\ipykernel_10444\\1677050563.py:2: DeprecationWarning: Using a qobj for run() is deprecated as of qiskit-aer 0.9.0 and will be removed no sooner than 3 months from that release date. Transpiled circuits should now be passed directly using `backend.run(circuits, **run_options).\n",
      "  counts = sim.run(qobj).result().get_counts()  # Do the simulation, returning the state vector\n"
     ]
    },
    {
     "data": {
      "image/png": "[encoded data removed]",
      "text/plain": [
       "<Figure size 700x500 with 1 Axes>"
      ]
     },
     "execution_count": 8,
     "metadata": {},
     "output_type": "execute_result"
    }
   ],
   "source": [
    "qobj = assemble(qc)  # Assemble circuit into a Qobj that can be run\n",
    "counts = sim.run(qobj).result().get_counts()  # Do the simulation, returning the state vector\n",
    "plot_histogram(counts)  # Display the output on measurement of state vector"
   ]
  },
  {
   "cell_type": "markdown",
   "metadata": {},
   "source": [
    "Inicializamos nuestro qubit en el estado $|-\\rangle$, pero podemos ver que, después de la medición, hemos colapsado nuestro qubit al estado $|1\\rangle$. Si ejecutamos la célula de nuevo, veremos el mismo resultado, ya que a lo largo de la base X, el estado $|-\\rangle$ es un estado base y medirlo a lo largo de X siempre dará el mismo resultado.\n",
    "\n",
    "Otra forma de ver esto es utilizando la teoría de <a href=\"https://www.ugr.es/~lmerino/2-2.html\" target=\"_blank\"> cambio de base de un espacio vectorial </a>. Según esto, debemos tener la matriz de cambio de base de base-Z a base-X es la matriz que define la puerta de Hadamard, por lo tanto se tiene lo siguiente:\n",
    "\n",
    "$$\\frac{1}{\\sqrt(2)}\\left[\\begin{array}{cc}\n",
    "1 & 1\\\\\n",
    "1 & -1\n",
    "\\end{array}\\right]\\left[\\begin{array}{c}\n",
    "\\frac{1}{\\sqrt{2}}\\\\\n",
    "-\\frac{1}{\\sqrt{2}}\n",
    "\\end{array}\\right]=\\frac{1}{\\sqrt{2}}\\left[\\begin{array}{c}\n",
    "0\\\\\n",
    "\\frac{2}{\\sqrt{2}}\n",
    "\\end{array}\\right]=\\left[\\begin{array}{c}\n",
    "0\\\\\n",
    "1\n",
    "\\end{array}\\right]$$\n",
    "\n",
    "Es decir el qubit colapsa al segundo qubit en una base-X\n",
    "\n",
    "### Quick Ejercicios \n",
    "\n",
    "1.-Si inicializamos nuestro qubit en el estado $|+\\rangle$, ¿cuál es la probabilidad de medirlo en el estado $|-\\rangle$?\n",
    "\n",
    "2.- Usa Qiskit para mostrar la probabilidad de medir un qubit $|0\\rangle$ en los estados $|+\\rangle$ y $|-\\rangle$ (**Pista:** puede que quieras usar `.get_counts()` y `plot_histogram()`).\n",
    "\n",
    "3.- Intenta crear una función que mida en la base Y\n",
    "\n",
    "La medición en bases diferentes nos permite ver en acción el famoso *principio de incertidumbre de Heisenberg*. La certeza de medir un estado en la base Z elimina toda certeza de medir un estado específico en la base X, y viceversa. Un error común es pensar que la incertidumbre se debe a los límites de nuestro equipo, pero aquí podemos ver que la incertidumbre es en realidad parte de la naturaleza del qubit. \n",
    "\n",
    "Por ejemplo, si ponemos nuestro qubit en el estado $|0\\rangle$, nuestra medida en la base Z será con certeza $|0\\rangle$, ¡pero nuestra medida en la base X será completamente aleatoria! Del mismo modo, si ponemos nuestro qubit en el estado $|-\\rangle$, nuestra medida en la base X es seguro que es $|-\\rangle$, pero ahora cualquier medida en la base Z será completamente aleatoria.\n",
    "\n",
    "En términos más generales: *Sea cual sea el estado de nuestro sistema cuántico, siempre hay una medición que tiene un resultado determinista*.\n",
    "\n",
    "La introducción de la puerta H nos ha permitido explorar algunos fenómenos interesantes, pero todavía estamos muy limitados en nuestras operaciones cuánticas. Introduzcamos ahora un nuevo tipo de puerta:\n",
    "\n",
    "\n",
    "## La puerta P-gate  <a id=\"rzgate\"></a>\n",
    "\n",
    "La puerta P (puerta de fase) está parametrizada, es decir, necesita un número ($\\phi$) para saber exactamente qué hacer. La puerta-P realiza una rotación de $\\phi$ alrededor de la dirección del eje Z. Tiene la forma de matriz:\n",
    "\n",
    "\n",
    "$$\n",
    "P(\\phi) = \\begin{bmatrix} 1 & 0 \\\\ 0 & e^{i\\phi} \\end{bmatrix}\n",
    "$$\n",
    "\n",
    "Donde $\\phi$ es un número real.\n",
    "\n",
    "Puede utilizar el widget de abajo para jugar con el P-gate, especifique $\\phi$ utilizando el control deslizante (NOTA: como ya se ha dicho anteriormente, este widget se puede ver funcionando en un jupyter notebook, pero no en HTML):"
   ]
  },
  {
   "cell_type": "code",
   "execution_count": 9,
   "metadata": {
    "scrolled": true
   },
   "outputs": [
    {
     "data": {
      "application/vnd.jupyter.widget-view+json": {
       "model_id": "97883cadcb994994b89997636a870cad",
       "version_major": 2,
       "version_minor": 0
      },
      "text/plain": [
       "VBox(children=(HBox(children=(Button(description='X', layout=Layout(height='3em', width='3em'), style=ButtonSt…"
      ]
     },
     "metadata": {},
     "output_type": "display_data"
    },
    {
     "data": {
      "application/vnd.jupyter.widget-view+json": {
       "model_id": "97af252a3c3740059ad16331f69cab72",
       "version_major": 2,
       "version_minor": 0
      },
      "text/plain": [
       "Image(value=b'\\x89PNG\\r\\n\\x1a\\n\\x00\\x00\\x00\\rIHDR\\x00\\x00\\x01\\xe0\\x00\\x00\\x01\\xe0\\x08\\x06\\x00\\x00\\x00}\\xd4\\xbe…"
      ]
     },
     "metadata": {},
     "output_type": "display_data"
    }
   ],
   "source": [
    "# Run the code in this cell to see the widget\n",
    "from qiskit_textbook.widgets import gate_demo\n",
    "gate_demo(gates='pauli+h+p')"
   ]
  },
  {
   "cell_type": "markdown",
   "metadata": {},
   "source": [
    "En Qiskit, especificamos una puerta P utilizando `p(phi, qubit)`.:"
   ]
  },
  {
   "cell_type": "code",
   "execution_count": 10,
   "metadata": {},
   "outputs": [
    {
     "data": {
      "image/png": "[encoded data removed]",
      "text/plain": [
       "<Figure size 185.453x117.056 with 1 Axes>"
      ]
     },
     "execution_count": 10,
     "metadata": {},
     "output_type": "execute_result"
    }
   ],
   "source": [
    "qc = QuantumCircuit(1)\n",
    "qc.p(pi/4, 0)\n",
    "qc.draw(output='mpl')"
   ]
  },
  {
   "cell_type": "markdown",
   "metadata": {},
   "source": [
    "Usted puede notar que la puerta Z es un caso especial de la puerta P, con $\\phi = \\pi$. De hecho, hay tres puertas más comúnmente mencionados que vamos a mencionar en este capítulo, todos los cuales son casos especiales de la P-puerta:\n",
    "\n",
    "## Las puertas I, S y T-gates  <a id=\"istgates\"></a>\n",
    "\n",
    "### La puerta I-gate  <a id=\"igate\"></a>\n",
    "\n",
    "En primer lugar está la puerta I (también conocida como \"puerta Id\" o \"puerta de identidad\"). Se trata simplemente de una puerta que no hace nada. Su matriz es la matriz de identidad:\n",
    "\n",
    "$$\n",
    "I = \\begin{bmatrix} 1 & 0 \\\\ 0 & 1\\end{bmatrix}\n",
    "$$\n",
    "\n",
    "Aplicar la puerta de identidad en cualquier parte de tu circuito no debería tener ningún efecto sobre el estado del qubit, por lo que es interesante que incluso se considere una puerta. Hay dos razones principales detrás de esto, una es que a menudo se utiliza en los cálculos, por ejemplo: demostrar que la puerta X es su propia inversa:\n",
    "\n",
    "\n",
    "$$ I = XX $$\n",
    "\n",
    "La segunda es que a menudo resulta útil especificar una operación de \"no hacer nada\" o \"ninguna\" cuando se trata de hardware real.\n",
    "\n",
    "#### Quick Ejercicios\n",
    "\n",
    "1. Cuales son los eigenstates of the I-gate?\n",
    "\n",
    "### La puerta S-gates  <a id=\"sgate\"></a>\n",
    "\n",
    "La siguiente puerta a mencionar es la puerta S (a veces conocida también como la puerta  $\\sqrt{Z}$-gate). Esta puerta es una puerta P-gate con $\\phi = \\pi/2$. Da un cuarto de vuelta alrededor de la esfera de Bloch. Es importante señalar que, a diferencia de todas las puertas presentadas hasta ahora en este capítulo  la puerta-S no es su propia inversa!.Como resultado, a menudo verá el S<sup>†</sup>-gate, (también “S-dagger”, “Sdg” o $\\sqrt{Z}^\\dagger$-gate). La puerta S<sup>†</sup>-gate es claramente una puerta P-gate with $\\phi = -\\pi/2$:\n",
    "\n",
    "  \n",
    "\n",
    "$$ S = \\begin{bmatrix} 1 & 0 \\\\ 0 & e^{\\frac{i\\pi}{2}} \\end{bmatrix}, \\quad  S^\\dagger = \\begin{bmatrix} 1 & 0 \\\\ 0 & e^{-\\frac{i\\pi}{2}} \\end{bmatrix}$$\n",
    "\n",
    "\n",
    "El nombre  \"$\\sqrt{Z}$-gate\" se debe a que se aplican sucesivamente dos puertas S-gates tiene el mismo efecto que una puerta Z-gate:\n",
    "\n",
    "$$ SS|q\\rangle = Z|q\\rangle $$\n",
    "\n",
    "Esta notación es común en toda la computación cuántica.\n",
    "\n",
    "Para añadir uan puerta S-gate en Qiskit, se hace de la siguiente manera:"
   ]
  },
  {
   "cell_type": "code",
   "execution_count": 11,
   "metadata": {},
   "outputs": [
    {
     "data": {
      "image/png": "[encoded data removed]",
      "text/plain": [
       "<Figure size 269.064x117.056 with 1 Axes>"
      ]
     },
     "execution_count": 11,
     "metadata": {},
     "output_type": "execute_result"
    }
   ],
   "source": [
    "qc = QuantumCircuit(1)\n",
    "qc.s(0)   # Apply S-gate to qubit 0\n",
    "qc.sdg(0) # Apply Sdg-gate to qubit 0\n",
    "qc.draw(output='mpl')"
   ]
  },
  {
   "cell_type": "markdown",
   "metadata": {},
   "source": [
    "### La puerta T-gate <a id=\"tgate\"></a>\n",
    "\n",
    "\n",
    "\n",
    "La compuerta T-gate es una compuerta muy utilizada, es una puerta P-gate con $\\phi = \\pi/4$:\n",
    "\n",
    "$$ T = \\begin{bmatrix} 1 & 0 \\\\ 0 & e^{\\frac{i\\pi}{4}} \\end{bmatrix}, \\quad  T^\\dagger = \\begin{bmatrix} 1 & 0 \\\\ 0 & e^{-\\frac{i\\pi}{4}} \\end{bmatrix}$$\n",
    "\n",
    "Como en el caso de la puerta S-gate, la puerta T-gate es a veces también conocida como la puerta  $\\sqrt[4]{Z}$-gate.\n",
    "\n",
    "En Qiskit se utiliza de la siguiente manera:"
   ]
  },
  {
   "cell_type": "code",
   "execution_count": 12,
   "metadata": {
    "scrolled": true
   },
   "outputs": [
    {
     "data": {
      "image/png": "[encoded data removed]",
      "text/plain": [
       "<Figure size 269.064x117.056 with 1 Axes>"
      ]
     },
     "execution_count": 12,
     "metadata": {},
     "output_type": "execute_result"
    }
   ],
   "source": [
    "qc = QuantumCircuit(1)\n",
    "qc.t(0)   # Apply T-gate to qubit 0\n",
    "qc.tdg(0) # Apply Tdg-gate to qubit 0\n",
    "qc.draw(output='mpl')"
   ]
  },
  {
   "cell_type": "markdown",
   "metadata": {},
   "source": [
    "Puedes utilizar el widget que aparece a continuación para jugar con todas las puertas introducidas hasta ahora en este capítulo:"
   ]
  },
  {
   "cell_type": "code",
   "execution_count": 13,
   "metadata": {},
   "outputs": [
    {
     "data": {
      "application/vnd.jupyter.widget-view+json": {
       "model_id": "367ea4f196324c06a11f3097f04411bb",
       "version_major": 2,
       "version_minor": 0
      },
      "text/plain": [
       "VBox(children=(HBox(children=(Button(description='I', layout=Layout(height='3em', width='3em'), style=ButtonSt…"
      ]
     },
     "metadata": {},
     "output_type": "display_data"
    },
    {
     "data": {
      "application/vnd.jupyter.widget-view+json": {
       "model_id": "367197c00a654459bf145aebd0fb09a5",
       "version_major": 2,
       "version_minor": 0
      },
      "text/plain": [
       "Image(value=b'\\x89PNG\\r\\n\\x1a\\n\\x00\\x00\\x00\\rIHDR\\x00\\x00\\x01\\xe0\\x00\\x00\\x01\\xe0\\x08\\x06\\x00\\x00\\x00}\\xd4\\xbe…"
      ]
     },
     "metadata": {},
     "output_type": "display_data"
    }
   ],
   "source": [
    "# Run the code in this cell to see the widget\n",
    "from qiskit_textbook.widgets import gate_demo\n",
    "gate_demo()"
   ]
  },
  {
   "cell_type": "markdown",
   "metadata": {},
   "source": [
    "## La puerta U-gate  <a id=\"generalU\"></a>\n",
    "\n",
    "Como hemos visto antes, las puertas I, Z, S y T eran casos especiales de la puerta P, más general. Del mismo modo, la puerta U es la más general de todas las puertas cuánticas de un solo qubit. Es una puerta parametrizada de la forma:\n",
    "\n",
    "\n",
    "$$\n",
    "U(\\theta, \\phi, \\lambda) = \\begin{bmatrix} \\cos(\\frac{\\theta}{2}) & -e^{i\\lambda}\\sin(\\frac{\\theta}{2}) \\\\\n",
    "            e^{i\\phi}\\sin(\\frac{\\theta}{2}) & e^{i(\\phi+\\lambda)}\\cos(\\frac{\\theta}{2})\n",
    "     \\end{bmatrix}\n",
    "$$\n",
    "\n",
    "Cada puerta de este capítulo podría especificarse como $U(\\theta,\\phi,\\lambda)$, pero es inusual ver esto en un diagrama de circuito, posiblemente debido a la dificultad para leerlo.\n",
    "\n",
    "\n",
    "Como ejemplo, vemos algunos casos específicos de la puerta U en los que es equivalente a la puerta H y a la puerta P, respectivamente.\n",
    "\n",
    "$$\n",
    "\\begin{aligned}\n",
    "U(\\tfrac{\\pi}{2}, 0, \\pi) = \\tfrac{1}{\\sqrt{2}}\\begin{bmatrix} 1 & 1 \\\\\n",
    "            1 & -1\n",
    "     \\end{bmatrix} = H\n",
    "& \\quad &\n",
    "U(0, 0, \\lambda) = \\begin{bmatrix} 1 & 0 \\\\\n",
    "            0 & e^{i\\lambda}\\\\\n",
    "     \\end{bmatrix} = P\n",
    "\\end{aligned}\n",
    "$$"
   ]
  },
  {
   "cell_type": "code",
   "execution_count": 14,
   "metadata": {},
   "outputs": [
    {
     "data": {
      "image/png": "[encoded data removed]",
      "text/plain": [
       "<Figure size 185.453x117.056 with 1 Axes>"
      ]
     },
     "execution_count": 14,
     "metadata": {},
     "output_type": "execute_result"
    }
   ],
   "source": [
    "# Let's have U-gate transform a |0> to |+> state\n",
    "qc = QuantumCircuit(1)\n",
    "qc.u(pi/2, 0, pi, 0)\n",
    "qc.draw(output='mpl')"
   ]
  },
  {
   "cell_type": "code",
   "execution_count": 15,
   "metadata": {},
   "outputs": [
    {
     "name": "stderr",
     "output_type": "stream",
     "text": [
      "C:\\Users\\Francisco\\AppData\\Local\\Temp\\ipykernel_10444\\1045836840.py:4: DeprecationWarning: Using a qobj for run() is deprecated as of qiskit-aer 0.9.0 and will be removed no sooner than 3 months from that release date. Transpiled circuits should now be passed directly using `backend.run(circuits, **run_options).\n",
      "  state = sim.run(qobj).result().get_statevector()\n"
     ]
    },
    {
     "data": {
      "image/png": "[encoded data removed]",
      "text/plain": [
       "<Figure size 480x480 with 1 Axes>"
      ]
     },
     "execution_count": 15,
     "metadata": {},
     "output_type": "execute_result"
    }
   ],
   "source": [
    "# Let's see the result\n",
    "qc.save_statevector()\n",
    "qobj = assemble(qc)\n",
    "state = sim.run(qobj).result().get_statevector()\n",
    "plot_bloch_multivector(state)"
   ]
  },
  {
   "cell_type": "markdown",
   "metadata": {},
   "source": [
    "Debería ser obvio que hay un número infinito de puertas posibles, y que esto también incluye R<sub>x</sub> y R<sub>y</sub>-gates, aunque no se mencionan aquí. También debe tenerse en cuenta que no hay nada especial acerca de la base Z, excepto que ha sido seleccionada como la base de cálculo estándar. Qiskit también proporciona el equivalente X de las puertas S y Sd, es decir, la puerta SX y la puerta SXd, respectivamente. Estas compuertas dan un cuarto de vuelta con respecto al eje X alrededor de la esfera de Bloch y son un caso especial de la compuerta R<sub>x</sub>-gate.\n",
    "\n",
    "Antes de ejecutarlas en el hardware cuántico real de IBM, todas las operaciones de un solo qubit se compilan a $I$ , $X$, $SX$ and $R_{z}$. Por este motivo, a veces se les denomina _physical gates_.\n"
   ]
  },
  {
   "cell_type": "markdown",
   "metadata": {},
   "source": [
    "## Rotaciones estándar.\n",
    "\n",
    "Las puertas de rotación estándar son las que definen rotaciones alrededor de las puertas de  Paulis $P={X,Y,Z\\}$. Se definen como \n",
    "\n",
    "$$ R_P(\\theta) = \\exp(-i \\theta P/2) = \\cos(\\theta/2)I -i \\sin(\\theta/2)P$$\n",
    "\n",
    "**NOTA**: Para ver y entender porqué podemos poner la igualdad anterior [visitar este enlace](matricesexponenciales)."
   ]
  },
  {
   "cell_type": "markdown",
   "metadata": {},
   "source": [
    "### Rotación entorno al eje X.\n",
    "\n",
    "$$\n",
    "R_x(\\theta) = \n",
    "\\begin{pmatrix}\n",
    "\\cos(\\theta/2) & -i\\sin(\\theta/2)\\\\\n",
    "-i\\sin(\\theta/2) & \\cos(\\theta/2)\n",
    "\\end{pmatrix} = u(\\theta, -\\pi/2,\\pi/2)\n",
    "$$"
   ]
  },
  {
   "cell_type": "code",
   "execution_count": 16,
   "metadata": {},
   "outputs": [
    {
     "data": {
      "image/png": "[encoded data removed]",
      "text/plain": [
       "<Figure size 203.481x117.056 with 1 Axes>"
      ]
     },
     "execution_count": 16,
     "metadata": {},
     "output_type": "execute_result"
    }
   ],
   "source": [
    "from qiskit import QuantumCircuit, ClassicalRegister, QuantumRegister, transpile\n",
    "q = QuantumRegister(1)\n",
    "qc = QuantumCircuit(q)\n",
    "qc.rx(pi/2,q)\n",
    "qc.draw(output='mpl')"
   ]
  },
  {
   "cell_type": "code",
   "execution_count": 17,
   "metadata": {},
   "outputs": [
    {
     "data": {
      "text/plain": [
       "array([[ 0.707+0.j   , -0.   -0.707j],\n",
       "       [ 0.   -0.707j,  0.707+0.j   ]])"
      ]
     },
     "execution_count": 17,
     "metadata": {},
     "output_type": "execute_result"
    }
   ],
   "source": [
    "from qiskit import BasicAer\n",
    "\n",
    "backend = BasicAer.get_backend('unitary_simulator')\n",
    "\n",
    "\n",
    "job = backend.run(transpile(qc, backend))\n",
    "job.result().get_unitary(qc, decimals=3)"
   ]
  },
  {
   "cell_type": "markdown",
   "metadata": {},
   "source": [
    "## Rotación entorno al eje Y.\n",
    "\n",
    "$$\n",
    "R_y(\\theta) =\n",
    "\\begin{pmatrix}\n",
    "\\cos(\\theta/2) & - \\sin(\\theta/2)\\\\\n",
    "\\sin(\\theta/2) & \\cos(\\theta/2).\n",
    "\\end{pmatrix} =u(\\theta,0,0)\n",
    "$$"
   ]
  },
  {
   "cell_type": "code",
   "execution_count": 18,
   "metadata": {},
   "outputs": [
    {
     "data": {
      "image/png": "[encoded data removed]",
      "text/plain": [
       "<Figure size 203.481x117.056 with 1 Axes>"
      ]
     },
     "execution_count": 18,
     "metadata": {},
     "output_type": "execute_result"
    }
   ],
   "source": [
    "qc = QuantumCircuit(q)\n",
    "qc.ry(pi/2,q)\n",
    "qc.draw(output='mpl')"
   ]
  },
  {
   "cell_type": "code",
   "execution_count": 19,
   "metadata": {},
   "outputs": [
    {
     "data": {
      "text/plain": [
       "array([[ 0.707+0.j, -0.707+0.j],\n",
       "       [ 0.707+0.j,  0.707+0.j]])"
      ]
     },
     "execution_count": 19,
     "metadata": {},
     "output_type": "execute_result"
    }
   ],
   "source": [
    "job = backend.run(transpile(qc, backend))\n",
    "job.result().get_unitary(qc, decimals=3)"
   ]
  },
  {
   "cell_type": "markdown",
   "metadata": {},
   "source": [
    "## Rotación entorno al eje Z.\n",
    "\n",
    "$$\n",
    "R_z(\\phi) = \n",
    "\\begin{pmatrix}\n",
    "e^{-i \\phi/2} & 0 \\\\\n",
    "0 & e^{i \\phi/2}\n",
    "\\end{pmatrix}\\equiv p(\\phi)\n",
    "$$\n",
    "\n",
    "Nótese que aquí hemos utilizado un equivalente ya que se diferencia de $p$ por una fase global $e^{-i \\phi/2}$."
   ]
  },
  {
   "cell_type": "code",
   "execution_count": 20,
   "metadata": {},
   "outputs": [
    {
     "data": {
      "image/png": "[encoded data removed]",
      "text/plain": [
       "<Figure size 203.481x117.056 with 1 Axes>"
      ]
     },
     "execution_count": 20,
     "metadata": {},
     "output_type": "execute_result"
    }
   ],
   "source": [
    "qc = QuantumCircuit(q)\n",
    "qc.rz(pi/2,q)\n",
    "qc.draw(output='mpl')"
   ]
  },
  {
   "cell_type": "code",
   "execution_count": 21,
   "metadata": {},
   "outputs": [
    {
     "data": {
      "text/plain": [
       "array([[0.707-0.707j, 0.   +0.j   ],\n",
       "       [0.   +0.j   , 0.707+0.707j]])"
      ]
     },
     "execution_count": 21,
     "metadata": {},
     "output_type": "execute_result"
    }
   ],
   "source": [
    "job = backend.run(transpile(qc, backend))\n",
    "job.result().get_unitary(qc, decimals=3)"
   ]
  },
  {
   "cell_type": "markdown",
   "metadata": {},
   "source": [
    "Tenga en cuenta que esto es diferente debido sólo a una fase global."
   ]
  },
  {
   "cell_type": "markdown",
   "metadata": {},
   "source": [
    "## Puertas de más de un qubit.\n",
    "\n",
    "Veamos inicialmente algunos conceptos matemáticos.\n",
    "\n",
    "\n",
    "### Conceptos matemáticos.\n",
    "\n",
    "El espacio de un ordenador cuántico crece exponencialmente con el número de qubits. Para $n$ qubits, el espacio vectorial complejo tiene dimensión $d=2^n$. Para describir los estados de un sistema multiqubit, se utiliza el producto tensorial para \"pegar\" operadores y vectores base.\n",
    "\n",
    "Empecemos considerando un sistema de 2 qubits. Dados dos operadores $A$ y $B$ que actúan cada uno sobre un qubit, el operador conjunto $A \\otimes B$ que actúa sobre dos qubits es\n",
    "\n",
    "$$\\begin{equation}\n",
    "\tA\\otimes B = \n",
    "\t\\begin{pmatrix} \n",
    "\t\tA_{00} \\begin{pmatrix} \n",
    "\t\t\tB_{00} & B_{01} \\\\\n",
    "\t\t\tB_{10} & B_{11}\n",
    "\t\t\\end{pmatrix} & A_{01} \t\\begin{pmatrix} \n",
    "\t\t\t\tB_{00} & B_{01} \\\\\n",
    "\t\t\t\tB_{10} & B_{11}\n",
    "\t\t\t\\end{pmatrix} \\\\\n",
    "\t\tA_{10} \t\\begin{pmatrix} \n",
    "\t\t\t\t\tB_{00} & B_{01} \\\\\n",
    "\t\t\t\t\tB_{10} & B_{11}\n",
    "\t\t\t\t\\end{pmatrix} & A_{11} \t\\begin{pmatrix} \n",
    "\t\t\t\t\t\t\tB_{00} & B_{01} \\\\\n",
    "\t\t\t\t\t\t\tB_{10} & B_{11}\n",
    "\t\t\t\t\t\t\\end{pmatrix}\n",
    "\t\\end{pmatrix},\t\t\t\t\t\t\n",
    "\\end{equation}$$\n",
    "\n",
    "donde $A_{jk}$ y $B_{lm}$ son los elementos matriciales de $A$ y $B$, respectivamente.\n",
    "\n",
    "Análogamente, los vectores base para el sistema de 2 qubits se forman utilizando el producto tensorial de los vectores base para un solo qubit:\n",
    "\n",
    "$$\\begin{equation}\\begin{split}\n",
    "\t\\left|{00}\\right\\rangle &= \\begin{pmatrix} \n",
    "\t\t1 \\begin{pmatrix} \n",
    "\t\t\t1  \\\\\n",
    "\t\t\t0\n",
    "\t\t\\end{pmatrix} \\\\\n",
    "\t\t0 \\begin{pmatrix} \n",
    "\t\t\t1  \\\\\n",
    "\t\t\t0 \n",
    "\t\t\\end{pmatrix}\n",
    "\t\\end{pmatrix} = \\begin{pmatrix} 1 \\\\ 0 \\\\ 0 \\\\0 \\end{pmatrix}~~~\\left|{01}\\right\\rangle = \\begin{pmatrix} \n",
    "\t1 \\begin{pmatrix} \n",
    "\t0 \\\\\n",
    "\t1\n",
    "\t\\end{pmatrix} \\\\\n",
    "\t0 \\begin{pmatrix} \n",
    "\t0  \\\\\n",
    "\t1 \n",
    "\t\\end{pmatrix}\n",
    "\t\\end{pmatrix} = \\begin{pmatrix}0 \\\\ 1 \\\\ 0 \\\\ 0 \\end{pmatrix}\\end{split}\n",
    "\\end{equation}$$\n",
    "    \n",
    "$$\\begin{equation}\\begin{split}\\left|{10}\\right\\rangle = \\begin{pmatrix} \n",
    "\t0\\begin{pmatrix} \n",
    "\t1  \\\\\n",
    "\t0\n",
    "\t\\end{pmatrix} \\\\\n",
    "\t1\\begin{pmatrix} \n",
    "\t1 \\\\\n",
    "\t0 \n",
    "\t\\end{pmatrix}\n",
    "\t\\end{pmatrix} = \\begin{pmatrix} 0 \\\\ 0 \\\\ 1 \\\\ 0 \\end{pmatrix}~~~ \t\\left|{11}\\right\\rangle = \\begin{pmatrix} \n",
    "\t0 \\begin{pmatrix} \n",
    "\t0  \\\\\n",
    "\t1\n",
    "\t\\end{pmatrix} \\\\\n",
    "\t1\\begin{pmatrix} \n",
    "\t0  \\\\\n",
    "\t1 \n",
    "\t\\end{pmatrix}\n",
    "\t\\end{pmatrix} = \\begin{pmatrix} 0 \\\\ 0 \\\\ 0 \\\\1 \\end{pmatrix}\\end{split}\n",
    "\\end{equation}.$$\n",
    "\n",
    "Obsérvese que hemos introducido una abreviatura para el producto tensorial de vectores base, donde $\\left|0\\right\\rangle \\otimes \\left|0\\right\\rangle$ se escribe como $\\left|00\\right\\rangle$. El estado de un sistema de $n$ qubits puede describirse mediante el producto tensorial de $n$ pliegues de vectores base de un solo qubit. Obsérvese que los vectores base para un sistema de 2 qubits son de 4 dimensiones; en general, los vectores base de un sistema de $n$ qubits son de $2^{n}$ dimensiones, como se ha indicado anteriormente.\n",
    "\n",
    "### Ordenación del vector base en Qiskit.\n",
    "\n",
    "En la comunidad física, los qubits de un sistema multiqubit se ordenan normalmente con el primer qubit en el lado izquierdo del producto tensorial y el último qubit en el lado derecho. Por ejemplo, si el primer qubit está en el estado $\\left|0\\right\\rangle$ y el segundo está en el estado $\\left|1\\right\\rangle$, su estado conjunto sería $\\left|01\\right\\rangle$. \n",
    "\n",
    "Sin embargo Qiskit no usa esta ordenación. Qiskit utiliza un orden ligeramente diferente de los qubits, en el que los qubits se representan desde el bit más significativo (MSB) a la izquierda hasta el bit menos significativo (LSB) a la derecha (little-endian). Esta representación es similar a la de las cadenas de bits de los ordenadores clásicos y permite convertir fácilmente las cadenas de bits en números enteros una vez realizadas las mediciones. Para el ejemplo que acabamos de dar, el estado conjunto se representaría como $\\left|10\\right\\rangle$. Es importante destacar que *este cambio en la representación de los estados multi-qubit afecta a la forma en que las puertas multi-qubit se representan en Qiskit*, como se discute a continuación.\n",
    "\n",
    "La representación utilizada en Qiskit enumera los vectores base en orden creciente de los enteros que representan. Por ejemplo, los vectores base para un sistema de 2 qubits se ordenarían como $\\left|00\\right\\rangle$, $\\left|01\\right\\rangle$, $\\left|10\\right\\rangle$, y $\\left|11\\right\\rangle$. Pensando en los vectores base como cadenas de bits, codifican los enteros 0,1,2 y 3, respectivamente.\n",
    "\n",
    "### Operaciones controladas sobre qubits.\n",
    "\n",
    "```{index} Puertas controladas\n",
    "```\n",
    "\n",
    "Una puerta multi-qubit común implica la aplicación de una puerta a un qubit, condicionada por el estado de otro qubit. Por ejemplo, podríamos querer invertir el estado del segundo qubit cuando el primer qubit está en $\\left|0\\right\\rangle$. Estas puertas se conocen como _puertas controladas_. Las puertas multiqubit estándar consisten en puertas de dos qubits y puertas de tres qubits. Las puertas de dos qubits son:\n",
    "\n",
    "- controlled Pauli gates\n",
    "- controlled Hadamard gate\n",
    "- controlled rotation gates\n",
    "- controlled phase gate\n",
    "- controlled u3 gate\n",
    "- swap gate\n",
    "\n",
    "Para tres qubits se tienen las siguientes puertas:\n",
    "\n",
    "- Toffoli gate \n",
    "- Fredkin gate"
   ]
  },
  {
   "cell_type": "markdown",
   "metadata": {},
   "source": [
    "## Puertas para dos qubits.\n",
    "\n",
    "*La mayoría de las puertas de dos qubits son del tipo controlado* (la puerta SWAP es la excepción). En general, una puerta controlada de dos qubits $C_{U}$ actúa para aplicar la matriz unitaria de un solo qubit $U$ al segundo qubit cuando el estado del primer qubit está en $\\left|1\\right\\rangle$. Supongamos que $U$ tiene una representación matricial como sigue:\n",
    "\n",
    "$$U = \\begin{pmatrix} u_{00} & u_{01} \\\\ u_{10} & u_{11}\\end{pmatrix}.$$\n",
    "\n",
    "Podemos calcular la acción de $C_{U}$ de la siguiente manera. Recordemos que los vectores base para un sistema de dos qubits se ordenan como $\\left|00\\right\\rangle, \\left|01\\right\\rangle, \\left|10\\right\\rangle, \\left|11\\right\\rangle$. Supongamos que el **qubit de control** es el **qubit 0** (que, según la convención de Qiskit, está en el lado _derecho_ del producto tensorial). Si el qubit de control está en $\\left|1\\right\\rangle$, $U$ debe aplicarse al **target** (qubit 1, en el lado izquierdo del producto tensorial). Por lo tanto, bajo la acción de $C_{U}$, los vectores base se transforman según el siguiente esquema:\n",
    "\n",
    "\n",
    "$$\\begin{align*}\n",
    "C_{U}: \\underset{\\text{qubit}~1}{\\left|0\\right\\rangle}\\otimes \\underset{\\text{qubit}~0}{\\left|0\\right\\rangle} &\\rightarrow \\underset{\\text{qubit}~1}{\\left|0\\right\\rangle}\\otimes \\underset{\\text{qubit}~0}{\\left|0\\right\\rangle}\\\\\n",
    "C_{U}: \\underset{\\text{qubit}~1}{\\left|0\\right\\rangle}\\otimes \\underset{\\text{qubit}~0}{\\left|1\\right\\rangle} &\\rightarrow \\underset{\\text{qubit}~1}{U\\left|0\\right\\rangle}\\otimes \\underset{\\text{qubit}~0}{\\left|1\\right\\rangle}\\\\\n",
    "C_{U}: \\underset{\\text{qubit}~1}{\\left|1\\right\\rangle}\\otimes \\underset{\\text{qubit}~0}{\\left|0\\right\\rangle} &\\rightarrow \\underset{\\text{qubit}~1}{\\left|1\\right\\rangle}\\otimes \\underset{\\text{qubit}~0}{\\left|0\\right\\rangle}\\\\\n",
    "C_{U}: \\underset{\\text{qubit}~1}{\\left|1\\right\\rangle}\\otimes \\underset{\\text{qubit}~0}{\\left|1\\right\\rangle} &\\rightarrow \\underset{\\text{qubit}~1}{U\\left|1\\right\\rangle}\\otimes \\underset{\\text{qubit}~0}{\\left|1\\right\\rangle}\\\\\n",
    "\\end{align*}.$$\n",
    "\n",
    "En forma matricial, la acción de $C_{U}$ es\n",
    "\n",
    "$$\\begin{equation}\n",
    "\tC_U = \\begin{pmatrix}\n",
    "\t1 & 0 & 0 & 0 \\\\\n",
    "\t0 & u_{00} & 0 & u_{01} \\\\\n",
    "\t0 & 0 & 1 & 0 \\\\\n",
    "\t0 & u_{10} &0 & u_{11}\n",
    "\t\t\\end{pmatrix}.\n",
    "\\end{equation}$$\n",
    "\n",
    "Para calcular los elementos de estas matrices\n",
    "\n",
    "$$C_{(jk), (lm)} = \\left(\\underset{\\text{qubit}~1}{\\left\\langle j \\right|} \\otimes \\underset{\\text{qubit}~0}{\\left\\langle k \\right|}\\right) C_{U} \\left(\\underset{\\text{qubit}~1}{\\left| l \\right\\rangle} \\otimes \\underset{\\text{qubit}~0}{\\left| m \\right\\rangle}\\right),$$\n",
    "\n",
    "calcular la acción de $C_{U}$ (dada anteriormente), y calcular los productos internos.\n",
    "\n",
    "Como se muestra en los ejemplos siguientes, esta operación se implementa en Qiskit como `cU(q[0],q[1])`.\n",
    "\n",
    "Si **qubit 1 es el control y qubit 0 es el objetivo**, entonces los vectores base se transforman según:\n",
    "\n",
    "$$\\begin{align*}\n",
    "C_{U}: \\underset{\\text{qubit}~1}{\\left|0\\right\\rangle}\\otimes \\underset{\\text{qubit}~0}{\\left|0\\right\\rangle} &\\rightarrow \\underset{\\text{qubit}~1}{\\left|0\\right\\rangle}\\otimes \\underset{\\text{qubit}~0}{\\left|0\\right\\rangle}\\\\\n",
    "C_{U}: \\underset{\\text{qubit}~1}{\\left|0\\right\\rangle}\\otimes \\underset{\\text{qubit}~0}{\\left|1\\right\\rangle} &\\rightarrow \\underset{\\text{qubit}~1}{\\left|0\\right\\rangle}\\otimes \\underset{\\text{qubit}~0}{\\left|1\\right\\rangle}\\\\\n",
    "C_{U}: \\underset{\\text{qubit}~1}{\\left|1\\right\\rangle}\\otimes \\underset{\\text{qubit}~0}{\\left|0\\right\\rangle} &\\rightarrow \\underset{\\text{qubit}~1}{\\left|1\\right\\rangle}\\otimes \\underset{\\text{qubit}~0}{U\\left|0\\right\\rangle}\\\\\n",
    "C_{U}: \\underset{\\text{qubit}~1}{\\left|1\\right\\rangle}\\otimes \\underset{\\text{qubit}~0}{\\left|1\\right\\rangle} &\\rightarrow \\underset{\\text{qubit}~1}{\\left|1\\right\\rangle}\\otimes \\underset{\\text{qubit}~0}{U\\left|1\\right\\rangle}\\\\\n",
    "\\end{align*},$$\n",
    "\n",
    "lo que implica que la forma matricial de $C_{U}$ es\n",
    "\n",
    "$$\\begin{equation}\n",
    "\tC_U = \\begin{pmatrix}\n",
    "\t1 & 0 & 0  & 0 \\\\\n",
    "\t0 & 1 & 0 & 0 \\\\\n",
    "\t0 & 0 & u_{00} & u_{01} \\\\\n",
    "\t0 & 0 & u_{10} & u_{11}\n",
    "\t\t\\end{pmatrix}.\n",
    "\\end{equation}$$"
   ]
  },
  {
   "cell_type": "code",
   "execution_count": 22,
   "metadata": {},
   "outputs": [],
   "source": [
    "q = QuantumRegister(2)"
   ]
  },
  {
   "cell_type": "markdown",
   "metadata": {},
   "source": [
    "(controladasPauli)=\n",
    "### Puertas controladas de Pauli.\n",
    "\n",
    "Serían las siguientes puertas para dos qubits.\n",
    "\n",
    "```{index} controlled-X\n",
    "```\n",
    "#### Puertas controlled-X ó puertas controlled-NOT\n",
    "\n",
    "La puerta Controlada-NOT invierte el qubit `objetivo` cuando el qubit de control está en el estado $\\left|1\\right\\rangle$. Si tomamos el MSB como el qubit de control (por ejemplo, `cx(q[1],q[0])`), entonces la matriz se vería como\n",
    "\n",
    "$$\n",
    "C_X = \n",
    "\\begin{pmatrix}\n",
    "1 & 0 & 0 & 0\\\\\n",
    "0 & 1 & 0 & 0\\\\\n",
    "0 & 0 & 0 & 1\\\\\n",
    "0 & 0 & 1 & 0\n",
    "\\end{pmatrix}. \n",
    "$$\n",
    "\n",
    "Sin embargo, cuando el LSB es el qubit de control, (por ejemplo `cx(q[0],q[1])`), esta puerta es equivalente a la siguiente matriz:\n",
    "\n",
    "$$\n",
    "C_X = \n",
    "\\begin{pmatrix}\n",
    "1 & 0 & 0 & 0\\\\\n",
    "0 & 0 & 0 & 1\\\\\n",
    "0 & 0 & 1 & 0\\\\\n",
    "0 & 1 & 0 & 0\n",
    "\\end{pmatrix}. \n",
    "$$\n"
   ]
  },
  {
   "cell_type": "code",
   "execution_count": 23,
   "metadata": {},
   "outputs": [
    {
     "data": {
      "image/png": "[encoded data removed]",
      "text/plain": [
       "<Figure size 222.116x200.667 with 1 Axes>"
      ]
     },
     "execution_count": 23,
     "metadata": {},
     "output_type": "execute_result"
    }
   ],
   "source": [
    "qc = QuantumCircuit(q)\n",
    "qc.cx(q[0],q[1])\n",
    "qc.draw(output='mpl')"
   ]
  },
  {
   "cell_type": "code",
   "execution_count": 24,
   "metadata": {},
   "outputs": [
    {
     "data": {
      "text/plain": [
       "array([[1.+0.j, 0.+0.j, 0.+0.j, 0.+0.j],\n",
       "       [0.+0.j, 0.+0.j, 0.+0.j, 1.+0.j],\n",
       "       [0.+0.j, 0.+0.j, 1.+0.j, 0.+0.j],\n",
       "       [0.+0.j, 1.+0.j, 0.+0.j, 0.+0.j]])"
      ]
     },
     "execution_count": 24,
     "metadata": {},
     "output_type": "execute_result"
    }
   ],
   "source": [
    "job = backend.run(transpile(qc, backend))\n",
    "job.result().get_unitary(qc, decimals=3)"
   ]
  },
  {
   "cell_type": "markdown",
   "metadata": {},
   "source": [
    "```{index} controlled-Y\n",
    "```\n",
    "#### Puertas controlled-Y.\n",
    "\n",
    "Aplicar la puerta $Y$ al qubit objetivo si el qubit de control es el MSB.\n",
    "\n",
    "$$\n",
    "C_Y = \n",
    "\\begin{pmatrix}\n",
    "1 & 0 & 0 & 0\\\\\n",
    "0 & 1 & 0 & 0\\\\\n",
    "0 & 0 & 0 & -i\\\\\n",
    "0 & 0 & i & 0\n",
    "\\end{pmatrix},\n",
    "$$\n",
    "\n",
    "o cuando el LSB es el control\n",
    "\n",
    "$$\n",
    "C_Y = \n",
    "\\begin{pmatrix}\n",
    "1 & 0 & 0 & 0\\\\\n",
    "0 & 0 & 0 & -i\\\\\n",
    "0 & 0 & 1 & 0\\\\\n",
    "0 & i & 0 & 0\n",
    "\\end{pmatrix}.\n",
    "$$"
   ]
  },
  {
   "cell_type": "code",
   "execution_count": 25,
   "metadata": {},
   "outputs": [
    {
     "data": {
      "image/png": "[encoded data removed]",
      "text/plain": [
       "<Figure size 222.116x200.667 with 1 Axes>"
      ]
     },
     "execution_count": 25,
     "metadata": {},
     "output_type": "execute_result"
    }
   ],
   "source": [
    "qc = QuantumCircuit(q)\n",
    "qc.cy(q[0],q[1])\n",
    "qc.draw(output='mpl')"
   ]
  },
  {
   "cell_type": "code",
   "execution_count": 26,
   "metadata": {},
   "outputs": [
    {
     "data": {
      "text/plain": [
       "array([[1.+0.j, 0.+0.j, 0.+0.j, 0.+0.j],\n",
       "       [0.+0.j, 0.+0.j, 0.+0.j, 0.-1.j],\n",
       "       [0.+0.j, 0.+0.j, 1.+0.j, 0.+0.j],\n",
       "       [0.+0.j, 0.+1.j, 0.+0.j, 0.+0.j]])"
      ]
     },
     "execution_count": 26,
     "metadata": {},
     "output_type": "execute_result"
    }
   ],
   "source": [
    "job = backend.run(transpile(qc, backend))\n",
    "job.result().get_unitary(qc, decimals=3)"
   ]
  },
  {
   "cell_type": "markdown",
   "metadata": {},
   "source": [
    "```{index} controlled-Z\n",
    "```\n",
    "(zcontrolada)=\n",
    "#### Puertas controlled-Z (o controlled Phase-Flip).\n",
    "\n",
    "```{index} controlled Phase-Flip, controlled-Z\n",
    "```\n",
    "\n",
    "Del mismo modo, la puerta Z controlada invierte la fase del qubit objetivo si el qubit de control es $\\left|1\\right\\rangle$. La matriz tiene el mismo aspecto independientemente de si el MSB o LSB es el qubit de control:\n",
    "\n",
    "$$\n",
    "C_Z = \n",
    "\\begin{pmatrix}\n",
    "1 & 0 & 0 & 0\\\\\n",
    "0 & 1 & 0 & 0\\\\\n",
    "0 & 0 & 1 & 0\\\\\n",
    "0 & 0 & 0 & -1\n",
    "\\end{pmatrix}\n",
    "$$"
   ]
  },
  {
   "cell_type": "code",
   "execution_count": 27,
   "metadata": {},
   "outputs": [
    {
     "data": {
      "image/png": "[encoded data removed]",
      "text/plain": [
       "<Figure size 222.116x200.667 with 1 Axes>"
      ]
     },
     "execution_count": 27,
     "metadata": {},
     "output_type": "execute_result"
    }
   ],
   "source": [
    "qc = QuantumCircuit(q)\n",
    "qc.cz(q[0],q[1])\n",
    "qc.draw(output='mpl')"
   ]
  },
  {
   "cell_type": "code",
   "execution_count": 28,
   "metadata": {},
   "outputs": [
    {
     "data": {
      "text/plain": [
       "array([[ 1.-0.j,  0.+0.j,  0.+0.j,  0.+0.j],\n",
       "       [ 0.+0.j,  1.-0.j,  0.+0.j,  0.+0.j],\n",
       "       [ 0.+0.j,  0.+0.j,  1.-0.j,  0.+0.j],\n",
       "       [ 0.+0.j,  0.+0.j,  0.+0.j, -1.+0.j]])"
      ]
     },
     "execution_count": 28,
     "metadata": {},
     "output_type": "execute_result"
    }
   ],
   "source": [
    "job = backend.run(transpile(qc, backend))\n",
    "job.result().get_unitary(qc, decimals=3)"
   ]
  },
  {
   "cell_type": "markdown",
   "metadata": {},
   "source": [
    "#### Puertas controlled-H (puerta controlada de Hadamard).\n",
    "```{index} controlled Hadamard\n",
    "```\n",
    "Aplicar la puerta $H$ al qubit objetivo si el qubit de control es $\\left|1\\right\\rangle$. A continuación se muestra el caso en que el control es el qubit LSB.\n",
    "\n",
    "$$\n",
    "C_H = \n",
    "\\begin{pmatrix}\n",
    "1 & 0 & 0 & 0\\\\\n",
    "0 & \\frac{1}{\\sqrt{2}} & 0 & \\frac{1}{\\sqrt{2}}\\\\\n",
    "0 & 0 & 1 & 0\\\\\n",
    "0 & \\frac{1}{\\sqrt{2}}  & 0& -\\frac{1}{\\sqrt{2}}\n",
    "\\end{pmatrix}\n",
    "$$"
   ]
  },
  {
   "cell_type": "code",
   "execution_count": 29,
   "metadata": {},
   "outputs": [
    {
     "data": {
      "image/png": "[encoded data removed]",
      "text/plain": [
       "<Figure size 222.116x200.667 with 1 Axes>"
      ]
     },
     "execution_count": 29,
     "metadata": {},
     "output_type": "execute_result"
    }
   ],
   "source": [
    "qc = QuantumCircuit(q)\n",
    "qc.ch(q[0],q[1])\n",
    "qc.draw(output='mpl')"
   ]
  },
  {
   "cell_type": "code",
   "execution_count": 30,
   "metadata": {},
   "outputs": [
    {
     "data": {
      "text/plain": [
       "array([[ 1.   +0.j,  0.   +0.j,  0.   +0.j,  0.   +0.j],\n",
       "       [ 0.   +0.j,  0.707+0.j,  0.   +0.j,  0.707-0.j],\n",
       "       [ 0.   +0.j,  0.   +0.j,  1.   -0.j,  0.   +0.j],\n",
       "       [ 0.   +0.j,  0.707+0.j,  0.   +0.j, -0.707+0.j]])"
      ]
     },
     "execution_count": 30,
     "metadata": {},
     "output_type": "execute_result"
    }
   ],
   "source": [
    "job = backend.run(transpile(qc, backend))\n",
    "job.result().get_unitary(qc, decimals=3)"
   ]
  },
  {
   "cell_type": "markdown",
   "metadata": {},
   "source": [
    "### Puertas controladas por rotación.\n",
    "\n",
    "#### Controlada por rotación sobre el eje Z.\n",
    "\n",
    "Realiza la rotación alrededor del eje Z en el qubit objetivo (target) si el qubit de control (aquí LSB) es $\\left|1\\right\\rangle$.\n",
    "\n",
    "$$\n",
    "C_{Rz}(\\lambda) = \n",
    "\\begin{pmatrix}\n",
    "1 & 0 & 0 & 0\\\\\n",
    "0 & e^{-i\\lambda/2} & 0 & 0\\\\\n",
    "0 & 0 & 1 & 0\\\\\n",
    "0 & 0 & 0 & e^{i\\lambda/2}\n",
    "\\end{pmatrix}\n",
    "$$"
   ]
  },
  {
   "cell_type": "code",
   "execution_count": 31,
   "metadata": {},
   "outputs": [
    {
     "data": {
      "image/png": "[encoded data removed]",
      "text/plain": [
       "<Figure size 222.116x200.667 with 1 Axes>"
      ]
     },
     "execution_count": 31,
     "metadata": {},
     "output_type": "execute_result"
    }
   ],
   "source": [
    "qc = QuantumCircuit(q)\n",
    "qc.crz(pi/2,q[0],q[1])\n",
    "qc.draw(output='mpl')"
   ]
  },
  {
   "cell_type": "code",
   "execution_count": 32,
   "metadata": {},
   "outputs": [
    {
     "data": {
      "text/plain": [
       "array([[1.   +0.j   , 0.   +0.j   , 0.   +0.j   , 0.   +0.j   ],\n",
       "       [0.   +0.j   , 0.707-0.707j, 0.   +0.j   , 0.   +0.j   ],\n",
       "       [0.   +0.j   , 0.   +0.j   , 1.   +0.j   , 0.   +0.j   ],\n",
       "       [0.   +0.j   , 0.   +0.j   , 0.   +0.j   , 0.707+0.707j]])"
      ]
     },
     "execution_count": 32,
     "metadata": {},
     "output_type": "execute_result"
    }
   ],
   "source": [
    "job = backend.run(transpile(qc, backend))\n",
    "job.result().get_unitary(qc, decimals=3)"
   ]
  },
  {
   "cell_type": "markdown",
   "metadata": {},
   "source": [
    "#### Controlada fase rotación.\n",
    "\n",
    "Realiza una rotación de fase si ambos qubits están en el estado $\\left|11\\right\\rangle$. La matriz tiene el mismo aspecto independientemente de si el MSB o el LSB es el qubit de control.\n",
    "\n",
    "$$\n",
    "C_{p}(\\lambda) = \n",
    "\\begin{pmatrix}\n",
    "1 & 0 & 0 & 0\\\\\n",
    "0 & 1 & 0 & 0\\\\\n",
    "0 & 0 & 1 & 0\\\\\n",
    "0 & 0 & 0 & e^{i\\lambda}\n",
    "\\end{pmatrix}\n",
    "$$"
   ]
  },
  {
   "cell_type": "code",
   "execution_count": 33,
   "metadata": {},
   "outputs": [
    {
     "data": {
      "image/png": "[encoded data removed]",
      "text/plain": [
       "<Figure size 305.727x200.667 with 1 Axes>"
      ]
     },
     "execution_count": 33,
     "metadata": {},
     "output_type": "execute_result"
    }
   ],
   "source": [
    "qc = QuantumCircuit(q)\n",
    "qc.cp(pi/2,q[0], q[1])\n",
    "qc.draw(output='mpl')"
   ]
  },
  {
   "cell_type": "code",
   "execution_count": 34,
   "metadata": {},
   "outputs": [
    {
     "data": {
      "text/plain": [
       "array([[1.+0.j, 0.+0.j, 0.+0.j, 0.+0.j],\n",
       "       [0.+0.j, 1.+0.j, 0.+0.j, 0.+0.j],\n",
       "       [0.+0.j, 0.+0.j, 1.+0.j, 0.+0.j],\n",
       "       [0.+0.j, 0.+0.j, 0.+0.j, 0.+1.j]])"
      ]
     },
     "execution_count": 34,
     "metadata": {},
     "output_type": "execute_result"
    }
   ],
   "source": [
    "job = backend.run(transpile(qc, backend))\n",
    "job.result().get_unitary(qc, decimals=3)"
   ]
  },
  {
   "cell_type": "markdown",
   "metadata": {},
   "source": [
    "#### Controlada rotación u.\n",
    "\n",
    "Realiza una rotación controlada-$u$ en el qubit objetivo si el qubit de control (aquí LSB) es $\\left|1\\right\\rangle$. \n",
    "\n",
    "$$\n",
    "C_{u}(\\theta, \\phi, \\lambda) \\equiv \n",
    "\\begin{pmatrix}\n",
    "1 & 0 & 0 & 0\\\\\n",
    "0 & e^{-i(\\phi+\\lambda)/2}\\cos(\\theta/2) & 0 & -e^{-i(\\phi-\\lambda)/2}\\sin(\\theta/2)\\\\\n",
    "0 & 0 & 1 & 0\\\\\n",
    "0 & e^{i(\\phi-\\lambda)/2}\\sin(\\theta/2) & 0 & e^{i(\\phi+\\lambda)/2}\\cos(\\theta/2)\n",
    "\\end{pmatrix}.\n",
    "$$"
   ]
  },
  {
   "cell_type": "code",
   "execution_count": 35,
   "metadata": {},
   "outputs": [
    {
     "data": {
      "image/png": "[encoded data removed]",
      "text/plain": [
       "<Figure size 305.727x200.667 with 1 Axes>"
      ]
     },
     "execution_count": 35,
     "metadata": {},
     "output_type": "execute_result"
    }
   ],
   "source": [
    "qc = QuantumCircuit(q)\n",
    "qc.cu(pi/2, pi/2, pi/2, 0, q[0], q[1])\n",
    "qc.draw(output='mpl')"
   ]
  },
  {
   "cell_type": "code",
   "execution_count": 36,
   "metadata": {},
   "outputs": [
    {
     "data": {
      "text/plain": [
       "array([[ 1.   +0.j   ,  0.   +0.j   ,  0.   +0.j   ,  0.   +0.j   ],\n",
       "       [ 0.   +0.j   ,  0.707+0.j   ,  0.   +0.j   , -0.   -0.707j],\n",
       "       [ 0.   +0.j   ,  0.   +0.j   ,  1.   +0.j   ,  0.   +0.j   ],\n",
       "       [ 0.   +0.j   ,  0.   +0.707j,  0.   +0.j   , -0.707+0.j   ]])"
      ]
     },
     "execution_count": 36,
     "metadata": {},
     "output_type": "execute_result"
    }
   ],
   "source": [
    "job = backend.run(transpile(qc, backend))\n",
    "job.result().get_unitary(qc, decimals=3)"
   ]
  },
  {
   "cell_type": "markdown",
   "metadata": {},
   "source": [
    "### Puerta SWAP.\n",
    "```{index} SWAP puerta\n",
    "```\n",
    "La puerta SWAP intercambia los dos qubits. Transforma los vectores base como sigue:\n",
    "\n",
    "$$\\left|00\\right\\rangle \\rightarrow \\left|00\\right\\rangle~,~\\left|01\\right\\rangle \\rightarrow \\left|10\\right\\rangle~,~\\left|10\\right\\rangle \\rightarrow \\left|01\\right\\rangle~,~\\left|11\\right\\rangle \\rightarrow \\left|11\\right\\rangle,$$\n",
    "\n",
    "que da una representación matricial de la forma:\n",
    "\n",
    "$$\n",
    "\\mathrm{SWAP} = \n",
    "\\begin{pmatrix}\n",
    "1 & 0 & 0 & 0\\\\\n",
    "0 & 0 & 1 & 0\\\\\n",
    "0 & 1 & 0 & 0\\\\\n",
    "0 & 0 & 0 & 1\n",
    "\\end{pmatrix}.\n",
    "$$"
   ]
  },
  {
   "cell_type": "code",
   "execution_count": 37,
   "metadata": {},
   "outputs": [
    {
     "data": {
      "image/png": "[encoded data removed]",
      "text/plain": [
       "<Figure size 222.116x200.667 with 1 Axes>"
      ]
     },
     "execution_count": 37,
     "metadata": {},
     "output_type": "execute_result"
    }
   ],
   "source": [
    "qc = QuantumCircuit(q)\n",
    "qc.swap(q[0], q[1])\n",
    "qc.draw(output='mpl')"
   ]
  },
  {
   "cell_type": "code",
   "execution_count": 38,
   "metadata": {},
   "outputs": [
    {
     "data": {
      "text/plain": [
       "array([[1.+0.j, 0.+0.j, 0.+0.j, 0.+0.j],\n",
       "       [0.+0.j, 0.+0.j, 1.+0.j, 0.+0.j],\n",
       "       [0.+0.j, 1.+0.j, 0.+0.j, 0.+0.j],\n",
       "       [0.+0.j, 0.+0.j, 0.+0.j, 1.+0.j]])"
      ]
     },
     "execution_count": 38,
     "metadata": {},
     "output_type": "execute_result"
    }
   ],
   "source": [
    "job = backend.run(transpile(qc, backend))\n",
    "job.result().get_unitary(qc, decimals=3)"
   ]
  },
  {
   "cell_type": "markdown",
   "metadata": {},
   "source": [
    "## Puertas de tres qubits.\n",
    "\n",
    "Hay dos puertas de tres qubits que se utilizan habitualmente . \n",
    "\n",
    "Para tres qubits, los vectores base se ordenan como\n",
    "\n",
    "$$\\left|000\\right\\rangle, \\left|001\\right\\rangle, \\left|010\\right\\rangle, \\left|011\\right\\rangle, \\left|100\\right\\rangle, \\left|101\\right\\rangle, \\left|110\\right\\rangle, \\left|111\\right\\rangle,$$\n",
    "\n",
    "que, como cadenas de bits, representan los enteros $0,1,2,\\cdots, 7$. De nuevo, Qiskit utiliza una representación en la que el primer qubit está en el lado más a la derecha del producto tensorial y el tercer qubit está en el lado más a la izquierda:\n",
    "\n",
    "$$\\left|abc\\right\\rangle : \\underset{\\text{qubit 2}}{\\left|a\\right\\rangle}\\otimes \\underset{\\text{qubit 1}}{\\left|b\\right\\rangle}\\otimes \\underset{\\text{qubit 0}}{\\left|c\\right\\rangle}.$$"
   ]
  },
  {
   "cell_type": "markdown",
   "metadata": {},
   "source": [
    "### Puerta de Toffoli (ccx gate).\n",
    "```{index} Toffoli puerta, ccx puerta\n",
    "```\n",
    "La <a href=\"https://en.wikipedia.org/wiki/Quantum_logic_gate#Toffoli_(CCNOT)_gate\" target=\"_blank\"> puerta de Toffoli </a>invierte el tercer qubit si los dos primeros qubits (LSB) son ambos $\\left|1\\right\\rangle$.\n",
    "\n",
    "En forma matricial, esta puerta es de la siguiente forma:\n",
    "\n",
    "$$\n",
    "C_{CX} = \n",
    "\\begin{pmatrix}\n",
    "1 & 0 & 0 & 0 & 0 & 0 & 0 & 0\\\\\n",
    "0 & 1 & 0 & 0 & 0 & 0 & 0 & 0\\\\\n",
    "0 & 0 & 1 & 0 & 0 & 0 & 0 & 0\\\\\n",
    "0 & 0 & 0 & 0 & 0 & 0 & 0 & 1\\\\\n",
    "0 & 0 & 0 & 0 & 1 & 0 & 0 & 0\\\\\n",
    "0 & 0 & 0 & 0 & 0 & 1 & 0 & 0\\\\\n",
    "0 & 0 & 0 & 0 & 0 & 0 & 1 & 0\\\\\n",
    "0 & 0 & 0 & 1 & 0 & 0 & 0 & 0\n",
    "\\end{pmatrix}.\n",
    "$$\n",
    "\n"
   ]
  },
  {
   "cell_type": "code",
   "execution_count": 39,
   "metadata": {},
   "outputs": [],
   "source": [
    "q = QuantumRegister(3)"
   ]
  },
  {
   "cell_type": "code",
   "execution_count": 40,
   "metadata": {},
   "outputs": [
    {
     "data": {
      "image/png": "[encoded data removed]",
      "text/plain": [
       "<Figure size 240.548x284.278 with 1 Axes>"
      ]
     },
     "execution_count": 40,
     "metadata": {},
     "output_type": "execute_result"
    }
   ],
   "source": [
    "qc = QuantumCircuit(q)\n",
    "qc.ccx(q[0], q[1], q[2])\n",
    "qc.draw(output='mpl')"
   ]
  },
  {
   "cell_type": "code",
   "execution_count": 41,
   "metadata": {},
   "outputs": [
    {
     "data": {
      "text/plain": [
       "array([[1.+0.j, 0.+0.j, 0.+0.j, 0.+0.j, 0.+0.j, 0.+0.j, 0.+0.j, 0.+0.j],\n",
       "       [0.+0.j, 1.+0.j, 0.+0.j, 0.+0.j, 0.+0.j, 0.+0.j, 0.+0.j, 0.+0.j],\n",
       "       [0.+0.j, 0.+0.j, 1.+0.j, 0.+0.j, 0.+0.j, 0.+0.j, 0.+0.j, 0.+0.j],\n",
       "       [0.+0.j, 0.+0.j, 0.+0.j, 0.+0.j, 0.+0.j, 0.+0.j, 0.+0.j, 1.-0.j],\n",
       "       [0.+0.j, 0.+0.j, 0.+0.j, 0.+0.j, 1.-0.j, 0.+0.j, 0.+0.j, 0.+0.j],\n",
       "       [0.+0.j, 0.+0.j, 0.+0.j, 0.+0.j, 0.+0.j, 1.-0.j, 0.+0.j, 0.+0.j],\n",
       "       [0.+0.j, 0.+0.j, 0.+0.j, 0.+0.j, 0.+0.j, 0.+0.j, 1.-0.j, 0.+0.j],\n",
       "       [0.+0.j, 0.+0.j, 0.+0.j, 1.+0.j, 0.+0.j, 0.+0.j, 0.+0.j, 0.+0.j]])"
      ]
     },
     "execution_count": 41,
     "metadata": {},
     "output_type": "execute_result"
    }
   ],
   "source": [
    "job = backend.run(transpile(qc, backend))\n",
    "job.result().get_unitary(qc, decimals=3)"
   ]
  },
  {
   "cell_type": "markdown",
   "metadata": {},
   "source": [
    "### Puerta controlada swap (puerta Fredkin).\n",
    "```{index} Fredkin puerta\n",
    "```\n",
    "La <a href=\"https://en.wikipedia.org/wiki/Quantum_logic_gate#Fredkin_(CSWAP)_gate\" target=\"_blank\"> puerta de Fredin </a> o *controlled swap gate*  intercambia el segundo y tercer qubit si el primer qubit (LSB) es $\\left|1\\right\\rangle$:\n",
    "\n",
    "$$ \\left|abc\\right\\rangle \\rightarrow \\begin{cases} \\left|bac\\right\\rangle~~\\text{if}~c=1 \\cr \\left|abc\\right\\rangle~~\\text{if}~c=0 \\end{cases}.$$\n",
    "\n",
    "En formato matricial, esta puerta tiene la siguiente forma:\n",
    "\n",
    "\n",
    "$$\n",
    "C_{\\mathrm{SWAP}} = \n",
    "\\begin{pmatrix}\n",
    "1 & 0 & 0 & 0 & 0 & 0 & 0 & 0\\\\\n",
    "0 & 1 & 0 & 0 & 0 & 0 & 0 & 0\\\\\n",
    "0 & 0 & 1 & 0 & 0 & 0 & 0 & 0\\\\\n",
    "0 & 0 & 0 & 0 & 0 & 1 & 0 & 0\\\\\n",
    "0 & 0 & 0 & 0 & 1 & 0 & 0 & 0\\\\\n",
    "0 & 0 & 0 & 1 & 0 & 0 & 0 & 0\\\\\n",
    "0 & 0 & 0 & 0 & 0 & 0 & 1 & 0\\\\\n",
    "0 & 0 & 0 & 0 & 0 & 0 & 0 & 1\n",
    "\\end{pmatrix}.\n",
    "$$"
   ]
  },
  {
   "cell_type": "code",
   "execution_count": 42,
   "metadata": {},
   "outputs": [
    {
     "data": {
      "image/png": "[encoded data removed]",
      "text/plain": [
       "<Figure size 240.548x284.278 with 1 Axes>"
      ]
     },
     "execution_count": 42,
     "metadata": {},
     "output_type": "execute_result"
    }
   ],
   "source": [
    "qc = QuantumCircuit(q)\n",
    "qc.cswap(q[0], q[1], q[2])\n",
    "qc.draw(output='mpl')"
   ]
  },
  {
   "cell_type": "code",
   "execution_count": 43,
   "metadata": {},
   "outputs": [
    {
     "data": {
      "text/plain": [
       "array([[1.+0.j, 0.+0.j, 0.+0.j, 0.+0.j, 0.+0.j, 0.+0.j, 0.+0.j, 0.+0.j],\n",
       "       [0.+0.j, 1.+0.j, 0.+0.j, 0.+0.j, 0.+0.j, 0.+0.j, 0.+0.j, 0.+0.j],\n",
       "       [0.+0.j, 0.+0.j, 1.+0.j, 0.+0.j, 0.+0.j, 0.+0.j, 0.+0.j, 0.+0.j],\n",
       "       [0.+0.j, 0.+0.j, 0.+0.j, 0.+0.j, 0.+0.j, 1.-0.j, 0.+0.j, 0.+0.j],\n",
       "       [0.+0.j, 0.+0.j, 0.+0.j, 0.+0.j, 1.-0.j, 0.+0.j, 0.+0.j, 0.+0.j],\n",
       "       [0.+0.j, 0.+0.j, 0.+0.j, 1.+0.j, 0.+0.j, 0.+0.j, 0.+0.j, 0.+0.j],\n",
       "       [0.+0.j, 0.+0.j, 0.+0.j, 0.+0.j, 0.+0.j, 0.+0.j, 1.-0.j, 0.+0.j],\n",
       "       [0.+0.j, 0.+0.j, 0.+0.j, 0.+0.j, 0.+0.j, 0.+0.j, 0.+0.j, 1.-0.j]])"
      ]
     },
     "execution_count": 43,
     "metadata": {},
     "output_type": "execute_result"
    }
   ],
   "source": [
    "job = backend.run(transpile(qc, backend))\n",
    "job.result().get_unitary(qc, decimals=3)"
   ]
  },
  {
   "cell_type": "markdown",
   "metadata": {},
   "source": [
    "## Operaciones no unitarias.\n",
    "\n",
    "Ahora que hemos repasado todas las operaciones unitarias de los circuitos cuánticos, también tenemos acceso a las *operaciones no unitarias*. Entre ellas se incluyen las *mediciones, el restablecimiento de qubits (reset) y las operaciones condicionales clásicas*."
   ]
  },
  {
   "cell_type": "code",
   "execution_count": 44,
   "metadata": {},
   "outputs": [],
   "source": [
    "q = QuantumRegister(1)\n",
    "c = ClassicalRegister(1)"
   ]
  },
  {
   "cell_type": "markdown",
   "metadata": {},
   "source": [
    "### Medidas.\n",
    "\n",
    "No tenemos acceso a toda la información cuando realizamos una medición en un ordenador cuántico. El estado cuántico se proyecta sobre la base estándar. A continuación se muestran dos ejemplos que muestran un circuito preparado en un estado de base y el ordenador cuántico preparado en un estado de superposición."
   ]
  },
  {
   "cell_type": "code",
   "execution_count": 45,
   "metadata": {},
   "outputs": [
    {
     "data": {
      "image/png": "[encoded data removed]",
      "text/plain": [
       "<Figure size 221.914x200.667 with 1 Axes>"
      ]
     },
     "execution_count": 45,
     "metadata": {},
     "output_type": "execute_result"
    }
   ],
   "source": [
    "qc = QuantumCircuit(q, c)\n",
    "qc.measure(q, c)\n",
    "qc.draw(output='mpl')"
   ]
  },
  {
   "cell_type": "code",
   "execution_count": 46,
   "metadata": {},
   "outputs": [
    {
     "data": {
      "text/plain": [
       "{'0': 1024}"
      ]
     },
     "execution_count": 46,
     "metadata": {},
     "output_type": "execute_result"
    }
   ],
   "source": [
    "backend = BasicAer.get_backend('qasm_simulator')\n",
    "job = backend.run(transpile(qc, backend))\n",
    "job.result().get_counts(qc)"
   ]
  },
  {
   "cell_type": "markdown",
   "metadata": {},
   "source": [
    "El simulador predice que el 100% de las veces el registro clásico devuelve 0."
   ]
  },
  {
   "cell_type": "code",
   "execution_count": 47,
   "metadata": {},
   "outputs": [
    {
     "data": {
      "image/png": "[encoded data removed]",
      "text/plain": [
       "<Figure size 305.525x200.667 with 1 Axes>"
      ]
     },
     "execution_count": 47,
     "metadata": {},
     "output_type": "execute_result"
    }
   ],
   "source": [
    "qc = QuantumCircuit(q, c)\n",
    "qc.h(q)\n",
    "qc.measure(q, c)\n",
    "qc.draw(output='mpl')"
   ]
  },
  {
   "cell_type": "code",
   "execution_count": 48,
   "metadata": {},
   "outputs": [
    {
     "data": {
      "text/plain": [
       "{'0': 514, '1': 510}"
      ]
     },
     "execution_count": 48,
     "metadata": {},
     "output_type": "execute_result"
    }
   ],
   "source": [
    "job = backend.run(transpile(qc, backend))\n",
    "job.result().get_counts(qc)"
   ]
  },
  {
   "cell_type": "markdown",
   "metadata": {},
   "source": [
    "El simulador predice que el 50% de las veces el registro clásico devuelve 0 ó 1."
   ]
  },
  {
   "cell_type": "markdown",
   "metadata": {},
   "source": [
    "### Reset.\n",
    "\n",
    "También es posible restablecer los qubits al estado |0⟩ en mitad del cálculo. Ten en cuenta que el restablecimiento no es una operación Gate, ya que es irreversible."
   ]
  },
  {
   "cell_type": "code",
   "execution_count": 49,
   "metadata": {},
   "outputs": [
    {
     "data": {
      "image/png": "[encoded data removed]",
      "text/plain": [
       "<Figure size 305.525x200.667 with 1 Axes>"
      ]
     },
     "execution_count": 49,
     "metadata": {},
     "output_type": "execute_result"
    }
   ],
   "source": [
    "qc = QuantumCircuit(q, c)\n",
    "qc.reset(q[0])\n",
    "qc.measure(q, c)\n",
    "qc.draw(output='mpl')"
   ]
  },
  {
   "cell_type": "code",
   "execution_count": 50,
   "metadata": {},
   "outputs": [
    {
     "data": {
      "text/plain": [
       "{'0': 1024}"
      ]
     },
     "execution_count": 50,
     "metadata": {},
     "output_type": "execute_result"
    }
   ],
   "source": [
    "job = backend.run(transpile(qc, backend))\n",
    "job.result().get_counts(qc)"
   ]
  },
  {
   "cell_type": "code",
   "execution_count": 51,
   "metadata": {},
   "outputs": [
    {
     "data": {
      "image/png": "[encoded data removed]",
      "text/plain": [
       "<Figure size 389.136x200.667 with 1 Axes>"
      ]
     },
     "execution_count": 51,
     "metadata": {},
     "output_type": "execute_result"
    }
   ],
   "source": [
    "qc = QuantumCircuit(q, c)\n",
    "qc.h(q)\n",
    "qc.reset(q[0]) #restablecemos al qubit al estado |o>\n",
    "qc.measure(q, c)\n",
    "qc.draw(output='mpl')"
   ]
  },
  {
   "cell_type": "code",
   "execution_count": 52,
   "metadata": {},
   "outputs": [
    {
     "data": {
      "text/plain": [
       "{'0': 1024}"
      ]
     },
     "execution_count": 52,
     "metadata": {},
     "output_type": "execute_result"
    }
   ],
   "source": [
    "job = backend.run(transpile(qc, backend))\n",
    "job.result().get_counts(qc)"
   ]
  },
  {
   "cell_type": "markdown",
   "metadata": {},
   "source": [
    "Aquí vemos que para ambos circuitos el simulador siempre predice que la salida está al 100% en el estado 0"
   ]
  },
  {
   "cell_type": "markdown",
   "metadata": {},
   "source": [
    "### Operaciones condicionales.\n",
    "\n",
    "También es posible realizar operaciones condicionadas al estado del registro clásico"
   ]
  },
  {
   "cell_type": "code",
   "execution_count": 53,
   "metadata": {},
   "outputs": [
    {
     "data": {
      "image/png": "[encoded data removed]",
      "text/plain": [
       "<Figure size 305.525x200.667 with 1 Axes>"
      ]
     },
     "execution_count": 53,
     "metadata": {},
     "output_type": "execute_result"
    }
   ],
   "source": [
    "qc = QuantumCircuit(q, c)\n",
    "qc.x(q[0]).c_if(c, 0)\n",
    "qc.measure(q,c)\n",
    "qc.draw(output='mpl')"
   ]
  },
  {
   "cell_type": "markdown",
   "metadata": {},
   "source": [
    "Aquí el bit clásico siempre toma el valor 0, por lo que el estado del qubit siempre se invierte."
   ]
  },
  {
   "cell_type": "code",
   "execution_count": 54,
   "metadata": {},
   "outputs": [
    {
     "data": {
      "text/plain": [
       "{'1': 1024}"
      ]
     },
     "execution_count": 54,
     "metadata": {},
     "output_type": "execute_result"
    }
   ],
   "source": [
    "job = backend.run(transpile(qc, backend))\n",
    "job.result().get_counts(qc)"
   ]
  },
  {
   "cell_type": "code",
   "execution_count": 55,
   "metadata": {},
   "outputs": [
    {
     "data": {
      "image/png": "[encoded data removed]",
      "text/plain": [
       "<Figure size 472.747x200.667 with 1 Axes>"
      ]
     },
     "execution_count": 55,
     "metadata": {},
     "output_type": "execute_result"
    }
   ],
   "source": [
    "qc = QuantumCircuit(q, c)\n",
    "qc.h(q)\n",
    "qc.measure(q,c)\n",
    "qc.x(q[0]).c_if(c, 0)\n",
    "qc.measure(q,c)\n",
    "qc.draw(output='mpl')"
   ]
  },
  {
   "cell_type": "code",
   "execution_count": 56,
   "metadata": {},
   "outputs": [
    {
     "data": {
      "text/plain": [
       "{'1': 1024}"
      ]
     },
     "execution_count": 56,
     "metadata": {},
     "output_type": "execute_result"
    }
   ],
   "source": [
    "job = backend.run(transpile(qc, backend))\n",
    "job.result().get_counts(qc)"
   ]
  },
  {
   "cell_type": "markdown",
   "metadata": {},
   "source": [
    "Aquí el bit clásico por la primera medición es aleatorio pero la operación condicional resulta en que el qubit se pone determinísticamente en $\\left|1\\right\\rangle$."
   ]
  },
  {
   "cell_type": "markdown",
   "metadata": {},
   "source": [
    "## Inicialización manual.\n",
    "\n",
    "¿Qué pasa si queremos inicializar un registro qubit a un estado arbitrario? Un estado arbitrario para $n$ qubits puede ser especificado por un vector de $2^n$ amplitudes, donde la suma de amplitudes-normas-cuadrado es igual a 1. Por ejemplo, se puede preparar el siguiente estado de tres qubits:"
   ]
  },
  {
   "cell_type": "markdown",
   "metadata": {},
   "source": [
    "$$\\left|\\psi\\right\\rangle = \\frac{i}{4}\\left|000\\right\\rangle + \\frac{1}{\\sqrt{8}}\\left|001\\right\\rangle + \\frac{1+i}{4}\\left|010\\right\\rangle + \\frac{1+2i}{\\sqrt{8}}\\left|101\\right\\rangle + \\frac{1}{4}\\left|110\\right\\rangle$$"
   ]
  },
  {
   "cell_type": "code",
   "execution_count": 57,
   "metadata": {},
   "outputs": [
    {
     "data": {
      "image/png": "[encoded data removed]",
      "text/plain": [
       "<Figure size 658.402x284.278 with 1 Axes>"
      ]
     },
     "execution_count": 57,
     "metadata": {},
     "output_type": "execute_result"
    }
   ],
   "source": [
    "# Initializing a three-qubit quantum state\n",
    "import math\n",
    "desired_vector = [\n",
    "    1 / math.sqrt(16) * complex(0, 1),\n",
    "    1 / math.sqrt(8) * complex(1, 0),\n",
    "    1 / math.sqrt(16) * complex(1, 1),\n",
    "    0,\n",
    "    0,\n",
    "    1 / math.sqrt(8) * complex(1, 2),\n",
    "    1 / math.sqrt(16) * complex(1, 0),\n",
    "    0]\n",
    "\n",
    "\n",
    "q = QuantumRegister(3)\n",
    "\n",
    "qc = QuantumCircuit(q)\n",
    "\n",
    "qc.initialize(desired_vector, [q[0],q[1],q[2]])\n",
    "qc.draw(output='mpl')"
   ]
  },
  {
   "cell_type": "code",
   "execution_count": 58,
   "metadata": {},
   "outputs": [
    {
     "data": {
      "text/plain": [
       "array([1.66533454e-16+2.50000000e-01j, 3.53553391e-01-5.55111512e-17j,\n",
       "       2.50000000e-01+2.50000000e-01j, 0.00000000e+00+0.00000000e+00j,\n",
       "       0.00000000e+00+0.00000000e+00j, 3.53553391e-01+7.07106781e-01j,\n",
       "       2.50000000e-01-9.02056208e-17j, 0.00000000e+00+0.00000000e+00j])"
      ]
     },
     "execution_count": 58,
     "metadata": {},
     "output_type": "execute_result"
    }
   ],
   "source": [
    "backend = BasicAer.get_backend('statevector_simulator')\n",
    "job = backend.run(transpile(qc, backend))\n",
    "qc_state = job.result().get_statevector(qc)\n",
    "qc_state "
   ]
  },
  {
   "cell_type": "markdown",
   "metadata": {},
   "source": [
    "## Fidelity\n",
    "```{index} Fidelity\n",
    "```\n",
    "<a href=\"https://en.wikipedia.org/wiki/Fidelity_of_quantum_states\" target=\"-blank\">Fidelity </a>es útil para comprobar si dos estados son iguales o no.\n",
    "\n",
    "Para los estados cuánticos (puros) $\\left|\\psi_1\\right\\rangle$ y $\\left|\\psi_2\\right\\rangle$, la fidelidad es\n",
    "\n",
    "$$\n",
    "F\\left(\\left|\\psi_1\\right\\rangle,\\left|\\psi_2\\right\\rangle\\right) = \\left|\\left\\langle\\psi_1\\middle|\\psi_2\\right\\rangle\\right|^2.\n",
    "$$\n",
    "\n",
    "La fidelidad es igual a $1$ si y sólo si dos estados son iguales."
   ]
  },
  {
   "cell_type": "code",
   "execution_count": 59,
   "metadata": {},
   "outputs": [
    {
     "data": {
      "text/plain": [
       "1.0000000000000004"
      ]
     },
     "execution_count": 59,
     "metadata": {},
     "output_type": "execute_result"
    }
   ],
   "source": [
    "from qiskit.quantum_info import state_fidelity\n",
    "\n",
    "state_fidelity(desired_vector,qc_state)"
   ]
  },
  {
   "cell_type": "markdown",
   "metadata": {},
   "source": [
    "### Cómo se consigue esta inicialización.\n",
    "\n",
    "¿Cómo se genera entre bastidores el estado deseado? Existen varios métodos para hacerlo. Qiskit utiliza un <a href=\"https://arxiv.org/abs/quant-ph/0406176\" target=\"_blank\">método propuesto por Shende et al </a>.\n",
    "\n",
    "Aquí, la idea es suponer que el registro cuántico ha comenzado desde nuestro estado deseado, y construir un circuito que lo lleva al estado $\\left|00..0\\right\\rangle$. El circuito de inicialización es entonces la inversa de dicho circuito.\n",
    "\n",
    "Para llevar un estado cuántico arbitrario al estado cero en la base computacional, realizamos un procedimiento iterativo que desenreda los qubits del registro uno a uno. Sabemos que cualquier estado arbitrario de un solo qubit $\\left|\\rho\\right\\rangle$ puede llevarse al estado $\\left|0\\right\\rangle$ utilizando una rotación de $\\phi$ grados sobre el eje Z seguida de una rotación de $\\theta$ grados sobre el eje Y:\n",
    "\n",
    "$$R_y(-\\theta)R_z(-\\phi)\\left|\\rho\\right\\rangle = re^{it}\\left|0\\right\\rangle$$\n",
    "\n",
    "Como ahora estamos tratando con $n$ qubits en lugar de sólo 1, debemos factorizar el vector de estado para separar el bit menos significativo (LSB):\n",
    "\n",
    "$$\\begin{align*}\n",
    " \\left|\\psi\\right\\rangle =& \\alpha_{0_0}\\left|00..00\\right\\rangle + \\alpha_{0_1}\\left|00..01\\right\\rangle + \\alpha_{1_0}\\left|00..10\\right\\rangle + \\alpha_{1_1}\\left|00..11\\right\\rangle + ... \\\\&+ \\alpha_{(2^{n-1}-1)_0}\\left|11..10\\right\\rangle + \\alpha_{(2^{n-1}-1)_1}\\left|11..11\\right\\rangle \\\\\n",
    "=& \\left|00..0\\right\\rangle (\\alpha_{0_0}\\left|0\\right\\rangle + \\alpha_{0_1}\\left|1\\right\\rangle) + \\left|00..1\\right\\rangle (\\alpha_{1_0}\\left|0\\right\\rangle + \\alpha_{1_1}\\left|1\\right\\rangle) + ... \\\\&+ \\left|11..1\\right\\rangle (\\alpha_{(2^{n-1}-1)_0}(\\left|0\\right\\rangle + \\alpha_{(2^{n-1}-1)_1}\\left|1\\right\\rangle) \\\\\n",
    "=& \\left|00..0\\right\\rangle\\left|\\rho_0\\right\\rangle + \\left|00..1\\right\\rangle\\left|\\rho_1\\right\\rangle + ... + \\left|11..1\\right\\rangle\\left|\\rho_{2^{n-1}-1}\\right\\rangle\n",
    "\\end{align*}$$\n",
    "\n",
    "Ahora cada uno de los estados single-qubit $\\left|\\rho_0\\right\\rangle$, ..., \\left|\\rho_{2^{n-1}-1}\\right\\rangle$ puede ser llevado a $\\left|0\\right\\rangle$ encontrando los ángulos $\\phi$ y $\\theta$ apropiados según la ecuación anterior. Hacer esto simultáneamente en todos los estados equivale a la siguiente unitaria, que desenreda el LSB:\n",
    "\n",
    "$$U = \\begin{pmatrix} \n",
    "R_{y}(-\\theta_0)R_{z}(-\\phi_0) & & & &\\\\  \n",
    "& R_{y}(-\\theta_1)R_{z}(-\\phi_1) & & &\\\\\n",
    "& . & & &\\\\\n",
    "& & . & &\\\\\n",
    "& & & & R_y(-\\theta_{2^{n-1}-1})R_z(-\\phi_{2^{n-1}-1})\n",
    "\\end{pmatrix} $$\n",
    "\n",
    "Por lo tanto,\n",
    "\n",
    "$$U\\left|\\psi\\right\\rangle = \\begin{pmatrix} r_0e^{it_0}\\\\ r_1e^{it_1}\\\\ . \\\\ . \\\\ r_{2^{n-1}-1}e^{it_{2^{n-1}-1}} \\end{pmatrix}\\otimes\\left|0\\right\\rangle$$\n",
    "\n",
    "U puede implementarse como una puerta \"multiplexora cuántica\", ya que es una matriz diagonal de bloques. En el formalismo del multiplexor cuántico, una matriz diagonal de bloques de tamaño $2^n \\times 2^n$, y que consta de $2^s$ bloques, es equivalente a un multiplexor con $s$ qubits de selección y $n-s$ qubits de datos. Dependiendo del estado de los qubits de selección, los bloques correspondientes se aplican a los qubits de datos. Un multiplexor de este tipo puede implementarse tras una descomposición recursiva en puertas primitivas de cx, rz y ry."
   ]
  },
  {
   "cell_type": "markdown",
   "metadata": {},
   "source": [
    "## Recursos adicionales.\n",
    "\n",
    "Puede encontrar una hoja de trucos creada por la comunidad con algunas de las puertas cuánticas más comunes y sus propiedades [en este enlace](https://raw.githubusercontent.com/qiskit-community/qiskit-textbook/main/content/ch-states/supplements/single-gates-cheatsheet.pdf).\n",
    "\n",
    "También se puede ver un desarrollo de las puertas de qiskit <a href=\"https://qiskit.org/documentation/tutorials/circuits/3_summary_of_quantum_operations.html\" target=\"_blank\">en este enlace</a>"
   ]
  },
  {
   "cell_type": "code",
   "execution_count": 60,
   "metadata": {},
   "outputs": [
    {
     "data": {
      "text/html": [
       "<h3>Version Information</h3><table><tr><th>Software</th><th>Version</th></tr><tr><td><code>qiskit</code></td><td>0.44.2</td></tr><tr><td><code>qiskit-terra</code></td><td>0.25.2</td></tr><tr><td><code>qiskit_aer</code></td><td>0.12.2</td></tr><tr><th colspan='2'>System information</th></tr><tr><td>Python version</td><td>3.11.4</td></tr><tr><td>Python compiler</td><td>MSC v.1916 64 bit (AMD64)</td></tr><tr><td>Python build</td><td>main, Jul  5 2023 13:38:37</td></tr><tr><td>OS</td><td>Windows</td></tr><tr><td>CPUs</td><td>4</td></tr><tr><td>Memory (Gb)</td><td>11.799663543701172</td></tr><tr><td colspan='2'>Tue Oct 24 10:11:32 2023 Hora de verano romance</td></tr></table>"
      ],
      "text/plain": [
       "<IPython.core.display.HTML object>"
      ]
     },
     "metadata": {},
     "output_type": "display_data"
    }
   ],
   "source": [
    "import qiskit.tools.jupyter\n",
    "%qiskit_version_table"
   ]
  },
  {
   "cell_type": "code",
   "execution_count": null,
   "metadata": {},
   "outputs": [],
   "source": []
  }
 ],
 "metadata": {
  "kernelspec": {
   "display_name": "Python 3 (ipykernel)",
   "language": "python",
   "name": "python3"
  },
  "language_info": {
   "codemirror_mode": {
    "name": "ipython",
    "version": 3
   },
   "file_extension": ".py",
   "mimetype": "text/x-python",
   "name": "python",
   "nbconvert_exporter": "python",
   "pygments_lexer": "ipython3",
   "version": "3.11.4"
  },
  "nbdime-conflicts": {
   "local_diff": [
    {
     "diff": [
      {
       "diff": [
        {
         "key": 0,
         "op": "addrange",
         "valuelist": [
          "3.9.4"
         ]
        },
        {
         "key": 0,
         "length": 1,
         "op": "removerange"
        }
       ],
       "key": "version",
       "op": "patch"
      }
     ],
     "key": "language_info",
     "op": "patch"
    }
   ],
   "remote_diff": [
    {
     "diff": [
      {
       "diff": [
        {
         "key": 0,
         "op": "addrange",
         "valuelist": [
          "3.8.8"
         ]
        },
        {
         "key": 0,
         "length": 1,
         "op": "removerange"
        }
       ],
       "key": "version",
       "op": "patch"
      }
     ],
     "key": "language_info",
     "op": "patch"
    }
   ]
  },
  "toc": {
   "base_numbering": 1,
   "nav_menu": {},
   "number_sections": true,
   "sideBar": true,
   "skip_h1_title": false,
   "title_cell": "Table of Contents",
   "title_sidebar": "Contents",
   "toc_cell": false,
   "toc_position": {
    "height": "calc(100% - 180px)",
    "left": "10px",
    "top": "150px",
    "width": "172.727px"
   },
   "toc_section_display": true,
   "toc_window_display": true
  },
  "varInspector": {
   "cols": {
    "lenName": 16,
    "lenType": 16,
    "lenVar": 40
   },
   "kernels_config": {
    "python": {
     "delete_cmd_postfix": "",
     "delete_cmd_prefix": "del ",
     "library": "var_list.py",
     "varRefreshCmd": "print(var_dic_list())"
    },
    "r": {
     "delete_cmd_postfix": ") ",
     "delete_cmd_prefix": "rm(",
     "library": "var_list.r",
     "varRefreshCmd": "cat(var_dic_list()) "
    }
   },
   "types_to_exclude": [
    "module",
    "function",
    "builtin_function_or_method",
    "instance",
    "_Feature"
   ],
   "window_display": false
  },
  "widgets": {
   "application/vnd.jupyter.widget-state+json": {
    "state": {
     "014e2be35793420a82baca6b07071cbf": {
      "buffers": [
       {
        "data": "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",
        "encoding": "base64",
        "path": [
         "value"
        ]
       }
      ],
      "model_module": "@jupyter-widgets/controls",
      "model_module_version": "1.5.0",
      "model_name": "ImageModel",
      "state": {
       "_dom_classes": [],
       "_model_module": "@jupyter-widgets/controls",
       "_model_module_version": "1.5.0",
       "_model_name": "ImageModel",
       "_view_count": null,
       "_view_module": "@jupyter-widgets/controls",
       "_view_module_version": "1.5.0",
       "_view_name": "ImageView",
       "format": "png",
       "height": "",
       "layout": "IPY_MODEL_690b4e946f484a54934fe0cf1719ae8c",
       "value": {},
       "width": ""
      }
     },
     "01532e2a834643828ea4fb7eefe07807": {
      "model_module": "@jupyter-widgets/controls",
      "model_module_version": "1.5.0",
      "model_name": "ButtonModel",
      "state": {
       "_dom_classes": [],
       "_model_module": "@jupyter-widgets/controls",
       "_model_module_version": "1.5.0",
       "_model_name": "ButtonModel",
       "_view_count": null,
       "_view_module": "@jupyter-widgets/controls",
       "_view_module_version": "1.5.0",
       "_view_name": "ButtonView",
       "button_style": "",
       "description": "Rz",
       "disabled": false,
       "icon": "",
       "layout": "IPY_MODEL_50c45aff5424472e97e1ed2da672963f",
       "style": "IPY_MODEL_4c1556b3e1d94b429e6af93576d5c9ae",
       "tooltip": ""
      }
     },
     "0854aeb36aad46a8b8d2a8ae1ef12999": {
      "model_module": "@jupyter-widgets/controls",
      "model_module_version": "1.5.0",
      "model_name": "ButtonStyleModel",
      "state": {
       "_model_module": "@jupyter-widgets/controls",
       "_model_module_version": "1.5.0",
       "_model_name": "ButtonStyleModel",
       "_view_count": null,
       "_view_module": "@jupyter-widgets/base",
       "_view_module_version": "1.2.0",
       "_view_name": "StyleView",
       "button_color": null,
       "font_weight": ""
      }
     },
     "08e0044d24724f48a3367a6d7666e8e4": {
      "model_module": "@jupyter-widgets/controls",
      "model_module_version": "1.5.0",
      "model_name": "ButtonModel",
      "state": {
       "_dom_classes": [],
       "_model_module": "@jupyter-widgets/controls",
       "_model_module_version": "1.5.0",
       "_model_name": "ButtonModel",
       "_view_count": null,
       "_view_module": "@jupyter-widgets/controls",
       "_view_module_version": "1.5.0",
       "_view_name": "ButtonView",
       "button_style": "",
       "description": "I",
       "disabled": false,
       "icon": "",
       "layout": "IPY_MODEL_0994e97277c6411aa2a46dfcbdbbc647",
       "style": "IPY_MODEL_18687e3b87584d27805fecf41f8f767a",
       "tooltip": ""
      }
     },
     "0994e97277c6411aa2a46dfcbdbbc647": {
      "model_module": "@jupyter-widgets/base",
      "model_module_version": "1.2.0",
      "model_name": "LayoutModel",
      "state": {
       "_model_module": "@jupyter-widgets/base",
       "_model_module_version": "1.2.0",
       "_model_name": "LayoutModel",
       "_view_count": null,
       "_view_module": "@jupyter-widgets/base",
       "_view_module_version": "1.2.0",
       "_view_name": "LayoutView",
       "align_content": null,
       "align_items": null,
       "align_self": null,
       "border": null,
       "bottom": null,
       "display": null,
       "flex": null,
       "flex_flow": null,
       "grid_area": null,
       "grid_auto_columns": null,
       "grid_auto_flow": null,
       "grid_auto_rows": null,
       "grid_column": null,
       "grid_gap": null,
       "grid_row": null,
       "grid_template_areas": null,
       "grid_template_columns": null,
       "grid_template_rows": null,
       "height": "3em",
       "justify_content": null,
       "justify_items": null,
       "left": null,
       "margin": null,
       "max_height": null,
       "max_width": null,
       "min_height": null,
       "min_width": null,
       "object_fit": null,
       "object_position": null,
       "order": null,
       "overflow": null,
       "overflow_x": null,
       "overflow_y": null,
       "padding": null,
       "right": null,
       "top": null,
       "visibility": null,
       "width": "3em"
      }
     },
     "09dc10c77cdb4467a47e89fcb5e5e9ec": {
      "model_module": "@jupyter-widgets/controls",
      "model_module_version": "1.5.0",
      "model_name": "ButtonModel",
      "state": {
       "_dom_classes": [],
       "_model_module": "@jupyter-widgets/controls",
       "_model_module_version": "1.5.0",
       "_model_name": "ButtonModel",
       "_view_count": null,
       "_view_module": "@jupyter-widgets/controls",
       "_view_module_version": "1.5.0",
       "_view_name": "ButtonView",
       "button_style": "",
       "description": "Y",
       "disabled": false,
       "icon": "",
       "layout": "IPY_MODEL_329043247e9d4a8a96a5ec4df23f1912",
       "style": "IPY_MODEL_d11e4cef9ec541e289121d0bd6dd4cfd",
       "tooltip": ""
      }
     },
     "0a11b4e6801447f39fa2d329271d6863": {
      "model_module": "@jupyter-widgets/controls",
      "model_module_version": "1.5.0",
      "model_name": "ButtonStyleModel",
      "state": {
       "_model_module": "@jupyter-widgets/controls",
       "_model_module_version": "1.5.0",
       "_model_name": "ButtonStyleModel",
       "_view_count": null,
       "_view_module": "@jupyter-widgets/base",
       "_view_module_version": "1.2.0",
       "_view_name": "StyleView",
       "button_color": null,
       "font_weight": ""
      }
     },
     "0c22f943218b48d6aa231421858a75c3": {
      "model_module": "@jupyter-widgets/base",
      "model_module_version": "1.2.0",
      "model_name": "LayoutModel",
      "state": {
       "_model_module": "@jupyter-widgets/base",
       "_model_module_version": "1.2.0",
       "_model_name": "LayoutModel",
       "_view_count": null,
       "_view_module": "@jupyter-widgets/base",
       "_view_module_version": "1.2.0",
       "_view_name": "LayoutView",
       "align_content": null,
       "align_items": null,
       "align_self": null,
       "border": null,
       "bottom": null,
       "display": null,
       "flex": null,
       "flex_flow": null,
       "grid_area": null,
       "grid_auto_columns": null,
       "grid_auto_flow": null,
       "grid_auto_rows": null,
       "grid_column": null,
       "grid_gap": null,
       "grid_row": null,
       "grid_template_areas": null,
       "grid_template_columns": null,
       "grid_template_rows": null,
       "height": null,
       "justify_content": null,
       "justify_items": null,
       "left": null,
       "margin": null,
       "max_height": null,
       "max_width": null,
       "min_height": null,
       "min_width": null,
       "object_fit": null,
       "object_position": null,
       "order": null,
       "overflow": null,
       "overflow_x": null,
       "overflow_y": null,
       "padding": null,
       "right": null,
       "top": null,
       "visibility": null,
       "width": null
      }
     },
     "0cb080f4ce004ac1b2814be68074503c": {
      "model_module": "@jupyter-widgets/controls",
      "model_module_version": "1.5.0",
      "model_name": "ButtonModel",
      "state": {
       "_dom_classes": [],
       "_model_module": "@jupyter-widgets/controls",
       "_model_module_version": "1.5.0",
       "_model_name": "ButtonModel",
       "_view_count": null,
       "_view_module": "@jupyter-widgets/controls",
       "_view_module_version": "1.5.0",
       "_view_name": "ButtonView",
       "button_style": "",
       "description": "H",
       "disabled": false,
       "icon": "",
       "layout": "IPY_MODEL_88c15ef32aa9419c972f74d05acdba10",
       "style": "IPY_MODEL_1e10fb8b5b0a454db781bf5cddc56f26",
       "tooltip": ""
      }
     },
     "10005774ec04456bb0064eabcf7dd32c": {
      "model_module": "@jupyter-widgets/base",
      "model_module_version": "1.2.0",
      "model_name": "LayoutModel",
      "state": {
       "_model_module": "@jupyter-widgets/base",
       "_model_module_version": "1.2.0",
       "_model_name": "LayoutModel",
       "_view_count": null,
       "_view_module": "@jupyter-widgets/base",
       "_view_module_version": "1.2.0",
       "_view_name": "LayoutView",
       "align_content": null,
       "align_items": null,
       "align_self": null,
       "border": null,
       "bottom": null,
       "display": null,
       "flex": null,
       "flex_flow": null,
       "grid_area": null,
       "grid_auto_columns": null,
       "grid_auto_flow": null,
       "grid_auto_rows": null,
       "grid_column": null,
       "grid_gap": null,
       "grid_row": null,
       "grid_template_areas": null,
       "grid_template_columns": null,
       "grid_template_rows": null,
       "height": null,
       "justify_content": null,
       "justify_items": null,
       "left": null,
       "margin": null,
       "max_height": null,
       "max_width": null,
       "min_height": null,
       "min_width": null,
       "object_fit": null,
       "object_position": null,
       "order": null,
       "overflow": null,
       "overflow_x": null,
       "overflow_y": null,
       "padding": null,
       "right": null,
       "top": null,
       "visibility": null,
       "width": null
      }
     },
     "10914e7434b24a65ac9222d111a494af": {
      "model_module": "@jupyter-widgets/base",
      "model_module_version": "1.2.0",
      "model_name": "LayoutModel",
      "state": {
       "_model_module": "@jupyter-widgets/base",
       "_model_module_version": "1.2.0",
       "_model_name": "LayoutModel",
       "_view_count": null,
       "_view_module": "@jupyter-widgets/base",
       "_view_module_version": "1.2.0",
       "_view_name": "LayoutView",
       "align_content": null,
       "align_items": null,
       "align_self": null,
       "border": null,
       "bottom": null,
       "display": null,
       "flex": null,
       "flex_flow": null,
       "grid_area": null,
       "grid_auto_columns": null,
       "grid_auto_flow": null,
       "grid_auto_rows": null,
       "grid_column": null,
       "grid_gap": null,
       "grid_row": null,
       "grid_template_areas": null,
       "grid_template_columns": null,
       "grid_template_rows": null,
       "height": "3em",
       "justify_content": null,
       "justify_items": null,
       "left": null,
       "margin": null,
       "max_height": null,
       "max_width": null,
       "min_height": null,
       "min_width": null,
       "object_fit": null,
       "object_position": null,
       "order": null,
       "overflow": null,
       "overflow_x": null,
       "overflow_y": null,
       "padding": null,
       "right": null,
       "top": null,
       "visibility": null,
       "width": "3em"
      }
     },
     "152e150e752e4710b3895c37366a9a6f": {
      "model_module": "@jupyter-widgets/controls",
      "model_module_version": "1.5.0",
      "model_name": "VBoxModel",
      "state": {
       "_dom_classes": [],
       "_model_module": "@jupyter-widgets/controls",
       "_model_module_version": "1.5.0",
       "_model_name": "VBoxModel",
       "_view_count": null,
       "_view_module": "@jupyter-widgets/controls",
       "_view_module_version": "1.5.0",
       "_view_name": "VBoxView",
       "box_style": "",
       "children": [
        "IPY_MODEL_f4c05b74fc084da792f26ab98fc78ace",
        "IPY_MODEL_99b4e42dcd62481fa30a99eb6dab06b7"
       ],
       "layout": "IPY_MODEL_85cedd3773114578a52b2d21e1d901c9"
      }
     },
     "15bf026f48e04266b88a15a9b509197c": {
      "model_module": "@jupyter-widgets/controls",
      "model_module_version": "1.5.0",
      "model_name": "ButtonModel",
      "state": {
       "_dom_classes": [],
       "_model_module": "@jupyter-widgets/controls",
       "_model_module_version": "1.5.0",
       "_model_name": "ButtonModel",
       "_view_count": null,
       "_view_module": "@jupyter-widgets/controls",
       "_view_module_version": "1.5.0",
       "_view_name": "ButtonView",
       "button_style": "",
       "description": "Reset",
       "disabled": false,
       "icon": "",
       "layout": "IPY_MODEL_4d1e969201464af9ad465fb883d3cc6b",
       "style": "IPY_MODEL_5d86fe936e10428da191a92876ec430d",
       "tooltip": ""
      }
     },
     "18687e3b87584d27805fecf41f8f767a": {
      "model_module": "@jupyter-widgets/controls",
      "model_module_version": "1.5.0",
      "model_name": "ButtonStyleModel",
      "state": {
       "_model_module": "@jupyter-widgets/controls",
       "_model_module_version": "1.5.0",
       "_model_name": "ButtonStyleModel",
       "_view_count": null,
       "_view_module": "@jupyter-widgets/base",
       "_view_module_version": "1.2.0",
       "_view_name": "StyleView",
       "button_color": null,
       "font_weight": ""
      }
     },
     "19588833c4294b95a92fa1920e653e47": {
      "model_module": "@jupyter-widgets/base",
      "model_module_version": "1.2.0",
      "model_name": "LayoutModel",
      "state": {
       "_model_module": "@jupyter-widgets/base",
       "_model_module_version": "1.2.0",
       "_model_name": "LayoutModel",
       "_view_count": null,
       "_view_module": "@jupyter-widgets/base",
       "_view_module_version": "1.2.0",
       "_view_name": "LayoutView",
       "align_content": null,
       "align_items": null,
       "align_self": null,
       "border": null,
       "bottom": null,
       "display": null,
       "flex": null,
       "flex_flow": null,
       "grid_area": null,
       "grid_auto_columns": null,
       "grid_auto_flow": null,
       "grid_auto_rows": null,
       "grid_column": null,
       "grid_gap": null,
       "grid_row": null,
       "grid_template_areas": null,
       "grid_template_columns": null,
       "grid_template_rows": null,
       "height": "3em",
       "justify_content": null,
       "justify_items": null,
       "left": null,
       "margin": null,
       "max_height": null,
       "max_width": null,
       "min_height": null,
       "min_width": null,
       "object_fit": null,
       "object_position": null,
       "order": null,
       "overflow": null,
       "overflow_x": null,
       "overflow_y": null,
       "padding": null,
       "right": null,
       "top": null,
       "visibility": null,
       "width": "6em"
      }
     },
     "1b629f26cea34e9bb168ee081ada4c5c": {
      "model_module": "@jupyter-widgets/base",
      "model_module_version": "1.2.0",
      "model_name": "LayoutModel",
      "state": {
       "_model_module": "@jupyter-widgets/base",
       "_model_module_version": "1.2.0",
       "_model_name": "LayoutModel",
       "_view_count": null,
       "_view_module": "@jupyter-widgets/base",
       "_view_module_version": "1.2.0",
       "_view_name": "LayoutView",
       "align_content": null,
       "align_items": null,
       "align_self": null,
       "border": null,
       "bottom": null,
       "display": null,
       "flex": null,
       "flex_flow": null,
       "grid_area": null,
       "grid_auto_columns": null,
       "grid_auto_flow": null,
       "grid_auto_rows": null,
       "grid_column": null,
       "grid_gap": null,
       "grid_row": null,
       "grid_template_areas": null,
       "grid_template_columns": null,
       "grid_template_rows": null,
       "height": "3em",
       "justify_content": null,
       "justify_items": null,
       "left": null,
       "margin": null,
       "max_height": null,
       "max_width": null,
       "min_height": null,
       "min_width": null,
       "object_fit": null,
       "object_position": null,
       "order": null,
       "overflow": null,
       "overflow_x": null,
       "overflow_y": null,
       "padding": null,
       "right": null,
       "top": null,
       "visibility": null,
       "width": "3em"
      }
     },
     "1b9cd926dc574ed3a44b5b7549c40391": {
      "model_module": "@jupyter-widgets/controls",
      "model_module_version": "1.5.0",
      "model_name": "VBoxModel",
      "state": {
       "_dom_classes": [],
       "_model_module": "@jupyter-widgets/controls",
       "_model_module_version": "1.5.0",
       "_model_name": "VBoxModel",
       "_view_count": null,
       "_view_module": "@jupyter-widgets/controls",
       "_view_module_version": "1.5.0",
       "_view_name": "VBoxView",
       "box_style": "",
       "children": [
        "IPY_MODEL_4b9fa46364e4416f9fc65be88f335543",
        "IPY_MODEL_6fa63d17eb1b4925945e0f0de837b201"
       ],
       "layout": "IPY_MODEL_e59930139e1e4c84a0353d861f729f1a"
      }
     },
     "1e10fb8b5b0a454db781bf5cddc56f26": {
      "model_module": "@jupyter-widgets/controls",
      "model_module_version": "1.5.0",
      "model_name": "ButtonStyleModel",
      "state": {
       "_model_module": "@jupyter-widgets/controls",
       "_model_module_version": "1.5.0",
       "_model_name": "ButtonStyleModel",
       "_view_count": null,
       "_view_module": "@jupyter-widgets/base",
       "_view_module_version": "1.2.0",
       "_view_name": "StyleView",
       "button_color": null,
       "font_weight": ""
      }
     },
     "21c899af66ec44f289e4cb9be2222ca6": {
      "model_module": "@jupyter-widgets/base",
      "model_module_version": "1.2.0",
      "model_name": "LayoutModel",
      "state": {
       "_model_module": "@jupyter-widgets/base",
       "_model_module_version": "1.2.0",
       "_model_name": "LayoutModel",
       "_view_count": null,
       "_view_module": "@jupyter-widgets/base",
       "_view_module_version": "1.2.0",
       "_view_name": "LayoutView",
       "align_content": null,
       "align_items": null,
       "align_self": null,
       "border": null,
       "bottom": null,
       "display": null,
       "flex": null,
       "flex_flow": null,
       "grid_area": null,
       "grid_auto_columns": null,
       "grid_auto_flow": null,
       "grid_auto_rows": null,
       "grid_column": null,
       "grid_gap": null,
       "grid_row": null,
       "grid_template_areas": null,
       "grid_template_columns": null,
       "grid_template_rows": null,
       "height": "3em",
       "justify_content": null,
       "justify_items": null,
       "left": null,
       "margin": null,
       "max_height": null,
       "max_width": null,
       "min_height": null,
       "min_width": null,
       "object_fit": null,
       "object_position": null,
       "order": null,
       "overflow": null,
       "overflow_x": null,
       "overflow_y": null,
       "padding": null,
       "right": null,
       "top": null,
       "visibility": null,
       "width": "3em"
      }
     },
     "268da620795e4225a9cabb4af6115d3e": {
      "model_module": "@jupyter-widgets/base",
      "model_module_version": "1.2.0",
      "model_name": "LayoutModel",
      "state": {
       "_model_module": "@jupyter-widgets/base",
       "_model_module_version": "1.2.0",
       "_model_name": "LayoutModel",
       "_view_count": null,
       "_view_module": "@jupyter-widgets/base",
       "_view_module_version": "1.2.0",
       "_view_name": "LayoutView",
       "align_content": null,
       "align_items": null,
       "align_self": null,
       "border": null,
       "bottom": null,
       "display": null,
       "flex": null,
       "flex_flow": null,
       "grid_area": null,
       "grid_auto_columns": null,
       "grid_auto_flow": null,
       "grid_auto_rows": null,
       "grid_column": null,
       "grid_gap": null,
       "grid_row": null,
       "grid_template_areas": null,
       "grid_template_columns": null,
       "grid_template_rows": null,
       "height": "3em",
       "justify_content": null,
       "justify_items": null,
       "left": null,
       "margin": null,
       "max_height": null,
       "max_width": null,
       "min_height": null,
       "min_width": null,
       "object_fit": null,
       "object_position": null,
       "order": null,
       "overflow": null,
       "overflow_x": null,
       "overflow_y": null,
       "padding": null,
       "right": null,
       "top": null,
       "visibility": null,
       "width": "3em"
      }
     },
     "285d0fac51b8457baade0938fa278660": {
      "model_module": "@jupyter-widgets/base",
      "model_module_version": "1.2.0",
      "model_name": "LayoutModel",
      "state": {
       "_model_module": "@jupyter-widgets/base",
       "_model_module_version": "1.2.0",
       "_model_name": "LayoutModel",
       "_view_count": null,
       "_view_module": "@jupyter-widgets/base",
       "_view_module_version": "1.2.0",
       "_view_name": "LayoutView",
       "align_content": null,
       "align_items": null,
       "align_self": null,
       "border": null,
       "bottom": null,
       "display": null,
       "flex": null,
       "flex_flow": null,
       "grid_area": null,
       "grid_auto_columns": null,
       "grid_auto_flow": null,
       "grid_auto_rows": null,
       "grid_column": null,
       "grid_gap": null,
       "grid_row": null,
       "grid_template_areas": null,
       "grid_template_columns": null,
       "grid_template_rows": null,
       "height": "3em",
       "justify_content": null,
       "justify_items": null,
       "left": null,
       "margin": null,
       "max_height": null,
       "max_width": null,
       "min_height": null,
       "min_width": null,
       "object_fit": null,
       "object_position": null,
       "order": null,
       "overflow": null,
       "overflow_x": null,
       "overflow_y": null,
       "padding": null,
       "right": null,
       "top": null,
       "visibility": null,
       "width": "3em"
      }
     },
     "2b2fa4398727412994eaf46073f2075b": {
      "model_module": "@jupyter-widgets/controls",
      "model_module_version": "1.5.0",
      "model_name": "ButtonStyleModel",
      "state": {
       "_model_module": "@jupyter-widgets/controls",
       "_model_module_version": "1.5.0",
       "_model_name": "ButtonStyleModel",
       "_view_count": null,
       "_view_module": "@jupyter-widgets/base",
       "_view_module_version": "1.2.0",
       "_view_name": "StyleView",
       "button_color": null,
       "font_weight": ""
      }
     },
     "2c7a7e93fbdc4eaab03eff53ce57599f": {
      "model_module": "@jupyter-widgets/base",
      "model_module_version": "1.2.0",
      "model_name": "LayoutModel",
      "state": {
       "_model_module": "@jupyter-widgets/base",
       "_model_module_version": "1.2.0",
       "_model_name": "LayoutModel",
       "_view_count": null,
       "_view_module": "@jupyter-widgets/base",
       "_view_module_version": "1.2.0",
       "_view_name": "LayoutView",
       "align_content": null,
       "align_items": null,
       "align_self": null,
       "border": null,
       "bottom": null,
       "display": null,
       "flex": null,
       "flex_flow": null,
       "grid_area": null,
       "grid_auto_columns": null,
       "grid_auto_flow": null,
       "grid_auto_rows": null,
       "grid_column": null,
       "grid_gap": null,
       "grid_row": null,
       "grid_template_areas": null,
       "grid_template_columns": null,
       "grid_template_rows": null,
       "height": "3em",
       "justify_content": null,
       "justify_items": null,
       "left": null,
       "margin": null,
       "max_height": null,
       "max_width": null,
       "min_height": null,
       "min_width": null,
       "object_fit": null,
       "object_position": null,
       "order": null,
       "overflow": null,
       "overflow_x": null,
       "overflow_y": null,
       "padding": null,
       "right": null,
       "top": null,
       "visibility": null,
       "width": "3em"
      }
     },
     "2d1d47931ea9431aa7a0faa1d0bf7ff4": {
      "model_module": "@jupyter-widgets/controls",
      "model_module_version": "1.5.0",
      "model_name": "ButtonModel",
      "state": {
       "_dom_classes": [],
       "_model_module": "@jupyter-widgets/controls",
       "_model_module_version": "1.5.0",
       "_model_name": "ButtonModel",
       "_view_count": null,
       "_view_module": "@jupyter-widgets/controls",
       "_view_module_version": "1.5.0",
       "_view_name": "ButtonView",
       "button_style": "",
       "description": "Z",
       "disabled": false,
       "icon": "",
       "layout": "IPY_MODEL_bc61f2ca9a214015bf8dce127f0419be",
       "style": "IPY_MODEL_381b0c64c9fb486aba5df24bb7fb3e02",
       "tooltip": ""
      }
     },
     "2d5ef00e34ca4732af4b0be111644c65": {
      "model_module": "@jupyter-widgets/base",
      "model_module_version": "1.2.0",
      "model_name": "LayoutModel",
      "state": {
       "_model_module": "@jupyter-widgets/base",
       "_model_module_version": "1.2.0",
       "_model_name": "LayoutModel",
       "_view_count": null,
       "_view_module": "@jupyter-widgets/base",
       "_view_module_version": "1.2.0",
       "_view_name": "LayoutView",
       "align_content": null,
       "align_items": null,
       "align_self": null,
       "border": null,
       "bottom": null,
       "display": null,
       "flex": null,
       "flex_flow": null,
       "grid_area": null,
       "grid_auto_columns": null,
       "grid_auto_flow": null,
       "grid_auto_rows": null,
       "grid_column": null,
       "grid_gap": null,
       "grid_row": null,
       "grid_template_areas": null,
       "grid_template_columns": null,
       "grid_template_rows": null,
       "height": null,
       "justify_content": null,
       "justify_items": null,
       "left": null,
       "margin": null,
       "max_height": null,
       "max_width": null,
       "min_height": null,
       "min_width": null,
       "object_fit": null,
       "object_position": null,
       "order": null,
       "overflow": null,
       "overflow_x": null,
       "overflow_y": null,
       "padding": null,
       "right": null,
       "top": null,
       "visibility": null,
       "width": null
      }
     },
     "329043247e9d4a8a96a5ec4df23f1912": {
      "model_module": "@jupyter-widgets/base",
      "model_module_version": "1.2.0",
      "model_name": "LayoutModel",
      "state": {
       "_model_module": "@jupyter-widgets/base",
       "_model_module_version": "1.2.0",
       "_model_name": "LayoutModel",
       "_view_count": null,
       "_view_module": "@jupyter-widgets/base",
       "_view_module_version": "1.2.0",
       "_view_name": "LayoutView",
       "align_content": null,
       "align_items": null,
       "align_self": null,
       "border": null,
       "bottom": null,
       "display": null,
       "flex": null,
       "flex_flow": null,
       "grid_area": null,
       "grid_auto_columns": null,
       "grid_auto_flow": null,
       "grid_auto_rows": null,
       "grid_column": null,
       "grid_gap": null,
       "grid_row": null,
       "grid_template_areas": null,
       "grid_template_columns": null,
       "grid_template_rows": null,
       "height": "3em",
       "justify_content": null,
       "justify_items": null,
       "left": null,
       "margin": null,
       "max_height": null,
       "max_width": null,
       "min_height": null,
       "min_width": null,
       "object_fit": null,
       "object_position": null,
       "order": null,
       "overflow": null,
       "overflow_x": null,
       "overflow_y": null,
       "padding": null,
       "right": null,
       "top": null,
       "visibility": null,
       "width": "3em"
      }
     },
     "37b502a665a84884ac79156e847f3c44": {
      "model_module": "@jupyter-widgets/controls",
      "model_module_version": "1.5.0",
      "model_name": "FloatSliderModel",
      "state": {
       "_dom_classes": [],
       "_model_module": "@jupyter-widgets/controls",
       "_model_module_version": "1.5.0",
       "_model_name": "FloatSliderModel",
       "_view_count": null,
       "_view_module": "@jupyter-widgets/controls",
       "_view_module_version": "1.5.0",
       "_view_name": "FloatSliderView",
       "continuous_update": true,
       "description": "",
       "description_tooltip": null,
       "disabled": false,
       "layout": "IPY_MODEL_a64fc9f744814285bffb4edd1c106d21",
       "max": 3.141592653589793,
       "min": -3.141592653589793,
       "orientation": "horizontal",
       "readout": true,
       "readout_format": ".2f",
       "step": 0.1,
       "style": "IPY_MODEL_f77f38c411f74e039d254aa3dfc0e935",
       "value": 3.141592653589793
      }
     },
     "381b0c64c9fb486aba5df24bb7fb3e02": {
      "model_module": "@jupyter-widgets/controls",
      "model_module_version": "1.5.0",
      "model_name": "ButtonStyleModel",
      "state": {
       "_model_module": "@jupyter-widgets/controls",
       "_model_module_version": "1.5.0",
       "_model_name": "ButtonStyleModel",
       "_view_count": null,
       "_view_module": "@jupyter-widgets/base",
       "_view_module_version": "1.2.0",
       "_view_name": "StyleView",
       "button_color": null,
       "font_weight": ""
      }
     },
     "382025fe443b4652a3da61ee809c36d0": {
      "model_module": "@jupyter-widgets/controls",
      "model_module_version": "1.5.0",
      "model_name": "ButtonModel",
      "state": {
       "_dom_classes": [],
       "_model_module": "@jupyter-widgets/controls",
       "_model_module_version": "1.5.0",
       "_model_name": "ButtonModel",
       "_view_count": null,
       "_view_module": "@jupyter-widgets/controls",
       "_view_module_version": "1.5.0",
       "_view_name": "ButtonView",
       "button_style": "",
       "description": "X",
       "disabled": false,
       "icon": "",
       "layout": "IPY_MODEL_69bb0e94e5f14592993226bcf77ade99",
       "style": "IPY_MODEL_c8bedfb44bc544098ab1b27620597adf",
       "tooltip": ""
      }
     },
     "386adc9f1e7647cc8d12b1c221e86ad6": {
      "model_module": "@jupyter-widgets/base",
      "model_module_version": "1.2.0",
      "model_name": "LayoutModel",
      "state": {
       "_model_module": "@jupyter-widgets/base",
       "_model_module_version": "1.2.0",
       "_model_name": "LayoutModel",
       "_view_count": null,
       "_view_module": "@jupyter-widgets/base",
       "_view_module_version": "1.2.0",
       "_view_name": "LayoutView",
       "align_content": null,
       "align_items": null,
       "align_self": null,
       "border": null,
       "bottom": null,
       "display": null,
       "flex": null,
       "flex_flow": null,
       "grid_area": null,
       "grid_auto_columns": null,
       "grid_auto_flow": null,
       "grid_auto_rows": null,
       "grid_column": null,
       "grid_gap": null,
       "grid_row": null,
       "grid_template_areas": null,
       "grid_template_columns": null,
       "grid_template_rows": null,
       "height": null,
       "justify_content": null,
       "justify_items": null,
       "left": null,
       "margin": null,
       "max_height": null,
       "max_width": null,
       "min_height": null,
       "min_width": null,
       "object_fit": null,
       "object_position": null,
       "order": null,
       "overflow": null,
       "overflow_x": null,
       "overflow_y": null,
       "padding": null,
       "right": null,
       "top": null,
       "visibility": null,
       "width": null
      }
     },
     "3e56198990334699b677848c3bf8b35a": {
      "model_module": "@jupyter-widgets/base",
      "model_module_version": "1.2.0",
      "model_name": "LayoutModel",
      "state": {
       "_model_module": "@jupyter-widgets/base",
       "_model_module_version": "1.2.0",
       "_model_name": "LayoutModel",
       "_view_count": null,
       "_view_module": "@jupyter-widgets/base",
       "_view_module_version": "1.2.0",
       "_view_name": "LayoutView",
       "align_content": null,
       "align_items": null,
       "align_self": null,
       "border": null,
       "bottom": null,
       "display": null,
       "flex": null,
       "flex_flow": null,
       "grid_area": null,
       "grid_auto_columns": null,
       "grid_auto_flow": null,
       "grid_auto_rows": null,
       "grid_column": null,
       "grid_gap": null,
       "grid_row": null,
       "grid_template_areas": null,
       "grid_template_columns": null,
       "grid_template_rows": null,
       "height": null,
       "justify_content": null,
       "justify_items": null,
       "left": null,
       "margin": null,
       "max_height": null,
       "max_width": null,
       "min_height": null,
       "min_width": null,
       "object_fit": null,
       "object_position": null,
       "order": null,
       "overflow": null,
       "overflow_x": null,
       "overflow_y": null,
       "padding": null,
       "right": null,
       "top": null,
       "visibility": null,
       "width": null
      }
     },
     "420bf07181ce41a5931c891b7d15f503": {
      "model_module": "@jupyter-widgets/controls",
      "model_module_version": "1.5.0",
      "model_name": "HBoxModel",
      "state": {
       "_dom_classes": [],
       "_model_module": "@jupyter-widgets/controls",
       "_model_module_version": "1.5.0",
       "_model_name": "HBoxModel",
       "_view_count": null,
       "_view_module": "@jupyter-widgets/controls",
       "_view_module_version": "1.5.0",
       "_view_name": "HBoxView",
       "box_style": "",
       "children": [
        "IPY_MODEL_6d51a01d16af4929a94bc01fc0a203cd",
        "IPY_MODEL_88d03fb4db9c4584ba47e92be05fabb9",
        "IPY_MODEL_c5ad054c237b453f8b137b539c3fcede",
        "IPY_MODEL_7a9a9ffd99d540ac80cd32fd7c5d3e1d"
       ],
       "layout": "IPY_MODEL_2d5ef00e34ca4732af4b0be111644c65"
      }
     },
     "427d9dc45cdc48bfbf3a9e3787daafc6": {
      "model_module": "@jupyter-widgets/controls",
      "model_module_version": "1.5.0",
      "model_name": "ButtonModel",
      "state": {
       "_dom_classes": [],
       "_model_module": "@jupyter-widgets/controls",
       "_model_module_version": "1.5.0",
       "_model_name": "ButtonModel",
       "_view_count": null,
       "_view_module": "@jupyter-widgets/controls",
       "_view_module_version": "1.5.0",
       "_view_name": "ButtonView",
       "button_style": "",
       "description": "S",
       "disabled": false,
       "icon": "",
       "layout": "IPY_MODEL_e9613a6fc4f14581aac36f55ca4c0ee5",
       "style": "IPY_MODEL_5e67bb16ef58437fa97091d41e5d108c",
       "tooltip": ""
      }
     },
     "49dc90b43cbf4ed7a0ab495f698f38be": {
      "model_module": "@jupyter-widgets/controls",
      "model_module_version": "1.5.0",
      "model_name": "ButtonModel",
      "state": {
       "_dom_classes": [],
       "_model_module": "@jupyter-widgets/controls",
       "_model_module_version": "1.5.0",
       "_model_name": "ButtonModel",
       "_view_count": null,
       "_view_module": "@jupyter-widgets/controls",
       "_view_module_version": "1.5.0",
       "_view_name": "ButtonView",
       "button_style": "",
       "description": "T",
       "disabled": false,
       "icon": "",
       "layout": "IPY_MODEL_c71e87eba7ff431f8a9f8cde61024f9b",
       "style": "IPY_MODEL_d1e279912e9341e489de75cc582be46b",
       "tooltip": ""
      }
     },
     "4a60b9e26017451e80cca412483e8f25": {
      "buffers": [
       {
        "data": "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",
        "encoding": "base64",
        "path": [
         "value"
        ]
       }
      ],
      "model_module": "@jupyter-widgets/controls",
      "model_module_version": "1.5.0",
      "model_name": "ImageModel",
      "state": {
       "_dom_classes": [],
       "_model_module": "@jupyter-widgets/controls",
       "_model_module_version": "1.5.0",
       "_model_name": "ImageModel",
       "_view_count": null,
       "_view_module": "@jupyter-widgets/controls",
       "_view_module_version": "1.5.0",
       "_view_name": "ImageView",
       "format": "png",
       "height": "",
       "layout": "IPY_MODEL_5ce22495c8c247daaf7467a58d03e7eb",
       "value": {},
       "width": ""
      }
     },
     "4b087e3318444cf08a7d2acbfe8b3a57": {
      "model_module": "@jupyter-widgets/controls",
      "model_module_version": "1.5.0",
      "model_name": "HBoxModel",
      "state": {
       "_dom_classes": [],
       "_model_module": "@jupyter-widgets/controls",
       "_model_module_version": "1.5.0",
       "_model_name": "HBoxModel",
       "_view_count": null,
       "_view_module": "@jupyter-widgets/controls",
       "_view_module_version": "1.5.0",
       "_view_name": "HBoxView",
       "box_style": "",
       "children": [
        "IPY_MODEL_70de08b4dc3d446ebedbae70e2b527d7",
        "IPY_MODEL_c0d01dbbc4ac4bf7adc8cddc260c286b",
        "IPY_MODEL_a2bb99cc0471487896cfb0956429c658",
        "IPY_MODEL_0cb080f4ce004ac1b2814be68074503c",
        "IPY_MODEL_fd3a3265738a4961bbb0e4d7eb857727"
       ],
       "layout": "IPY_MODEL_386adc9f1e7647cc8d12b1c221e86ad6"
      }
     },
     "4b9fa46364e4416f9fc65be88f335543": {
      "model_module": "@jupyter-widgets/controls",
      "model_module_version": "1.5.0",
      "model_name": "HBoxModel",
      "state": {
       "_dom_classes": [],
       "_model_module": "@jupyter-widgets/controls",
       "_model_module_version": "1.5.0",
       "_model_name": "HBoxModel",
       "_view_count": null,
       "_view_module": "@jupyter-widgets/controls",
       "_view_module_version": "1.5.0",
       "_view_name": "HBoxView",
       "box_style": "",
       "children": [
        "IPY_MODEL_08e0044d24724f48a3367a6d7666e8e4",
        "IPY_MODEL_382025fe443b4652a3da61ee809c36d0",
        "IPY_MODEL_09dc10c77cdb4467a47e89fcb5e5e9ec",
        "IPY_MODEL_2d1d47931ea9431aa7a0faa1d0bf7ff4",
        "IPY_MODEL_a27d732cd04a446387af5c31b6eccd0f",
        "IPY_MODEL_427d9dc45cdc48bfbf3a9e3787daafc6",
        "IPY_MODEL_9ac795dabd60449784b36077a8291296",
        "IPY_MODEL_49dc90b43cbf4ed7a0ab495f698f38be",
        "IPY_MODEL_932257aea4454530b8a920f71d53112c",
        "IPY_MODEL_e3ae3f555fb54cad889593f212d5e870"
       ],
       "layout": "IPY_MODEL_92ac4d6043b049b390ccb95bdc435420"
      }
     },
     "4c1556b3e1d94b429e6af93576d5c9ae": {
      "model_module": "@jupyter-widgets/controls",
      "model_module_version": "1.5.0",
      "model_name": "ButtonStyleModel",
      "state": {
       "_model_module": "@jupyter-widgets/controls",
       "_model_module_version": "1.5.0",
       "_model_name": "ButtonStyleModel",
       "_view_count": null,
       "_view_module": "@jupyter-widgets/base",
       "_view_module_version": "1.2.0",
       "_view_name": "StyleView",
       "button_color": null,
       "font_weight": ""
      }
     },
     "4d1e969201464af9ad465fb883d3cc6b": {
      "model_module": "@jupyter-widgets/base",
      "model_module_version": "1.2.0",
      "model_name": "LayoutModel",
      "state": {
       "_model_module": "@jupyter-widgets/base",
       "_model_module_version": "1.2.0",
       "_model_name": "LayoutModel",
       "_view_count": null,
       "_view_module": "@jupyter-widgets/base",
       "_view_module_version": "1.2.0",
       "_view_name": "LayoutView",
       "align_content": null,
       "align_items": null,
       "align_self": null,
       "border": null,
       "bottom": null,
       "display": null,
       "flex": null,
       "flex_flow": null,
       "grid_area": null,
       "grid_auto_columns": null,
       "grid_auto_flow": null,
       "grid_auto_rows": null,
       "grid_column": null,
       "grid_gap": null,
       "grid_row": null,
       "grid_template_areas": null,
       "grid_template_columns": null,
       "grid_template_rows": null,
       "height": "3em",
       "justify_content": null,
       "justify_items": null,
       "left": null,
       "margin": null,
       "max_height": null,
       "max_width": null,
       "min_height": null,
       "min_width": null,
       "object_fit": null,
       "object_position": null,
       "order": null,
       "overflow": null,
       "overflow_x": null,
       "overflow_y": null,
       "padding": null,
       "right": null,
       "top": null,
       "visibility": null,
       "width": "6em"
      }
     },
     "50c45aff5424472e97e1ed2da672963f": {
      "model_module": "@jupyter-widgets/base",
      "model_module_version": "1.2.0",
      "model_name": "LayoutModel",
      "state": {
       "_model_module": "@jupyter-widgets/base",
       "_model_module_version": "1.2.0",
       "_model_name": "LayoutModel",
       "_view_count": null,
       "_view_module": "@jupyter-widgets/base",
       "_view_module_version": "1.2.0",
       "_view_name": "LayoutView",
       "align_content": null,
       "align_items": null,
       "align_self": null,
       "border": null,
       "bottom": null,
       "display": null,
       "flex": null,
       "flex_flow": null,
       "grid_area": null,
       "grid_auto_columns": null,
       "grid_auto_flow": null,
       "grid_auto_rows": null,
       "grid_column": null,
       "grid_gap": null,
       "grid_row": null,
       "grid_template_areas": null,
       "grid_template_columns": null,
       "grid_template_rows": null,
       "height": "3em",
       "justify_content": null,
       "justify_items": null,
       "left": null,
       "margin": null,
       "max_height": null,
       "max_width": null,
       "min_height": null,
       "min_width": null,
       "object_fit": null,
       "object_position": null,
       "order": null,
       "overflow": null,
       "overflow_x": null,
       "overflow_y": null,
       "padding": null,
       "right": null,
       "top": null,
       "visibility": null,
       "width": "3em"
      }
     },
     "56736dd2ce8f45ba8ebe6c65ac295680": {
      "model_module": "@jupyter-widgets/base",
      "model_module_version": "1.2.0",
      "model_name": "LayoutModel",
      "state": {
       "_model_module": "@jupyter-widgets/base",
       "_model_module_version": "1.2.0",
       "_model_name": "LayoutModel",
       "_view_count": null,
       "_view_module": "@jupyter-widgets/base",
       "_view_module_version": "1.2.0",
       "_view_name": "LayoutView",
       "align_content": null,
       "align_items": null,
       "align_self": null,
       "border": null,
       "bottom": null,
       "display": null,
       "flex": null,
       "flex_flow": null,
       "grid_area": null,
       "grid_auto_columns": null,
       "grid_auto_flow": null,
       "grid_auto_rows": null,
       "grid_column": null,
       "grid_gap": null,
       "grid_row": null,
       "grid_template_areas": null,
       "grid_template_columns": null,
       "grid_template_rows": null,
       "height": "3em",
       "justify_content": null,
       "justify_items": null,
       "left": null,
       "margin": null,
       "max_height": null,
       "max_width": null,
       "min_height": null,
       "min_width": null,
       "object_fit": null,
       "object_position": null,
       "order": null,
       "overflow": null,
       "overflow_x": null,
       "overflow_y": null,
       "padding": null,
       "right": null,
       "top": null,
       "visibility": null,
       "width": "3em"
      }
     },
     "59ee9e9a84104b99b9eb11b39c5d4cff": {
      "model_module": "@jupyter-widgets/controls",
      "model_module_version": "1.5.0",
      "model_name": "ButtonStyleModel",
      "state": {
       "_model_module": "@jupyter-widgets/controls",
       "_model_module_version": "1.5.0",
       "_model_name": "ButtonStyleModel",
       "_view_count": null,
       "_view_module": "@jupyter-widgets/base",
       "_view_module_version": "1.2.0",
       "_view_name": "StyleView",
       "button_color": null,
       "font_weight": ""
      }
     },
     "5ce22495c8c247daaf7467a58d03e7eb": {
      "model_module": "@jupyter-widgets/base",
      "model_module_version": "1.2.0",
      "model_name": "LayoutModel",
      "state": {
       "_model_module": "@jupyter-widgets/base",
       "_model_module_version": "1.2.0",
       "_model_name": "LayoutModel",
       "_view_count": null,
       "_view_module": "@jupyter-widgets/base",
       "_view_module_version": "1.2.0",
       "_view_name": "LayoutView",
       "align_content": null,
       "align_items": null,
       "align_self": null,
       "border": null,
       "bottom": null,
       "display": null,
       "flex": null,
       "flex_flow": null,
       "grid_area": null,
       "grid_auto_columns": null,
       "grid_auto_flow": null,
       "grid_auto_rows": null,
       "grid_column": null,
       "grid_gap": null,
       "grid_row": null,
       "grid_template_areas": null,
       "grid_template_columns": null,
       "grid_template_rows": null,
       "height": null,
       "justify_content": null,
       "justify_items": null,
       "left": null,
       "margin": null,
       "max_height": null,
       "max_width": null,
       "min_height": null,
       "min_width": null,
       "object_fit": null,
       "object_position": null,
       "order": null,
       "overflow": null,
       "overflow_x": null,
       "overflow_y": null,
       "padding": null,
       "right": null,
       "top": null,
       "visibility": null,
       "width": null
      }
     },
     "5d86fe936e10428da191a92876ec430d": {
      "model_module": "@jupyter-widgets/controls",
      "model_module_version": "1.5.0",
      "model_name": "ButtonStyleModel",
      "state": {
       "_model_module": "@jupyter-widgets/controls",
       "_model_module_version": "1.5.0",
       "_model_name": "ButtonStyleModel",
       "_view_count": null,
       "_view_module": "@jupyter-widgets/base",
       "_view_module_version": "1.2.0",
       "_view_name": "StyleView",
       "button_color": null,
       "font_weight": ""
      }
     },
     "5e67bb16ef58437fa97091d41e5d108c": {
      "model_module": "@jupyter-widgets/controls",
      "model_module_version": "1.5.0",
      "model_name": "ButtonStyleModel",
      "state": {
       "_model_module": "@jupyter-widgets/controls",
       "_model_module_version": "1.5.0",
       "_model_name": "ButtonStyleModel",
       "_view_count": null,
       "_view_module": "@jupyter-widgets/base",
       "_view_module_version": "1.2.0",
       "_view_name": "StyleView",
       "button_color": null,
       "font_weight": ""
      }
     },
     "65977426710040bc9ddf0423cbd7b1b1": {
      "model_module": "@jupyter-widgets/controls",
      "model_module_version": "1.5.0",
      "model_name": "ButtonStyleModel",
      "state": {
       "_model_module": "@jupyter-widgets/controls",
       "_model_module_version": "1.5.0",
       "_model_name": "ButtonStyleModel",
       "_view_count": null,
       "_view_module": "@jupyter-widgets/base",
       "_view_module_version": "1.2.0",
       "_view_name": "StyleView",
       "button_color": null,
       "font_weight": ""
      }
     },
     "661f779dc3ad4cbc9be0255128a15226": {
      "model_module": "@jupyter-widgets/controls",
      "model_module_version": "1.5.0",
      "model_name": "ButtonModel",
      "state": {
       "_dom_classes": [],
       "_model_module": "@jupyter-widgets/controls",
       "_model_module_version": "1.5.0",
       "_model_name": "ButtonModel",
       "_view_count": null,
       "_view_module": "@jupyter-widgets/controls",
       "_view_module_version": "1.5.0",
       "_view_name": "ButtonView",
       "button_style": "",
       "description": "Z",
       "disabled": false,
       "icon": "",
       "layout": "IPY_MODEL_b4d20fc8f49a4f21806f9d7b0644bb8a",
       "style": "IPY_MODEL_0a11b4e6801447f39fa2d329271d6863",
       "tooltip": ""
      }
     },
     "6682e17c3b714f89863ce85e4b89603e": {
      "buffers": [
       {
        "data": "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",
        "encoding": "base64",
        "path": [
         "value"
        ]
       }
      ],
      "model_module": "@jupyter-widgets/controls",
      "model_module_version": "1.5.0",
      "model_name": "ImageModel",
      "state": {
       "_dom_classes": [],
       "_model_module": "@jupyter-widgets/controls",
       "_model_module_version": "1.5.0",
       "_model_name": "ImageModel",
       "_view_count": null,
       "_view_module": "@jupyter-widgets/controls",
       "_view_module_version": "1.5.0",
       "_view_name": "ImageView",
       "format": "png",
       "height": "",
       "layout": "IPY_MODEL_3e56198990334699b677848c3bf8b35a",
       "value": {},
       "width": ""
      }
     },
     "690b4e946f484a54934fe0cf1719ae8c": {
      "model_module": "@jupyter-widgets/base",
      "model_module_version": "1.2.0",
      "model_name": "LayoutModel",
      "state": {
       "_model_module": "@jupyter-widgets/base",
       "_model_module_version": "1.2.0",
       "_model_name": "LayoutModel",
       "_view_count": null,
       "_view_module": "@jupyter-widgets/base",
       "_view_module_version": "1.2.0",
       "_view_name": "LayoutView",
       "align_content": null,
       "align_items": null,
       "align_self": null,
       "border": null,
       "bottom": null,
       "display": null,
       "flex": null,
       "flex_flow": null,
       "grid_area": null,
       "grid_auto_columns": null,
       "grid_auto_flow": null,
       "grid_auto_rows": null,
       "grid_column": null,
       "grid_gap": null,
       "grid_row": null,
       "grid_template_areas": null,
       "grid_template_columns": null,
       "grid_template_rows": null,
       "height": null,
       "justify_content": null,
       "justify_items": null,
       "left": null,
       "margin": null,
       "max_height": null,
       "max_width": null,
       "min_height": null,
       "min_width": null,
       "object_fit": null,
       "object_position": null,
       "order": null,
       "overflow": null,
       "overflow_x": null,
       "overflow_y": null,
       "padding": null,
       "right": null,
       "top": null,
       "visibility": null,
       "width": null
      }
     },
     "6996f8e6a1974f969d99152df4d02536": {
      "model_module": "@jupyter-widgets/base",
      "model_module_version": "1.2.0",
      "model_name": "LayoutModel",
      "state": {
       "_model_module": "@jupyter-widgets/base",
       "_model_module_version": "1.2.0",
       "_model_name": "LayoutModel",
       "_view_count": null,
       "_view_module": "@jupyter-widgets/base",
       "_view_module_version": "1.2.0",
       "_view_name": "LayoutView",
       "align_content": null,
       "align_items": null,
       "align_self": null,
       "border": null,
       "bottom": null,
       "display": null,
       "flex": null,
       "flex_flow": null,
       "grid_area": null,
       "grid_auto_columns": null,
       "grid_auto_flow": null,
       "grid_auto_rows": null,
       "grid_column": null,
       "grid_gap": null,
       "grid_row": null,
       "grid_template_areas": null,
       "grid_template_columns": null,
       "grid_template_rows": null,
       "height": "3em",
       "justify_content": null,
       "justify_items": null,
       "left": null,
       "margin": null,
       "max_height": null,
       "max_width": null,
       "min_height": null,
       "min_width": null,
       "object_fit": null,
       "object_position": null,
       "order": null,
       "overflow": null,
       "overflow_x": null,
       "overflow_y": null,
       "padding": null,
       "right": null,
       "top": null,
       "visibility": null,
       "width": "3em"
      }
     },
     "69bb0e94e5f14592993226bcf77ade99": {
      "model_module": "@jupyter-widgets/base",
      "model_module_version": "1.2.0",
      "model_name": "LayoutModel",
      "state": {
       "_model_module": "@jupyter-widgets/base",
       "_model_module_version": "1.2.0",
       "_model_name": "LayoutModel",
       "_view_count": null,
       "_view_module": "@jupyter-widgets/base",
       "_view_module_version": "1.2.0",
       "_view_name": "LayoutView",
       "align_content": null,
       "align_items": null,
       "align_self": null,
       "border": null,
       "bottom": null,
       "display": null,
       "flex": null,
       "flex_flow": null,
       "grid_area": null,
       "grid_auto_columns": null,
       "grid_auto_flow": null,
       "grid_auto_rows": null,
       "grid_column": null,
       "grid_gap": null,
       "grid_row": null,
       "grid_template_areas": null,
       "grid_template_columns": null,
       "grid_template_rows": null,
       "height": "3em",
       "justify_content": null,
       "justify_items": null,
       "left": null,
       "margin": null,
       "max_height": null,
       "max_width": null,
       "min_height": null,
       "min_width": null,
       "object_fit": null,
       "object_position": null,
       "order": null,
       "overflow": null,
       "overflow_x": null,
       "overflow_y": null,
       "padding": null,
       "right": null,
       "top": null,
       "visibility": null,
       "width": "3em"
      }
     },
     "6a99781c04d44d208be1d5e268036914": {
      "model_module": "@jupyter-widgets/controls",
      "model_module_version": "1.5.0",
      "model_name": "ButtonStyleModel",
      "state": {
       "_model_module": "@jupyter-widgets/controls",
       "_model_module_version": "1.5.0",
       "_model_name": "ButtonStyleModel",
       "_view_count": null,
       "_view_module": "@jupyter-widgets/base",
       "_view_module_version": "1.2.0",
       "_view_name": "StyleView",
       "button_color": null,
       "font_weight": ""
      }
     },
     "6d51a01d16af4929a94bc01fc0a203cd": {
      "model_module": "@jupyter-widgets/controls",
      "model_module_version": "1.5.0",
      "model_name": "ButtonModel",
      "state": {
       "_dom_classes": [],
       "_model_module": "@jupyter-widgets/controls",
       "_model_module_version": "1.5.0",
       "_model_name": "ButtonModel",
       "_view_count": null,
       "_view_module": "@jupyter-widgets/controls",
       "_view_module_version": "1.5.0",
       "_view_name": "ButtonView",
       "button_style": "",
       "description": "X",
       "disabled": false,
       "icon": "",
       "layout": "IPY_MODEL_dc35da65294c47ecaf8898664fc3e38b",
       "style": "IPY_MODEL_65977426710040bc9ddf0423cbd7b1b1",
       "tooltip": ""
      }
     },
     "6fa63d17eb1b4925945e0f0de837b201": {
      "model_module": "@jupyter-widgets/controls",
      "model_module_version": "1.5.0",
      "model_name": "HBoxModel",
      "state": {
       "_dom_classes": [],
       "_model_module": "@jupyter-widgets/controls",
       "_model_module_version": "1.5.0",
       "_model_name": "HBoxModel",
       "_view_count": null,
       "_view_module": "@jupyter-widgets/controls",
       "_view_module_version": "1.5.0",
       "_view_name": "HBoxView",
       "box_style": "",
       "children": [
        "IPY_MODEL_01532e2a834643828ea4fb7eefe07807",
        "IPY_MODEL_37b502a665a84884ac79156e847f3c44"
       ],
       "layout": "IPY_MODEL_b9afdd5d8bd4422baf8b6149f23127b1"
      }
     },
     "70de08b4dc3d446ebedbae70e2b527d7": {
      "model_module": "@jupyter-widgets/controls",
      "model_module_version": "1.5.0",
      "model_name": "ButtonModel",
      "state": {
       "_dom_classes": [],
       "_model_module": "@jupyter-widgets/controls",
       "_model_module_version": "1.5.0",
       "_model_name": "ButtonModel",
       "_view_count": null,
       "_view_module": "@jupyter-widgets/controls",
       "_view_module_version": "1.5.0",
       "_view_name": "ButtonView",
       "button_style": "",
       "description": "X",
       "disabled": false,
       "icon": "",
       "layout": "IPY_MODEL_9ef3f7635cc24f38af984140ceccf299",
       "style": "IPY_MODEL_b10ecd21ceab43649665689213f0efdd",
       "tooltip": ""
      }
     },
     "7115c7340483405a876c061e71a6a35f": {
      "model_module": "@jupyter-widgets/controls",
      "model_module_version": "1.5.0",
      "model_name": "FloatSliderModel",
      "state": {
       "_dom_classes": [],
       "_model_module": "@jupyter-widgets/controls",
       "_model_module_version": "1.5.0",
       "_model_name": "FloatSliderModel",
       "_view_count": null,
       "_view_module": "@jupyter-widgets/controls",
       "_view_module_version": "1.5.0",
       "_view_name": "FloatSliderView",
       "continuous_update": true,
       "description": "",
       "description_tooltip": null,
       "disabled": false,
       "layout": "IPY_MODEL_0c22f943218b48d6aa231421858a75c3",
       "max": 3.141592653589793,
       "min": -3.141592653589793,
       "orientation": "horizontal",
       "readout": true,
       "readout_format": ".2f",
       "step": 0.1,
       "style": "IPY_MODEL_e42f8dee8bcc42db96e6fdcfc6d98fdb",
       "value": 3.141592653589793
      }
     },
     "729ba03fa173412d82418b27771d7a04": {
      "model_module": "@jupyter-widgets/base",
      "model_module_version": "1.2.0",
      "model_name": "LayoutModel",
      "state": {
       "_model_module": "@jupyter-widgets/base",
       "_model_module_version": "1.2.0",
       "_model_name": "LayoutModel",
       "_view_count": null,
       "_view_module": "@jupyter-widgets/base",
       "_view_module_version": "1.2.0",
       "_view_name": "LayoutView",
       "align_content": null,
       "align_items": null,
       "align_self": null,
       "border": null,
       "bottom": null,
       "display": null,
       "flex": null,
       "flex_flow": null,
       "grid_area": null,
       "grid_auto_columns": null,
       "grid_auto_flow": null,
       "grid_auto_rows": null,
       "grid_column": null,
       "grid_gap": null,
       "grid_row": null,
       "grid_template_areas": null,
       "grid_template_columns": null,
       "grid_template_rows": null,
       "height": "3em",
       "justify_content": null,
       "justify_items": null,
       "left": null,
       "margin": null,
       "max_height": null,
       "max_width": null,
       "min_height": null,
       "min_width": null,
       "object_fit": null,
       "object_position": null,
       "order": null,
       "overflow": null,
       "overflow_x": null,
       "overflow_y": null,
       "padding": null,
       "right": null,
       "top": null,
       "visibility": null,
       "width": "6em"
      }
     },
     "7a9a9ffd99d540ac80cd32fd7c5d3e1d": {
      "model_module": "@jupyter-widgets/controls",
      "model_module_version": "1.5.0",
      "model_name": "ButtonModel",
      "state": {
       "_dom_classes": [],
       "_model_module": "@jupyter-widgets/controls",
       "_model_module_version": "1.5.0",
       "_model_name": "ButtonModel",
       "_view_count": null,
       "_view_module": "@jupyter-widgets/controls",
       "_view_module_version": "1.5.0",
       "_view_name": "ButtonView",
       "button_style": "",
       "description": "Reset",
       "disabled": false,
       "icon": "",
       "layout": "IPY_MODEL_19588833c4294b95a92fa1920e653e47",
       "style": "IPY_MODEL_90783660f87e43d9b446084e85480ad1",
       "tooltip": ""
      }
     },
     "85cedd3773114578a52b2d21e1d901c9": {
      "model_module": "@jupyter-widgets/base",
      "model_module_version": "1.2.0",
      "model_name": "LayoutModel",
      "state": {
       "_model_module": "@jupyter-widgets/base",
       "_model_module_version": "1.2.0",
       "_model_name": "LayoutModel",
       "_view_count": null,
       "_view_module": "@jupyter-widgets/base",
       "_view_module_version": "1.2.0",
       "_view_name": "LayoutView",
       "align_content": null,
       "align_items": null,
       "align_self": null,
       "border": null,
       "bottom": null,
       "display": null,
       "flex": null,
       "flex_flow": null,
       "grid_area": null,
       "grid_auto_columns": null,
       "grid_auto_flow": null,
       "grid_auto_rows": null,
       "grid_column": null,
       "grid_gap": null,
       "grid_row": null,
       "grid_template_areas": null,
       "grid_template_columns": null,
       "grid_template_rows": null,
       "height": null,
       "justify_content": null,
       "justify_items": null,
       "left": null,
       "margin": null,
       "max_height": null,
       "max_width": null,
       "min_height": null,
       "min_width": null,
       "object_fit": null,
       "object_position": null,
       "order": null,
       "overflow": null,
       "overflow_x": null,
       "overflow_y": null,
       "padding": null,
       "right": null,
       "top": null,
       "visibility": null,
       "width": null
      }
     },
     "88c15ef32aa9419c972f74d05acdba10": {
      "model_module": "@jupyter-widgets/base",
      "model_module_version": "1.2.0",
      "model_name": "LayoutModel",
      "state": {
       "_model_module": "@jupyter-widgets/base",
       "_model_module_version": "1.2.0",
       "_model_name": "LayoutModel",
       "_view_count": null,
       "_view_module": "@jupyter-widgets/base",
       "_view_module_version": "1.2.0",
       "_view_name": "LayoutView",
       "align_content": null,
       "align_items": null,
       "align_self": null,
       "border": null,
       "bottom": null,
       "display": null,
       "flex": null,
       "flex_flow": null,
       "grid_area": null,
       "grid_auto_columns": null,
       "grid_auto_flow": null,
       "grid_auto_rows": null,
       "grid_column": null,
       "grid_gap": null,
       "grid_row": null,
       "grid_template_areas": null,
       "grid_template_columns": null,
       "grid_template_rows": null,
       "height": "3em",
       "justify_content": null,
       "justify_items": null,
       "left": null,
       "margin": null,
       "max_height": null,
       "max_width": null,
       "min_height": null,
       "min_width": null,
       "object_fit": null,
       "object_position": null,
       "order": null,
       "overflow": null,
       "overflow_x": null,
       "overflow_y": null,
       "padding": null,
       "right": null,
       "top": null,
       "visibility": null,
       "width": "3em"
      }
     },
     "88d03fb4db9c4584ba47e92be05fabb9": {
      "model_module": "@jupyter-widgets/controls",
      "model_module_version": "1.5.0",
      "model_name": "ButtonModel",
      "state": {
       "_dom_classes": [],
       "_model_module": "@jupyter-widgets/controls",
       "_model_module_version": "1.5.0",
       "_model_name": "ButtonModel",
       "_view_count": null,
       "_view_module": "@jupyter-widgets/controls",
       "_view_module_version": "1.5.0",
       "_view_name": "ButtonView",
       "button_style": "",
       "description": "Y",
       "disabled": false,
       "icon": "",
       "layout": "IPY_MODEL_6996f8e6a1974f969d99152df4d02536",
       "style": "IPY_MODEL_f151e83c75a54ee8a5988d93dd4a27ef",
       "tooltip": ""
      }
     },
     "90783660f87e43d9b446084e85480ad1": {
      "model_module": "@jupyter-widgets/controls",
      "model_module_version": "1.5.0",
      "model_name": "ButtonStyleModel",
      "state": {
       "_model_module": "@jupyter-widgets/controls",
       "_model_module_version": "1.5.0",
       "_model_name": "ButtonStyleModel",
       "_view_count": null,
       "_view_module": "@jupyter-widgets/base",
       "_view_module_version": "1.2.0",
       "_view_name": "StyleView",
       "button_color": null,
       "font_weight": ""
      }
     },
     "912e973343c6447a8d36adb3744442a4": {
      "model_module": "@jupyter-widgets/base",
      "model_module_version": "1.2.0",
      "model_name": "LayoutModel",
      "state": {
       "_model_module": "@jupyter-widgets/base",
       "_model_module_version": "1.2.0",
       "_model_name": "LayoutModel",
       "_view_count": null,
       "_view_module": "@jupyter-widgets/base",
       "_view_module_version": "1.2.0",
       "_view_name": "LayoutView",
       "align_content": null,
       "align_items": null,
       "align_self": null,
       "border": null,
       "bottom": null,
       "display": null,
       "flex": null,
       "flex_flow": null,
       "grid_area": null,
       "grid_auto_columns": null,
       "grid_auto_flow": null,
       "grid_auto_rows": null,
       "grid_column": null,
       "grid_gap": null,
       "grid_row": null,
       "grid_template_areas": null,
       "grid_template_columns": null,
       "grid_template_rows": null,
       "height": "3em",
       "justify_content": null,
       "justify_items": null,
       "left": null,
       "margin": null,
       "max_height": null,
       "max_width": null,
       "min_height": null,
       "min_width": null,
       "object_fit": null,
       "object_position": null,
       "order": null,
       "overflow": null,
       "overflow_x": null,
       "overflow_y": null,
       "padding": null,
       "right": null,
       "top": null,
       "visibility": null,
       "width": "3em"
      }
     },
     "92ac4d6043b049b390ccb95bdc435420": {
      "model_module": "@jupyter-widgets/base",
      "model_module_version": "1.2.0",
      "model_name": "LayoutModel",
      "state": {
       "_model_module": "@jupyter-widgets/base",
       "_model_module_version": "1.2.0",
       "_model_name": "LayoutModel",
       "_view_count": null,
       "_view_module": "@jupyter-widgets/base",
       "_view_module_version": "1.2.0",
       "_view_name": "LayoutView",
       "align_content": null,
       "align_items": null,
       "align_self": null,
       "border": null,
       "bottom": null,
       "display": null,
       "flex": null,
       "flex_flow": null,
       "grid_area": null,
       "grid_auto_columns": null,
       "grid_auto_flow": null,
       "grid_auto_rows": null,
       "grid_column": null,
       "grid_gap": null,
       "grid_row": null,
       "grid_template_areas": null,
       "grid_template_columns": null,
       "grid_template_rows": null,
       "height": null,
       "justify_content": null,
       "justify_items": null,
       "left": null,
       "margin": null,
       "max_height": null,
       "max_width": null,
       "min_height": null,
       "min_width": null,
       "object_fit": null,
       "object_position": null,
       "order": null,
       "overflow": null,
       "overflow_x": null,
       "overflow_y": null,
       "padding": null,
       "right": null,
       "top": null,
       "visibility": null,
       "width": null
      }
     },
     "932257aea4454530b8a920f71d53112c": {
      "model_module": "@jupyter-widgets/controls",
      "model_module_version": "1.5.0",
      "model_name": "ButtonModel",
      "state": {
       "_dom_classes": [],
       "_model_module": "@jupyter-widgets/controls",
       "_model_module_version": "1.5.0",
       "_model_name": "ButtonModel",
       "_view_count": null,
       "_view_module": "@jupyter-widgets/controls",
       "_view_module_version": "1.5.0",
       "_view_name": "ButtonView",
       "button_style": "",
       "description": "Tdg",
       "disabled": false,
       "icon": "",
       "layout": "IPY_MODEL_912e973343c6447a8d36adb3744442a4",
       "style": "IPY_MODEL_9ecbee8de4f244338686e4c70e43d420",
       "tooltip": ""
      }
     },
     "94a63b848b644f10b20f092d0d695a68": {
      "model_module": "@jupyter-widgets/base",
      "model_module_version": "1.2.0",
      "model_name": "LayoutModel",
      "state": {
       "_model_module": "@jupyter-widgets/base",
       "_model_module_version": "1.2.0",
       "_model_name": "LayoutModel",
       "_view_count": null,
       "_view_module": "@jupyter-widgets/base",
       "_view_module_version": "1.2.0",
       "_view_name": "LayoutView",
       "align_content": null,
       "align_items": null,
       "align_self": null,
       "border": null,
       "bottom": null,
       "display": null,
       "flex": null,
       "flex_flow": null,
       "grid_area": null,
       "grid_auto_columns": null,
       "grid_auto_flow": null,
       "grid_auto_rows": null,
       "grid_column": null,
       "grid_gap": null,
       "grid_row": null,
       "grid_template_areas": null,
       "grid_template_columns": null,
       "grid_template_rows": null,
       "height": null,
       "justify_content": null,
       "justify_items": null,
       "left": null,
       "margin": null,
       "max_height": null,
       "max_width": null,
       "min_height": null,
       "min_width": null,
       "object_fit": null,
       "object_position": null,
       "order": null,
       "overflow": null,
       "overflow_x": null,
       "overflow_y": null,
       "padding": null,
       "right": null,
       "top": null,
       "visibility": null,
       "width": null
      }
     },
     "99b4e42dcd62481fa30a99eb6dab06b7": {
      "model_module": "@jupyter-widgets/controls",
      "model_module_version": "1.5.0",
      "model_name": "HBoxModel",
      "state": {
       "_dom_classes": [],
       "_model_module": "@jupyter-widgets/controls",
       "_model_module_version": "1.5.0",
       "_model_name": "HBoxModel",
       "_view_count": null,
       "_view_module": "@jupyter-widgets/controls",
       "_view_module_version": "1.5.0",
       "_view_name": "HBoxView",
       "box_style": "",
       "children": [
        "IPY_MODEL_d496605237414ff48b718e9b9a7c4293",
        "IPY_MODEL_7115c7340483405a876c061e71a6a35f"
       ],
       "layout": "IPY_MODEL_10005774ec04456bb0064eabcf7dd32c"
      }
     },
     "9ac795dabd60449784b36077a8291296": {
      "model_module": "@jupyter-widgets/controls",
      "model_module_version": "1.5.0",
      "model_name": "ButtonModel",
      "state": {
       "_dom_classes": [],
       "_model_module": "@jupyter-widgets/controls",
       "_model_module_version": "1.5.0",
       "_model_name": "ButtonModel",
       "_view_count": null,
       "_view_module": "@jupyter-widgets/controls",
       "_view_module_version": "1.5.0",
       "_view_name": "ButtonView",
       "button_style": "",
       "description": "Sdg",
       "disabled": false,
       "icon": "",
       "layout": "IPY_MODEL_56736dd2ce8f45ba8ebe6c65ac295680",
       "style": "IPY_MODEL_0854aeb36aad46a8b8d2a8ae1ef12999",
       "tooltip": ""
      }
     },
     "9d6ff0bc519f4b23a7767a78a513aa37": {
      "model_module": "@jupyter-widgets/controls",
      "model_module_version": "1.5.0",
      "model_name": "ButtonStyleModel",
      "state": {
       "_model_module": "@jupyter-widgets/controls",
       "_model_module_version": "1.5.0",
       "_model_name": "ButtonStyleModel",
       "_view_count": null,
       "_view_module": "@jupyter-widgets/base",
       "_view_module_version": "1.2.0",
       "_view_name": "StyleView",
       "button_color": null,
       "font_weight": ""
      }
     },
     "9ecbee8de4f244338686e4c70e43d420": {
      "model_module": "@jupyter-widgets/controls",
      "model_module_version": "1.5.0",
      "model_name": "ButtonStyleModel",
      "state": {
       "_model_module": "@jupyter-widgets/controls",
       "_model_module_version": "1.5.0",
       "_model_name": "ButtonStyleModel",
       "_view_count": null,
       "_view_module": "@jupyter-widgets/base",
       "_view_module_version": "1.2.0",
       "_view_name": "StyleView",
       "button_color": null,
       "font_weight": ""
      }
     },
     "9ef3f7635cc24f38af984140ceccf299": {
      "model_module": "@jupyter-widgets/base",
      "model_module_version": "1.2.0",
      "model_name": "LayoutModel",
      "state": {
       "_model_module": "@jupyter-widgets/base",
       "_model_module_version": "1.2.0",
       "_model_name": "LayoutModel",
       "_view_count": null,
       "_view_module": "@jupyter-widgets/base",
       "_view_module_version": "1.2.0",
       "_view_name": "LayoutView",
       "align_content": null,
       "align_items": null,
       "align_self": null,
       "border": null,
       "bottom": null,
       "display": null,
       "flex": null,
       "flex_flow": null,
       "grid_area": null,
       "grid_auto_columns": null,
       "grid_auto_flow": null,
       "grid_auto_rows": null,
       "grid_column": null,
       "grid_gap": null,
       "grid_row": null,
       "grid_template_areas": null,
       "grid_template_columns": null,
       "grid_template_rows": null,
       "height": "3em",
       "justify_content": null,
       "justify_items": null,
       "left": null,
       "margin": null,
       "max_height": null,
       "max_width": null,
       "min_height": null,
       "min_width": null,
       "object_fit": null,
       "object_position": null,
       "order": null,
       "overflow": null,
       "overflow_x": null,
       "overflow_y": null,
       "padding": null,
       "right": null,
       "top": null,
       "visibility": null,
       "width": "3em"
      }
     },
     "a27d732cd04a446387af5c31b6eccd0f": {
      "model_module": "@jupyter-widgets/controls",
      "model_module_version": "1.5.0",
      "model_name": "ButtonModel",
      "state": {
       "_dom_classes": [],
       "_model_module": "@jupyter-widgets/controls",
       "_model_module_version": "1.5.0",
       "_model_name": "ButtonModel",
       "_view_count": null,
       "_view_module": "@jupyter-widgets/controls",
       "_view_module_version": "1.5.0",
       "_view_name": "ButtonView",
       "button_style": "",
       "description": "H",
       "disabled": false,
       "icon": "",
       "layout": "IPY_MODEL_10914e7434b24a65ac9222d111a494af",
       "style": "IPY_MODEL_bd7b1c7719ff4ff1adc8495ed6cc7e89",
       "tooltip": ""
      }
     },
     "a2bb99cc0471487896cfb0956429c658": {
      "model_module": "@jupyter-widgets/controls",
      "model_module_version": "1.5.0",
      "model_name": "ButtonModel",
      "state": {
       "_dom_classes": [],
       "_model_module": "@jupyter-widgets/controls",
       "_model_module_version": "1.5.0",
       "_model_name": "ButtonModel",
       "_view_count": null,
       "_view_module": "@jupyter-widgets/controls",
       "_view_module_version": "1.5.0",
       "_view_name": "ButtonView",
       "button_style": "",
       "description": "Z",
       "disabled": false,
       "icon": "",
       "layout": "IPY_MODEL_2c7a7e93fbdc4eaab03eff53ce57599f",
       "style": "IPY_MODEL_e61daad9bb5343389c9c62732264bf72",
       "tooltip": ""
      }
     },
     "a64fc9f744814285bffb4edd1c106d21": {
      "model_module": "@jupyter-widgets/base",
      "model_module_version": "1.2.0",
      "model_name": "LayoutModel",
      "state": {
       "_model_module": "@jupyter-widgets/base",
       "_model_module_version": "1.2.0",
       "_model_name": "LayoutModel",
       "_view_count": null,
       "_view_module": "@jupyter-widgets/base",
       "_view_module_version": "1.2.0",
       "_view_name": "LayoutView",
       "align_content": null,
       "align_items": null,
       "align_self": null,
       "border": null,
       "bottom": null,
       "display": null,
       "flex": null,
       "flex_flow": null,
       "grid_area": null,
       "grid_auto_columns": null,
       "grid_auto_flow": null,
       "grid_auto_rows": null,
       "grid_column": null,
       "grid_gap": null,
       "grid_row": null,
       "grid_template_areas": null,
       "grid_template_columns": null,
       "grid_template_rows": null,
       "height": null,
       "justify_content": null,
       "justify_items": null,
       "left": null,
       "margin": null,
       "max_height": null,
       "max_width": null,
       "min_height": null,
       "min_width": null,
       "object_fit": null,
       "object_position": null,
       "order": null,
       "overflow": null,
       "overflow_x": null,
       "overflow_y": null,
       "padding": null,
       "right": null,
       "top": null,
       "visibility": null,
       "width": null
      }
     },
     "b10ecd21ceab43649665689213f0efdd": {
      "model_module": "@jupyter-widgets/controls",
      "model_module_version": "1.5.0",
      "model_name": "ButtonStyleModel",
      "state": {
       "_model_module": "@jupyter-widgets/controls",
       "_model_module_version": "1.5.0",
       "_model_name": "ButtonStyleModel",
       "_view_count": null,
       "_view_module": "@jupyter-widgets/base",
       "_view_module_version": "1.2.0",
       "_view_name": "StyleView",
       "button_color": null,
       "font_weight": ""
      }
     },
     "b4d20fc8f49a4f21806f9d7b0644bb8a": {
      "model_module": "@jupyter-widgets/base",
      "model_module_version": "1.2.0",
      "model_name": "LayoutModel",
      "state": {
       "_model_module": "@jupyter-widgets/base",
       "_model_module_version": "1.2.0",
       "_model_name": "LayoutModel",
       "_view_count": null,
       "_view_module": "@jupyter-widgets/base",
       "_view_module_version": "1.2.0",
       "_view_name": "LayoutView",
       "align_content": null,
       "align_items": null,
       "align_self": null,
       "border": null,
       "bottom": null,
       "display": null,
       "flex": null,
       "flex_flow": null,
       "grid_area": null,
       "grid_auto_columns": null,
       "grid_auto_flow": null,
       "grid_auto_rows": null,
       "grid_column": null,
       "grid_gap": null,
       "grid_row": null,
       "grid_template_areas": null,
       "grid_template_columns": null,
       "grid_template_rows": null,
       "height": "3em",
       "justify_content": null,
       "justify_items": null,
       "left": null,
       "margin": null,
       "max_height": null,
       "max_width": null,
       "min_height": null,
       "min_width": null,
       "object_fit": null,
       "object_position": null,
       "order": null,
       "overflow": null,
       "overflow_x": null,
       "overflow_y": null,
       "padding": null,
       "right": null,
       "top": null,
       "visibility": null,
       "width": "3em"
      }
     },
     "b726c978dd3143dcaa60fd8038e81017": {
      "model_module": "@jupyter-widgets/controls",
      "model_module_version": "1.5.0",
      "model_name": "ButtonStyleModel",
      "state": {
       "_model_module": "@jupyter-widgets/controls",
       "_model_module_version": "1.5.0",
       "_model_name": "ButtonStyleModel",
       "_view_count": null,
       "_view_module": "@jupyter-widgets/base",
       "_view_module_version": "1.2.0",
       "_view_name": "StyleView",
       "button_color": null,
       "font_weight": ""
      }
     },
     "b9afdd5d8bd4422baf8b6149f23127b1": {
      "model_module": "@jupyter-widgets/base",
      "model_module_version": "1.2.0",
      "model_name": "LayoutModel",
      "state": {
       "_model_module": "@jupyter-widgets/base",
       "_model_module_version": "1.2.0",
       "_model_name": "LayoutModel",
       "_view_count": null,
       "_view_module": "@jupyter-widgets/base",
       "_view_module_version": "1.2.0",
       "_view_name": "LayoutView",
       "align_content": null,
       "align_items": null,
       "align_self": null,
       "border": null,
       "bottom": null,
       "display": null,
       "flex": null,
       "flex_flow": null,
       "grid_area": null,
       "grid_auto_columns": null,
       "grid_auto_flow": null,
       "grid_auto_rows": null,
       "grid_column": null,
       "grid_gap": null,
       "grid_row": null,
       "grid_template_areas": null,
       "grid_template_columns": null,
       "grid_template_rows": null,
       "height": null,
       "justify_content": null,
       "justify_items": null,
       "left": null,
       "margin": null,
       "max_height": null,
       "max_width": null,
       "min_height": null,
       "min_width": null,
       "object_fit": null,
       "object_position": null,
       "order": null,
       "overflow": null,
       "overflow_x": null,
       "overflow_y": null,
       "padding": null,
       "right": null,
       "top": null,
       "visibility": null,
       "width": null
      }
     },
     "bc61f2ca9a214015bf8dce127f0419be": {
      "model_module": "@jupyter-widgets/base",
      "model_module_version": "1.2.0",
      "model_name": "LayoutModel",
      "state": {
       "_model_module": "@jupyter-widgets/base",
       "_model_module_version": "1.2.0",
       "_model_name": "LayoutModel",
       "_view_count": null,
       "_view_module": "@jupyter-widgets/base",
       "_view_module_version": "1.2.0",
       "_view_name": "LayoutView",
       "align_content": null,
       "align_items": null,
       "align_self": null,
       "border": null,
       "bottom": null,
       "display": null,
       "flex": null,
       "flex_flow": null,
       "grid_area": null,
       "grid_auto_columns": null,
       "grid_auto_flow": null,
       "grid_auto_rows": null,
       "grid_column": null,
       "grid_gap": null,
       "grid_row": null,
       "grid_template_areas": null,
       "grid_template_columns": null,
       "grid_template_rows": null,
       "height": "3em",
       "justify_content": null,
       "justify_items": null,
       "left": null,
       "margin": null,
       "max_height": null,
       "max_width": null,
       "min_height": null,
       "min_width": null,
       "object_fit": null,
       "object_position": null,
       "order": null,
       "overflow": null,
       "overflow_x": null,
       "overflow_y": null,
       "padding": null,
       "right": null,
       "top": null,
       "visibility": null,
       "width": "3em"
      }
     },
     "bd7b1c7719ff4ff1adc8495ed6cc7e89": {
      "model_module": "@jupyter-widgets/controls",
      "model_module_version": "1.5.0",
      "model_name": "ButtonStyleModel",
      "state": {
       "_model_module": "@jupyter-widgets/controls",
       "_model_module_version": "1.5.0",
       "_model_name": "ButtonStyleModel",
       "_view_count": null,
       "_view_module": "@jupyter-widgets/base",
       "_view_module_version": "1.2.0",
       "_view_name": "StyleView",
       "button_color": null,
       "font_weight": ""
      }
     },
     "c0d01dbbc4ac4bf7adc8cddc260c286b": {
      "model_module": "@jupyter-widgets/controls",
      "model_module_version": "1.5.0",
      "model_name": "ButtonModel",
      "state": {
       "_dom_classes": [],
       "_model_module": "@jupyter-widgets/controls",
       "_model_module_version": "1.5.0",
       "_model_name": "ButtonModel",
       "_view_count": null,
       "_view_module": "@jupyter-widgets/controls",
       "_view_module_version": "1.5.0",
       "_view_name": "ButtonView",
       "button_style": "",
       "description": "Y",
       "disabled": false,
       "icon": "",
       "layout": "IPY_MODEL_21c899af66ec44f289e4cb9be2222ca6",
       "style": "IPY_MODEL_d0a4b4c5763846769fb284654a50daac",
       "tooltip": ""
      }
     },
     "c150eb7fe75044ad91c31ba46905f32b": {
      "model_module": "@jupyter-widgets/controls",
      "model_module_version": "1.5.0",
      "model_name": "ButtonStyleModel",
      "state": {
       "_model_module": "@jupyter-widgets/controls",
       "_model_module_version": "1.5.0",
       "_model_name": "ButtonStyleModel",
       "_view_count": null,
       "_view_module": "@jupyter-widgets/base",
       "_view_module_version": "1.2.0",
       "_view_name": "StyleView",
       "button_color": null,
       "font_weight": ""
      }
     },
     "c5ad054c237b453f8b137b539c3fcede": {
      "model_module": "@jupyter-widgets/controls",
      "model_module_version": "1.5.0",
      "model_name": "ButtonModel",
      "state": {
       "_dom_classes": [],
       "_model_module": "@jupyter-widgets/controls",
       "_model_module_version": "1.5.0",
       "_model_name": "ButtonModel",
       "_view_count": null,
       "_view_module": "@jupyter-widgets/controls",
       "_view_module_version": "1.5.0",
       "_view_name": "ButtonView",
       "button_style": "",
       "description": "Z",
       "disabled": false,
       "icon": "",
       "layout": "IPY_MODEL_268da620795e4225a9cabb4af6115d3e",
       "style": "IPY_MODEL_2b2fa4398727412994eaf46073f2075b",
       "tooltip": ""
      }
     },
     "c71e87eba7ff431f8a9f8cde61024f9b": {
      "model_module": "@jupyter-widgets/base",
      "model_module_version": "1.2.0",
      "model_name": "LayoutModel",
      "state": {
       "_model_module": "@jupyter-widgets/base",
       "_model_module_version": "1.2.0",
       "_model_name": "LayoutModel",
       "_view_count": null,
       "_view_module": "@jupyter-widgets/base",
       "_view_module_version": "1.2.0",
       "_view_name": "LayoutView",
       "align_content": null,
       "align_items": null,
       "align_self": null,
       "border": null,
       "bottom": null,
       "display": null,
       "flex": null,
       "flex_flow": null,
       "grid_area": null,
       "grid_auto_columns": null,
       "grid_auto_flow": null,
       "grid_auto_rows": null,
       "grid_column": null,
       "grid_gap": null,
       "grid_row": null,
       "grid_template_areas": null,
       "grid_template_columns": null,
       "grid_template_rows": null,
       "height": "3em",
       "justify_content": null,
       "justify_items": null,
       "left": null,
       "margin": null,
       "max_height": null,
       "max_width": null,
       "min_height": null,
       "min_width": null,
       "object_fit": null,
       "object_position": null,
       "order": null,
       "overflow": null,
       "overflow_x": null,
       "overflow_y": null,
       "padding": null,
       "right": null,
       "top": null,
       "visibility": null,
       "width": "3em"
      }
     },
     "c7c19147f97a4a1fbca6639d702924fd": {
      "model_module": "@jupyter-widgets/base",
      "model_module_version": "1.2.0",
      "model_name": "LayoutModel",
      "state": {
       "_model_module": "@jupyter-widgets/base",
       "_model_module_version": "1.2.0",
       "_model_name": "LayoutModel",
       "_view_count": null,
       "_view_module": "@jupyter-widgets/base",
       "_view_module_version": "1.2.0",
       "_view_name": "LayoutView",
       "align_content": null,
       "align_items": null,
       "align_self": null,
       "border": null,
       "bottom": null,
       "display": null,
       "flex": null,
       "flex_flow": null,
       "grid_area": null,
       "grid_auto_columns": null,
       "grid_auto_flow": null,
       "grid_auto_rows": null,
       "grid_column": null,
       "grid_gap": null,
       "grid_row": null,
       "grid_template_areas": null,
       "grid_template_columns": null,
       "grid_template_rows": null,
       "height": "3em",
       "justify_content": null,
       "justify_items": null,
       "left": null,
       "margin": null,
       "max_height": null,
       "max_width": null,
       "min_height": null,
       "min_width": null,
       "object_fit": null,
       "object_position": null,
       "order": null,
       "overflow": null,
       "overflow_x": null,
       "overflow_y": null,
       "padding": null,
       "right": null,
       "top": null,
       "visibility": null,
       "width": "3em"
      }
     },
     "c8bedfb44bc544098ab1b27620597adf": {
      "model_module": "@jupyter-widgets/controls",
      "model_module_version": "1.5.0",
      "model_name": "ButtonStyleModel",
      "state": {
       "_model_module": "@jupyter-widgets/controls",
       "_model_module_version": "1.5.0",
       "_model_name": "ButtonStyleModel",
       "_view_count": null,
       "_view_module": "@jupyter-widgets/base",
       "_view_module_version": "1.2.0",
       "_view_name": "StyleView",
       "button_color": null,
       "font_weight": ""
      }
     },
     "d0a4b4c5763846769fb284654a50daac": {
      "model_module": "@jupyter-widgets/controls",
      "model_module_version": "1.5.0",
      "model_name": "ButtonStyleModel",
      "state": {
       "_model_module": "@jupyter-widgets/controls",
       "_model_module_version": "1.5.0",
       "_model_name": "ButtonStyleModel",
       "_view_count": null,
       "_view_module": "@jupyter-widgets/base",
       "_view_module_version": "1.2.0",
       "_view_name": "StyleView",
       "button_color": null,
       "font_weight": ""
      }
     },
     "d10be60b2400477a942eabef56b07420": {
      "model_module": "@jupyter-widgets/base",
      "model_module_version": "1.2.0",
      "model_name": "LayoutModel",
      "state": {
       "_model_module": "@jupyter-widgets/base",
       "_model_module_version": "1.2.0",
       "_model_name": "LayoutModel",
       "_view_count": null,
       "_view_module": "@jupyter-widgets/base",
       "_view_module_version": "1.2.0",
       "_view_name": "LayoutView",
       "align_content": null,
       "align_items": null,
       "align_self": null,
       "border": null,
       "bottom": null,
       "display": null,
       "flex": null,
       "flex_flow": null,
       "grid_area": null,
       "grid_auto_columns": null,
       "grid_auto_flow": null,
       "grid_auto_rows": null,
       "grid_column": null,
       "grid_gap": null,
       "grid_row": null,
       "grid_template_areas": null,
       "grid_template_columns": null,
       "grid_template_rows": null,
       "height": "3em",
       "justify_content": null,
       "justify_items": null,
       "left": null,
       "margin": null,
       "max_height": null,
       "max_width": null,
       "min_height": null,
       "min_width": null,
       "object_fit": null,
       "object_position": null,
       "order": null,
       "overflow": null,
       "overflow_x": null,
       "overflow_y": null,
       "padding": null,
       "right": null,
       "top": null,
       "visibility": null,
       "width": "6em"
      }
     },
     "d11e4cef9ec541e289121d0bd6dd4cfd": {
      "model_module": "@jupyter-widgets/controls",
      "model_module_version": "1.5.0",
      "model_name": "ButtonStyleModel",
      "state": {
       "_model_module": "@jupyter-widgets/controls",
       "_model_module_version": "1.5.0",
       "_model_name": "ButtonStyleModel",
       "_view_count": null,
       "_view_module": "@jupyter-widgets/base",
       "_view_module_version": "1.2.0",
       "_view_name": "StyleView",
       "button_color": null,
       "font_weight": ""
      }
     },
     "d1e279912e9341e489de75cc582be46b": {
      "model_module": "@jupyter-widgets/controls",
      "model_module_version": "1.5.0",
      "model_name": "ButtonStyleModel",
      "state": {
       "_model_module": "@jupyter-widgets/controls",
       "_model_module_version": "1.5.0",
       "_model_name": "ButtonStyleModel",
       "_view_count": null,
       "_view_module": "@jupyter-widgets/base",
       "_view_module_version": "1.2.0",
       "_view_name": "StyleView",
       "button_color": null,
       "font_weight": ""
      }
     },
     "d44d593370384121a6a9f404a50750d3": {
      "model_module": "@jupyter-widgets/controls",
      "model_module_version": "1.5.0",
      "model_name": "ButtonModel",
      "state": {
       "_dom_classes": [],
       "_model_module": "@jupyter-widgets/controls",
       "_model_module_version": "1.5.0",
       "_model_name": "ButtonModel",
       "_view_count": null,
       "_view_module": "@jupyter-widgets/controls",
       "_view_module_version": "1.5.0",
       "_view_name": "ButtonView",
       "button_style": "",
       "description": "H",
       "disabled": false,
       "icon": "",
       "layout": "IPY_MODEL_c7c19147f97a4a1fbca6639d702924fd",
       "style": "IPY_MODEL_6a99781c04d44d208be1d5e268036914",
       "tooltip": ""
      }
     },
     "d496605237414ff48b718e9b9a7c4293": {
      "model_module": "@jupyter-widgets/controls",
      "model_module_version": "1.5.0",
      "model_name": "ButtonModel",
      "state": {
       "_dom_classes": [],
       "_model_module": "@jupyter-widgets/controls",
       "_model_module_version": "1.5.0",
       "_model_name": "ButtonModel",
       "_view_count": null,
       "_view_module": "@jupyter-widgets/controls",
       "_view_module_version": "1.5.0",
       "_view_name": "ButtonView",
       "button_style": "",
       "description": "Rz",
       "disabled": false,
       "icon": "",
       "layout": "IPY_MODEL_1b629f26cea34e9bb168ee081ada4c5c",
       "style": "IPY_MODEL_c150eb7fe75044ad91c31ba46905f32b",
       "tooltip": ""
      }
     },
     "da4338f9b07849c9b4bbce512c9222f6": {
      "model_module": "@jupyter-widgets/controls",
      "model_module_version": "1.5.0",
      "model_name": "ButtonModel",
      "state": {
       "_dom_classes": [],
       "_model_module": "@jupyter-widgets/controls",
       "_model_module_version": "1.5.0",
       "_model_name": "ButtonModel",
       "_view_count": null,
       "_view_module": "@jupyter-widgets/controls",
       "_view_module_version": "1.5.0",
       "_view_name": "ButtonView",
       "button_style": "",
       "description": "X",
       "disabled": false,
       "icon": "",
       "layout": "IPY_MODEL_285d0fac51b8457baade0938fa278660",
       "style": "IPY_MODEL_59ee9e9a84104b99b9eb11b39c5d4cff",
       "tooltip": ""
      }
     },
     "dc35da65294c47ecaf8898664fc3e38b": {
      "model_module": "@jupyter-widgets/base",
      "model_module_version": "1.2.0",
      "model_name": "LayoutModel",
      "state": {
       "_model_module": "@jupyter-widgets/base",
       "_model_module_version": "1.2.0",
       "_model_name": "LayoutModel",
       "_view_count": null,
       "_view_module": "@jupyter-widgets/base",
       "_view_module_version": "1.2.0",
       "_view_name": "LayoutView",
       "align_content": null,
       "align_items": null,
       "align_self": null,
       "border": null,
       "bottom": null,
       "display": null,
       "flex": null,
       "flex_flow": null,
       "grid_area": null,
       "grid_auto_columns": null,
       "grid_auto_flow": null,
       "grid_auto_rows": null,
       "grid_column": null,
       "grid_gap": null,
       "grid_row": null,
       "grid_template_areas": null,
       "grid_template_columns": null,
       "grid_template_rows": null,
       "height": "3em",
       "justify_content": null,
       "justify_items": null,
       "left": null,
       "margin": null,
       "max_height": null,
       "max_width": null,
       "min_height": null,
       "min_width": null,
       "object_fit": null,
       "object_position": null,
       "order": null,
       "overflow": null,
       "overflow_x": null,
       "overflow_y": null,
       "padding": null,
       "right": null,
       "top": null,
       "visibility": null,
       "width": "3em"
      }
     },
     "ddeae419d7c8473fa521a3b7959c4e31": {
      "buffers": [
       {
        "data": "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",
        "encoding": "base64",
        "path": [
         "value"
        ]
       }
      ],
      "model_module": "@jupyter-widgets/controls",
      "model_module_version": "1.5.0",
      "model_name": "ImageModel",
      "state": {
       "_dom_classes": [],
       "_model_module": "@jupyter-widgets/controls",
       "_model_module_version": "1.5.0",
       "_model_name": "ImageModel",
       "_view_count": null,
       "_view_module": "@jupyter-widgets/controls",
       "_view_module_version": "1.5.0",
       "_view_name": "ImageView",
       "format": "png",
       "height": "",
       "layout": "IPY_MODEL_fc0b466dc3b649bdaa23f654881e0595",
       "value": {},
       "width": ""
      }
     },
     "e3ae3f555fb54cad889593f212d5e870": {
      "model_module": "@jupyter-widgets/controls",
      "model_module_version": "1.5.0",
      "model_name": "ButtonModel",
      "state": {
       "_dom_classes": [],
       "_model_module": "@jupyter-widgets/controls",
       "_model_module_version": "1.5.0",
       "_model_name": "ButtonModel",
       "_view_count": null,
       "_view_module": "@jupyter-widgets/controls",
       "_view_module_version": "1.5.0",
       "_view_name": "ButtonView",
       "button_style": "",
       "description": "Reset",
       "disabled": false,
       "icon": "",
       "layout": "IPY_MODEL_d10be60b2400477a942eabef56b07420",
       "style": "IPY_MODEL_9d6ff0bc519f4b23a7767a78a513aa37",
       "tooltip": ""
      }
     },
     "e42f8dee8bcc42db96e6fdcfc6d98fdb": {
      "model_module": "@jupyter-widgets/controls",
      "model_module_version": "1.5.0",
      "model_name": "SliderStyleModel",
      "state": {
       "_model_module": "@jupyter-widgets/controls",
       "_model_module_version": "1.5.0",
       "_model_name": "SliderStyleModel",
       "_view_count": null,
       "_view_module": "@jupyter-widgets/base",
       "_view_module_version": "1.2.0",
       "_view_name": "StyleView",
       "description_width": "",
       "handle_color": null
      }
     },
     "e59930139e1e4c84a0353d861f729f1a": {
      "model_module": "@jupyter-widgets/base",
      "model_module_version": "1.2.0",
      "model_name": "LayoutModel",
      "state": {
       "_model_module": "@jupyter-widgets/base",
       "_model_module_version": "1.2.0",
       "_model_name": "LayoutModel",
       "_view_count": null,
       "_view_module": "@jupyter-widgets/base",
       "_view_module_version": "1.2.0",
       "_view_name": "LayoutView",
       "align_content": null,
       "align_items": null,
       "align_self": null,
       "border": null,
       "bottom": null,
       "display": null,
       "flex": null,
       "flex_flow": null,
       "grid_area": null,
       "grid_auto_columns": null,
       "grid_auto_flow": null,
       "grid_auto_rows": null,
       "grid_column": null,
       "grid_gap": null,
       "grid_row": null,
       "grid_template_areas": null,
       "grid_template_columns": null,
       "grid_template_rows": null,
       "height": null,
       "justify_content": null,
       "justify_items": null,
       "left": null,
       "margin": null,
       "max_height": null,
       "max_width": null,
       "min_height": null,
       "min_width": null,
       "object_fit": null,
       "object_position": null,
       "order": null,
       "overflow": null,
       "overflow_x": null,
       "overflow_y": null,
       "padding": null,
       "right": null,
       "top": null,
       "visibility": null,
       "width": null
      }
     },
     "e61daad9bb5343389c9c62732264bf72": {
      "model_module": "@jupyter-widgets/controls",
      "model_module_version": "1.5.0",
      "model_name": "ButtonStyleModel",
      "state": {
       "_model_module": "@jupyter-widgets/controls",
       "_model_module_version": "1.5.0",
       "_model_name": "ButtonStyleModel",
       "_view_count": null,
       "_view_module": "@jupyter-widgets/base",
       "_view_module_version": "1.2.0",
       "_view_name": "StyleView",
       "button_color": null,
       "font_weight": ""
      }
     },
     "e765402816a8496da09c36eadd3eecad": {
      "model_module": "@jupyter-widgets/base",
      "model_module_version": "1.2.0",
      "model_name": "LayoutModel",
      "state": {
       "_model_module": "@jupyter-widgets/base",
       "_model_module_version": "1.2.0",
       "_model_name": "LayoutModel",
       "_view_count": null,
       "_view_module": "@jupyter-widgets/base",
       "_view_module_version": "1.2.0",
       "_view_name": "LayoutView",
       "align_content": null,
       "align_items": null,
       "align_self": null,
       "border": null,
       "bottom": null,
       "display": null,
       "flex": null,
       "flex_flow": null,
       "grid_area": null,
       "grid_auto_columns": null,
       "grid_auto_flow": null,
       "grid_auto_rows": null,
       "grid_column": null,
       "grid_gap": null,
       "grid_row": null,
       "grid_template_areas": null,
       "grid_template_columns": null,
       "grid_template_rows": null,
       "height": "3em",
       "justify_content": null,
       "justify_items": null,
       "left": null,
       "margin": null,
       "max_height": null,
       "max_width": null,
       "min_height": null,
       "min_width": null,
       "object_fit": null,
       "object_position": null,
       "order": null,
       "overflow": null,
       "overflow_x": null,
       "overflow_y": null,
       "padding": null,
       "right": null,
       "top": null,
       "visibility": null,
       "width": "3em"
      }
     },
     "e9613a6fc4f14581aac36f55ca4c0ee5": {
      "model_module": "@jupyter-widgets/base",
      "model_module_version": "1.2.0",
      "model_name": "LayoutModel",
      "state": {
       "_model_module": "@jupyter-widgets/base",
       "_model_module_version": "1.2.0",
       "_model_name": "LayoutModel",
       "_view_count": null,
       "_view_module": "@jupyter-widgets/base",
       "_view_module_version": "1.2.0",
       "_view_name": "LayoutView",
       "align_content": null,
       "align_items": null,
       "align_self": null,
       "border": null,
       "bottom": null,
       "display": null,
       "flex": null,
       "flex_flow": null,
       "grid_area": null,
       "grid_auto_columns": null,
       "grid_auto_flow": null,
       "grid_auto_rows": null,
       "grid_column": null,
       "grid_gap": null,
       "grid_row": null,
       "grid_template_areas": null,
       "grid_template_columns": null,
       "grid_template_rows": null,
       "height": "3em",
       "justify_content": null,
       "justify_items": null,
       "left": null,
       "margin": null,
       "max_height": null,
       "max_width": null,
       "min_height": null,
       "min_width": null,
       "object_fit": null,
       "object_position": null,
       "order": null,
       "overflow": null,
       "overflow_x": null,
       "overflow_y": null,
       "padding": null,
       "right": null,
       "top": null,
       "visibility": null,
       "width": "3em"
      }
     },
     "ea9db941a88a44d583400b3487cf11f6": {
      "model_module": "@jupyter-widgets/controls",
      "model_module_version": "1.5.0",
      "model_name": "ButtonModel",
      "state": {
       "_dom_classes": [],
       "_model_module": "@jupyter-widgets/controls",
       "_model_module_version": "1.5.0",
       "_model_name": "ButtonModel",
       "_view_count": null,
       "_view_module": "@jupyter-widgets/controls",
       "_view_module_version": "1.5.0",
       "_view_name": "ButtonView",
       "button_style": "",
       "description": "Y",
       "disabled": false,
       "icon": "",
       "layout": "IPY_MODEL_e765402816a8496da09c36eadd3eecad",
       "style": "IPY_MODEL_f2da491b0e63440db852031211159877",
       "tooltip": ""
      }
     },
     "f151e83c75a54ee8a5988d93dd4a27ef": {
      "model_module": "@jupyter-widgets/controls",
      "model_module_version": "1.5.0",
      "model_name": "ButtonStyleModel",
      "state": {
       "_model_module": "@jupyter-widgets/controls",
       "_model_module_version": "1.5.0",
       "_model_name": "ButtonStyleModel",
       "_view_count": null,
       "_view_module": "@jupyter-widgets/base",
       "_view_module_version": "1.2.0",
       "_view_name": "StyleView",
       "button_color": null,
       "font_weight": ""
      }
     },
     "f2da491b0e63440db852031211159877": {
      "model_module": "@jupyter-widgets/controls",
      "model_module_version": "1.5.0",
      "model_name": "ButtonStyleModel",
      "state": {
       "_model_module": "@jupyter-widgets/controls",
       "_model_module_version": "1.5.0",
       "_model_name": "ButtonStyleModel",
       "_view_count": null,
       "_view_module": "@jupyter-widgets/base",
       "_view_module_version": "1.2.0",
       "_view_name": "StyleView",
       "button_color": null,
       "font_weight": ""
      }
     },
     "f4c05b74fc084da792f26ab98fc78ace": {
      "model_module": "@jupyter-widgets/controls",
      "model_module_version": "1.5.0",
      "model_name": "HBoxModel",
      "state": {
       "_dom_classes": [],
       "_model_module": "@jupyter-widgets/controls",
       "_model_module_version": "1.5.0",
       "_model_name": "HBoxModel",
       "_view_count": null,
       "_view_module": "@jupyter-widgets/controls",
       "_view_module_version": "1.5.0",
       "_view_name": "HBoxView",
       "box_style": "",
       "children": [
        "IPY_MODEL_da4338f9b07849c9b4bbce512c9222f6",
        "IPY_MODEL_ea9db941a88a44d583400b3487cf11f6",
        "IPY_MODEL_661f779dc3ad4cbc9be0255128a15226",
        "IPY_MODEL_d44d593370384121a6a9f404a50750d3",
        "IPY_MODEL_15bf026f48e04266b88a15a9b509197c"
       ],
       "layout": "IPY_MODEL_94a63b848b644f10b20f092d0d695a68"
      }
     },
     "f77f38c411f74e039d254aa3dfc0e935": {
      "model_module": "@jupyter-widgets/controls",
      "model_module_version": "1.5.0",
      "model_name": "SliderStyleModel",
      "state": {
       "_model_module": "@jupyter-widgets/controls",
       "_model_module_version": "1.5.0",
       "_model_name": "SliderStyleModel",
       "_view_count": null,
       "_view_module": "@jupyter-widgets/base",
       "_view_module_version": "1.2.0",
       "_view_name": "StyleView",
       "description_width": "",
       "handle_color": null
      }
     },
     "fc0b466dc3b649bdaa23f654881e0595": {
      "model_module": "@jupyter-widgets/base",
      "model_module_version": "1.2.0",
      "model_name": "LayoutModel",
      "state": {
       "_model_module": "@jupyter-widgets/base",
       "_model_module_version": "1.2.0",
       "_model_name": "LayoutModel",
       "_view_count": null,
       "_view_module": "@jupyter-widgets/base",
       "_view_module_version": "1.2.0",
       "_view_name": "LayoutView",
       "align_content": null,
       "align_items": null,
       "align_self": null,
       "border": null,
       "bottom": null,
       "display": null,
       "flex": null,
       "flex_flow": null,
       "grid_area": null,
       "grid_auto_columns": null,
       "grid_auto_flow": null,
       "grid_auto_rows": null,
       "grid_column": null,
       "grid_gap": null,
       "grid_row": null,
       "grid_template_areas": null,
       "grid_template_columns": null,
       "grid_template_rows": null,
       "height": null,
       "justify_content": null,
       "justify_items": null,
       "left": null,
       "margin": null,
       "max_height": null,
       "max_width": null,
       "min_height": null,
       "min_width": null,
       "object_fit": null,
       "object_position": null,
       "order": null,
       "overflow": null,
       "overflow_x": null,
       "overflow_y": null,
       "padding": null,
       "right": null,
       "top": null,
       "visibility": null,
       "width": null
      }
     },
     "fd3a3265738a4961bbb0e4d7eb857727": {
      "model_module": "@jupyter-widgets/controls",
      "model_module_version": "1.5.0",
      "model_name": "ButtonModel",
      "state": {
       "_dom_classes": [],
       "_model_module": "@jupyter-widgets/controls",
       "_model_module_version": "1.5.0",
       "_model_name": "ButtonModel",
       "_view_count": null,
       "_view_module": "@jupyter-widgets/controls",
       "_view_module_version": "1.5.0",
       "_view_name": "ButtonView",
       "button_style": "",
       "description": "Reset",
       "disabled": false,
       "icon": "",
       "layout": "IPY_MODEL_729ba03fa173412d82418b27771d7a04",
       "style": "IPY_MODEL_b726c978dd3143dcaa60fd8038e81017",
       "tooltip": ""
      }
     }
    },
    "version_major": 2,
    "version_minor": 0
   }
  }
 },
 "nbformat": 4,
 "nbformat_minor": 4
}
