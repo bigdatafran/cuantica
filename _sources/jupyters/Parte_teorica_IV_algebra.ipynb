{
 "cells": [
  {
   "cell_type": "markdown",
   "id": "b893110e-1835-4b67-bfd9-5b9402840c2a",
   "metadata": {},
   "source": [
    "(algrebralineal)=\n",
    "# Introducción\n",
    "\n",
    "```{index} statevector, vector de estado\n",
    "```\n",
    "En este apartado vamos a ver diferentes forma de representar los qubits. Seguiremos trabajando, de momento, con un sólo qubit y presentaremos diferentes operaciones sobre ellos. Comprenderemos lo que es el producto interno y ciertas propiedades sobre el mismo.\n",
    "\n",
    "Veamos en primer cómo poder representar mediante coordenada los qubits de la base $\\{|0\\rangle , |1\\rangle \\}$.\n",
    "\n",
    "$$|0\\rangle={\\binom{1}{0}},\\quad|1\\rangle={\\binom{0}{1}}.$$\n",
    "\n",
    "Como podemos ver se han utilizado vectores columnas para representar estos vectores que vamos a denominar *statevector* o *vectores de estado*.\n",
    "\n",
    "De la misma manera se podría representar cualquier qubit que tuviera de amplitudes $\\alpha$ y $\\beta$. Es decir se tendría la siguiente representación:\n",
    "\n",
    "$$|\\psi\\rangle=\\alpha|0\\rangle+\\beta|1\\rangle=\\alpha\\binom{1}{0}+\\beta\\binom{0}{1}={\\binom{\\alpha}{0}}+{\\binom{0}{\\beta}}=$$\n",
    "$$={\\binom{\\alpha}{\\beta}}.$$\n",
    "\n",
    "Como ya sabemos los qubits $\\{|i\\rangle, |-i\\rangle\\} forman una base por lo tanto el qubit $|i\\rangle$ se puede representar por el siguiente vector columna en esa base:\n",
    "\n",
    "$$\\left(\\begin{array}{c}\n",
    "1\\\\\n",
    "0\n",
    "\\end{array}\\right)$$\n",
    "\n",
    "Pero en la base formada por los qubits $|0\\rangle$ y $|1\\rangle$ ( que en adelante la llamaremos la base canónica), su expresión sería de las siguiente manera:\n"
   ]
  },
  {
   "cell_type": "markdown",
   "id": "a9b0d2df-ddbe-4c9c-aa54-2c4fa1f663eb",
   "metadata": {},
   "source": [
    "$$|i\\rangle=\\frac{1}{\\sqrt{2}}|0\\rangle+\\frac{i}{\\sqrt{2}}|1\\rangle=\\frac{1}{\\sqrt{2}}{\\binom{1}{0}}+\\frac{i}{\\sqrt{2}}{\\binom{0}{1}}={\\binom{1/{\\sqrt{2}}}{0}}+{\\binom{0}{i/{\\sqrt{2}}}}=$$\n",
    "$$={\\binom{1/{\\sqrt{2}}}{i/{\\sqrt{2}}}}={\\frac{1}{\\sqrt{2}}}{\\binom{1}{i}}.$$\n",
    "\n",
    "Igualmente sabemos que $H(|0\\rangle)=|+\\rangle=\\frac{1}{\\sqrt{2}}\\left(|0\\rangle+|1\\rangle\\right)$, por lo que en este caso el vector columna será:\n",
    "\n",
    "$$\\binom{\\frac{1}{\\sqrt{2}}}{\\frac{1}{\\sqrt{2}}}$$"
   ]
  },
  {
   "cell_type": "markdown",
   "id": "ecff47f4-4c5c-4a5e-8f1b-e0686deb3b2c",
   "metadata": {},
   "source": [
    "En el mundo de la programación cuántica, este tipo de vectores se denominan [*statevector* o *vectores de estado*](statevector), <a href=\"https://qiskit.org/documentation/stubs/qiskit.quantum_info.Statevector.html\" target=\"_blank\"> qiskit tiene una clase específicamente diseñada para trabajar </a> con este tipo de elementos. A continuación veamos cómo introducir esta clase.\n",
    "\n",
    "La forma de definir un vector de estado sería de la siguiente manera: "
   ]
  },
  {
   "cell_type": "code",
   "execution_count": 1,
   "id": "8f7455df-796e-4b44-8f10-8fdc130c402b",
   "metadata": {},
   "outputs": [
    {
     "name": "stdout",
     "output_type": "stream",
     "text": [
      "El vector de estado generado es el siguiente:  Statevector([1.+0.j, 0.+0.j],\n",
      "            dims=(2,))\n"
     ]
    }
   ],
   "source": [
    "from qiskit.quantum_info import Statevector\n",
    "v1=Statevector([1,0])\n",
    "print(\"El vector de estado generado es el siguiente: \", v1)"
   ]
  },
  {
   "cell_type": "markdown",
   "id": "a573cf1f-a251-45c6-b8aa-911465944ddf",
   "metadata": {},
   "source": [
    "En el ejemplo anterior, la forma de definir ese vector de estado sería la siguiente:\n"
   ]
  },
  {
   "cell_type": "code",
   "execution_count": 2,
   "id": "6931300a-3be8-49bb-a1a3-af1b48280037",
   "metadata": {},
   "outputs": [
    {
     "name": "stdout",
     "output_type": "stream",
     "text": [
      "Statevector([0.70710678+0.j        , 0.        +0.70710678j],\n",
      "            dims=(2,))\n"
     ]
    }
   ],
   "source": [
    "import numpy as np\n",
    "v2 = Statevector([(1/np.sqrt(2))+0j,0+1j*(1/np.sqrt(2))])\n",
    "print(v2)"
   ]
  },
  {
   "cell_type": "markdown",
   "metadata": {},
   "source": [
    "Igualmente ya hemos dicho que se cumple lo siguiente: $H(|0\\rangle)=|+\\rangle=\\frac{1}{\\sqrt{2}}\\left(|0\\rangle+|1\\rangle\\right)$, por lo que en este caso el vector columna será:\n",
    "\n",
    "$$\\binom{\\frac{1}{\\sqrt{2}}}{\\frac{1}{\\sqrt{2}}}$$\n",
    "\n",
    "Veamos que con quiskit también podemos obtener este resultado, y para ello definimos un circuito de un sólo qubit al que se le aplica una puerta H\n"
   ]
  },
  {
   "cell_type": "code",
   "execution_count": 3,
   "metadata": {},
   "outputs": [
    {
     "name": "stdout",
     "output_type": "stream",
     "text": [
      "Statevector([0.707+0.j, 0.707+0.j],\n",
      "            dims=(2,))\n"
     ]
    }
   ],
   "source": [
    "from qiskit import QuantumCircuit\n",
    "# Definimos el circuito de un solo qubit\n",
    "circuito = QuantumCircuit(1)\n",
    "\n",
    "#Aplicamos un puerta H\n",
    "circuito.h(0)\n",
    "\n",
    "# Import Aer\n",
    "from qiskit import Aer\n",
    "\n",
    "#  Ejecutamos el circuito sobre un simulador de  statevector simulator backend\n",
    "backend = Aer.get_backend('statevector_simulator')\n",
    "\n",
    "# creamos un programa cuántico para ejecución.\n",
    "job = backend.run(circuito)\n",
    "\n",
    "# obtenemos el resultado\n",
    "result = job.result()\n",
    "\n",
    "# Ahora ya podemos sacar el vector de estado y lo imprimimos\n",
    "outputstate = result.get_statevector(circuito, decimals=3)\n",
    "print(outputstate)"
   ]
  },
  {
   "cell_type": "code",
   "execution_count": 4,
   "metadata": {},
   "outputs": [
    {
     "name": "stdout",
     "output_type": "stream",
     "text": [
      "0.7071067811865475\n"
     ]
    }
   ],
   "source": [
    "# Comprobamos que el resultado es el correcto\n",
    "print(1/np.sqrt(2))"
   ]
  },
  {
   "cell_type": "markdown",
   "metadata": {},
   "source": [
    "## Vectores fila.\n",
    "```{index} bra-ket (notation)\n",
    "```\n",
    "Los vectores fila, no son más que el vector columna transpuesto, es decir :\n",
    "\n",
    "$$\\binom{\\alpha}{\\beta}^{T}=\\left(\\alpha,\\beta\\right)$$\n",
    "\n",
    "Sin embargo en la programación cuántica, se utiliza mucho el denominado vector transpuesto conjugado,  que como su nombre indica consiste en tomar el vector transpuesto y después el conjugado. Se denota por el superíndice  $\\dagger$:\n",
    "\n",
    "$${\\binom{\\alpha}{\\beta}}^{\\dagger}=(\\alpha^{*}\\,\\beta^{*}).$$\n",
    "\n",
    "De acuerdo con esta explicación, también hay que comentar que dentro de la programación cuántica se utiliza mucho la notación *bra-ket*. La parte ket ya se ha utilizado anteriormente y por y un ejemplo de la misma puede ser: $|1\\rangle$, sin embargo, con la parta bra, queremos indicar lo siguiente:\n",
    "\n",
    "$$\\langle\\psi|=(\\alpha^{*}\\,\\beta^{*}).$$\n",
    "\n",
    "## El producto interno.\n",
    "\n",
    "Así pues y tal como se ha presentado en el anterior apartado, la parte *bra* no es más que el transpuesto conjugado de la parte *bra*. Por ejemplo, vamos a considerar un qubit ya utilizado anteriormente en este capítulo:\n",
    "\n",
    "$$|i\\rangle={\\binom{1/{\\sqrt{2}}}{i/{\\sqrt{2}}}}={\\frac{1}{\\sqrt{2}}}{\\binom{1}{i}}.$$\n",
    "\n",
    "Por lo tanto la parte bra de la expresión anterior, sería la siguiente:\n",
    "\n",
    "$$|i\\rangle=(1/{\\sqrt{2}},-i/{\\sqrt{2}})$$\n",
    "\n",
    "Podemos tomar los transpuestos conjugados de $|0\\rangle=\\binom{1}{0}$ y $|1\\rangle=\\binom{0}{1}$, tiene las siguientes partes bra:\n",
    "\n",
    "$$\\langle 0| = (1 , 0) \\quad \\langle1|=(0 , 1)$$\n",
    "\n",
    "Y entonces podemos tener la siguiente conclusión:\n",
    "\n",
    "$$\\begin{array}{c}{{\\langle\\psi|=(\\alpha^{\\ast}\\beta^{\\ast})=(\\alpha^{\\ast}\\ 0)+(0\\,\\beta^{\\ast})=\\alpha^{\\ast}(1\\ 0)+\\beta^{\\ast}(0\\ 1)}}\\\\ {{=\\alpha^{\\ast}\\langle0|+\\beta^{\\ast}\\langle1|.}}\\end{array}$$"
   ]
  },
  {
   "cell_type": "markdown",
   "metadata": {},
   "source": [
    "Notemos que en este caso tendremos amplitudes $\\alpha^*$ y $\\beta^*$ y por lo tanto cuando pasamos de  $|\\psi\\rangle$ a $\\langle \\psi|$, lo que se necesita es tomar los complejos conjugados de las amplitudes y pasar de vector columna a vector fila. Por ejemplo, si  sabemos que $|i\\rangle=\\frac{1}{\\sqrt{2}}|0\\rangle+\\frac{i}{\\sqrt{2}}|1\\rangle$, entonces:\n",
    "\n",
    "$$\\langle i|=\\frac{1}{\\sqrt{2}}\\langle0|-\\frac{i}{\\sqrt{2}}\\langle1|$$\n",
    "\n",
    "Resumamos todo esto a continuación\n",
    "\n",
    "$$|\\Psi\\rangle={\\binom{\\alpha}{\\beta}}\\Longleftrightarrow\\quad\\quad\\langle\\Psi|=(\\alpha^{*}\\,{\\beta^{*}})$$\n",
    "\n",
    "$$|\\psi\\rangle=\\alpha|0\\rangle+\\beta|1\\rangle\\iff\\langle\\psi|=\\alpha^{*}\\langle0|+\\beta^{*}\\langle1|$$"
   ]
  },
  {
   "cell_type": "markdown",
   "metadata": {},
   "source": [
    "(productointerno)=\n",
    "## Productos internos o escalar.\n",
    "\n",
    "Supongamos que tenemos dos estados:\n",
    "\n",
    "$$|\\Psi\\rangle={\\binom{\\alpha}{\\beta}},\\quad y \\quad|\\phi\\rangle={\\binom{\\gamma}{\\delta}}$$\n",
    "\n",
    "Definiremos su producto interno y lo designaremos por $\\langle \\Psi | \\phi\\rangle$, de la siguiente manera:\n",
    "\n",
    "$$\\langle\\Psi|\\phi\\rangle=\\left(\\alpha^{*}\\,\\beta^{*}\\right)\\left(\\gamma, \\delta\\right)  $$\n",
    "\n",
    "El resultado por lo tanto será un escalar complejo, y en concreto:\n",
    "\n",
    "$$ \\langle\\phi|\\psi\\rangle=\\alpha^{*}\\gamma+\\beta^{*}\\delta.$$\n",
    "\n",
    "Una propiedad muy importante del producto escalar es que el producto escalar de $\\Psi$ y $\\phi$ es igual cl complejo del producto escalar de $\\phi$ por $\\Psi$. Es decir:\n",
    "\n",
    "$$\\langle\\Psi|\\phi\\rangle=\\langle\\phi|\\Psi\\rangle^{*}$$\n",
    "\n",
    "Un conclusión del resultado anterior es que el producto interno no tiene la propiedad conmutativa.\n",
    "\n",
    "Vamos a demostrar el enunciado anterior.\n",
    "\n",
    "$$\\begin{array}{c}{{\\langle\\Psi|\\phi\\rangle=(\\gamma^{*}\\;\\delta^{*})\\binom{\\alpha}{\\beta}=\\gamma^{*}\\alpha+\\delta^{*}\\beta=(\\gamma\\alpha^{*}+\\delta\\beta^{*})^{*}=(\\alpha^{*}\\gamma+\\beta^{*}\\delta)^{*}}}\\\\ {{=\\langle\\phi\\left|\\Psi\\right\\rangle^{*}.}}\\end{array}$$\n",
    "\n",
    "Veamos cómo calcular el producto interno desde quiskit. Supongamos que tenemos los siguientes qubits.\n",
    "\n",
    "$$|a\\rangle=\\frac{3+i\\sqrt{3}}{4}|0\\rangle+\\frac{1}{2}|1\\rangle$$\n",
    "\n",
    "$$|b\\rangle=\\frac{1}{4}|0\\rangle+\\frac{\\sqrt{15}}{4}|1\\rangle$$\n",
    "\n",
    "Procedamos al cálculo del producto interno con qiskit\n"
   ]
  },
  {
   "cell_type": "code",
   "execution_count": 5,
   "metadata": {},
   "outputs": [
    {
     "name": "stdout",
     "output_type": "stream",
     "text": [
      "El producto interno es: \n"
     ]
    },
    {
     "data": {
      "text/plain": [
       "(0.6716229182759271-0.10825317547305482j)"
      ]
     },
     "execution_count": 5,
     "metadata": {},
     "output_type": "execute_result"
    }
   ],
   "source": [
    "from qiskit.quantum_info import Statevector\n",
    "import numpy as np\n",
    "# definimos el primer vector de estado\n",
    "v1 = Statevector([3/4+1j*(np.sqrt(3)/4),1/2])\n",
    "v2 = Statevector([1/4,np.sqrt(15)/4])\n",
    "\n",
    "# Ahora calculamos el producto interno\n",
    "print(\"El producto interno es: \")\n",
    "v1.inner(v2)"
   ]
  },
  {
   "cell_type": "markdown",
   "metadata": {},
   "source": [
    "## Ortonormalidad.\n",
    "\n",
    "Una vez introducido el concepto de producto interno, vamos a ver que nos podemos apoyar en él para demostrar ciertas condiciones que ya sabemos deben cumplirse al trabajar con qubits.\n",
    "\n",
    "En este sentido, supongamos que tenemos el siguiente qubit: $\\Psi = \\alpha |0\\rangle +\\beta |1\\rangle$, como es un qubit debe estar sobre la esfera de radio unidad, y por lo tanto verifica que $|\\alpha|^2+|\\beta|^2 =1$. Pero vemos cunato vale el producto interno de ese qubit consigo mismo:\n",
    "\n",
    "$$\\langle\\Psi|\\Psi\\rangle=(\\alpha^{*},\\beta^{*})\\binom{\\alpha}{\\beta}=|\\alpha|^{2}+|\\beta|^{2}=1$$\n",
    "\n",
    "Por lo tanto una condición que debe cumplir cada elemento de una base (que esté en la esfera de radio unidad), es que el producto interno del qubit por sí mismo es la unidad.\n",
    "\n",
    "Otra de las condiciones que deben cumplir los dos qubits que formen una base es que sean ortonormales. Veamos que esto es cierto para la base canónica.\n",
    "\n",
    "$$\\langle0|1\\rangle=\\left(1~0\\right)\\!\\left(_{1}^{0}\\right)=1\\cdot0+0\\cdot1=0+0=0$$\n",
    "\n",
    "Igual ocurre con los qubits $|+\\rangle$ y $|-\\rangle$\n",
    "\n",
    "$$\\left|+\\right\\rangle\\langle-|={\\frac{1}{\\sqrt2}}\\big(1\\left.1\\right){\\frac{1}{\\sqrt2}}\\binom{1}{-1}={\\frac{1}{2}}\\big(1\\ 1\\big)\\binom{1}{-1}={\\frac{1}{2}}\\left(1-1\\right)=0$$\n",
    "\n",
    "Lo mismo tenemos para los estados $|i\\rangle$ y $|-i\\rangle$:\n",
    "\n",
    "$$\\vert i\\rangle\\langle-i\\vert=\\frac{1}{\\sqrt{2}}(1-i)\\frac{1}{\\sqrt{2}}{\\binom{1}{-i}}=\\frac{1}{2}\\left(1-i\\right){\\binom{1}{-i}}=\\frac{1}{2}\\left(1+i^{2}\\right)=0$$"
   ]
  },
  {
   "cell_type": "markdown",
   "metadata": {},
   "source": [
    "Siempre se va a verificar que dos puntos de la esfera de Bloch que estén en posiciones opuestas, siempre su producto interno va a ser cero, y estos dos puntos en esas condiciones, diremos que son ortogonales. Si además los dos puntos están normalizados, diremos que son ortonormales.\n",
    "\n",
    "(proyecciones)=\n",
    "## Proyecciones, medidas y cambios de base.\n",
    "\n",
    "El producto interno tiene muchas aplicaciones dentro de la programación cuántica, y alguna de ellas las vamos a ver en este apartado. En concreto vamos a ver cómo podemos utilizar este producto interno o escalar para medir amplitudes de estados cuánticos. Igualmente vamos a ver cómo proceder para hacer diferentes cambios de base. Para los propósitos de este apartado, vamos a trabajar con el siguiente qubit:\n",
    "\n",
    "$$|\\psi\\rangle={\\frac{\\sqrt{3}}{2}}|0\\rangle+{\\frac{1}{2}}|1\\rangle$$\n",
    "\n",
    "Este qubit ya [fue presentado en un apartado anterior](puntoesfera), y podemos decir que su representación gráfica sobre la esfera de Bloch es la siguiente:\n",
    "\n",
    "<center>\n",
    "\n",
    "![](images/puntoesfera.PNG)\n",
    "\n",
    "</center>\n",
    "\n",
    "Vamos a ver que gracias al producto interno de este qubit por cada elemento de la base nos da sus amplitudes. En efecto, vamos a calcular el siguiente producto interno:\n",
    "\n",
    "$$\\langle0|\\Psi\\rangle=\\langle0|\\left(\\frac{\\sqrt{3}}{2}|0\\rangle+\\frac{1}{2}|1\\rangle\\right)=\\frac{\\sqrt{3}}{2}\\underset{1}{\\underbrace{\\langle0|0\\rangle}}+\\frac{1}{2}\\underset{0}{\\underbrace{\\langle0|1\\rangle}}=\\frac{\\sqrt{3}}{2}$$\n",
    "\n",
    "Como podemos observar, lo que obtenemos es la amplitud sobre el qubit $|0\\rangle$. De forma similar podemos obtener las amplitud sobre el segundo elemento de la base:\n",
    "\n",
    "$$\\langle1|\\Psi\\rangle=\\langle1|\\left(\\frac{\\sqrt{3}}{2}|0\\rangle+\\frac{1}{2}|1\\rangle\\right)=\\frac{\\sqrt{3}}{2}\\underset{0}{\\underbrace{\\langle1|0\\rangle}}+\\frac{1}{2}\\underset{1}{\\underbrace{\\langle1|1\\rangle}}=\\frac{1}{2}$$\n",
    "\n",
    "\n",
    "En vista de estos resultados, podemos concluir que el qubit anterior $\\psi$, se puede escribir de la siguiente manera:\n",
    "\n",
    "$$\\psi\\rangle=\\langle0|\\psi\\rangle|0\\rangle+\\langle1|\\psi\\rangle|1\\rangle$$\n",
    "\n",
    "Este método, es aún más interesante cuando pretendemos medir las amplitudes sobre otro tipo de bases, y así por ejemplo supongamos que queremos medir las amplitudes sobre la base X que era {$|+\\rangle , |1\\rangle$}. En este caso se tiene:\n",
    "\n",
    "$$\\langle+\\vert\\psi\\rangle=\\frac{1}{\\sqrt{2}}{\\big(}\\langle0\\vert+\\langle1\\vert{\\big)}\\left(\\frac{\\sqrt{3}}{2}\\vert0\\rangle+\\frac{1}{2}\\vert1\\rangle\\right)$$\n",
    "\n",
    "$$=\\frac{1}{\\sqrt{2}}\\left(\\frac{\\sqrt{3}}{2}\\underset{1}{\\underbrace{\\langle0|0\\rangle}}+\\frac{1}{2}\\underset{0}{\\underbrace{\\langle0|1\\rangle}+\\frac{\\sqrt{3}}{2}\\underset{0}{\\underbrace{\\langle1|0\\rangle}}}+\\frac{1}{2}\\underset{1}{\\underbrace{\\langle1|1\\rangle}}\\right)=$$\n",
    "\n",
    "$$={\\frac{1}{\\sqrt{2}}}\\left({\\frac{\\sqrt{3}}{2}}+{\\frac{1}{2}}\\right)={\\frac{{\\sqrt{3}}+1}{2{\\sqrt{2}}}}$$\n",
    "\n",
    "Por lo tanto con este procedimiento podemos hacer cambios de base de un forma rápida y práctica.\n",
    "\n",
    "Los resultados anteriores los podemos obtener con qiskit de la siguiente manera:\n"
   ]
  },
  {
   "cell_type": "code",
   "execution_count": 6,
   "id": "2eaea7ba-a20a-43ab-8693-991c58ea6ad4",
   "metadata": {},
   "outputs": [
    {
     "name": "stdout",
     "output_type": "stream",
     "text": [
      "El producto interno es: \n"
     ]
    },
    {
     "data": {
      "text/plain": [
       "(0.9659258262890682+0j)"
      ]
     },
     "execution_count": 6,
     "metadata": {},
     "output_type": "execute_result"
    }
   ],
   "source": [
    "from qiskit.quantum_info import Statevector\n",
    "import numpy as np\n",
    "# definimos el primer vector de estado\n",
    "v1 = Statevector([1/np.sqrt(2),1/np.sqrt(2)])\n",
    "v2 = Statevector([np.sqrt(3)/2,1/2])\n",
    "\n",
    "# Ahora calculamos el producto interno\n",
    "print(\"El producto interno es: \")\n",
    "v1.inner(v2)"
   ]
  },
  {
   "cell_type": "code",
   "execution_count": 7,
   "id": "0042046a-a1ec-4f83-b8ff-a0b37653c732",
   "metadata": {},
   "outputs": [
    {
     "data": {
      "text/plain": [
       "0.9659258262890682"
      ]
     },
     "execution_count": 7,
     "metadata": {},
     "output_type": "execute_result"
    }
   ],
   "source": [
    "# Comprobemos que coincide con el resultado manual\n",
    "(np.sqrt(3)+1)/(2*np.sqrt(2))"
   ]
  },
  {
   "cell_type": "markdown",
   "metadata": {},
   "source": [
    "Comprobemos la amplitud sobre $|-\\rangle$"
   ]
  },
  {
   "cell_type": "code",
   "execution_count": 8,
   "metadata": {},
   "outputs": [
    {
     "name": "stdout",
     "output_type": "stream",
     "text": [
      "El producto interno es: \n"
     ]
    },
    {
     "data": {
      "text/plain": [
       "(0.25881904510252074+0j)"
      ]
     },
     "execution_count": 8,
     "metadata": {},
     "output_type": "execute_result"
    }
   ],
   "source": [
    "# definimos el primer vector de estado\n",
    "v1 = Statevector([1/np.sqrt(2),-1/np.sqrt(2)])\n",
    "v2 = Statevector([np.sqrt(3)/2,1/2])\n",
    "\n",
    "# Ahora calculamos el producto interno\n",
    "print(\"El producto interno es: \")\n",
    "v1.inner(v2)"
   ]
  },
  {
   "cell_type": "code",
   "execution_count": 9,
   "metadata": {},
   "outputs": [
    {
     "data": {
      "text/plain": [
       "0.2588190451025207"
      ]
     },
     "execution_count": 9,
     "metadata": {},
     "output_type": "execute_result"
    }
   ],
   "source": [
    "# Comprobemos que coincide con el resultado manual\n",
    "(np.sqrt(3)-1)/(2*np.sqrt(2))"
   ]
  },
  {
   "cell_type": "markdown",
   "metadata": {},
   "source": [
    "Se puede mejorar ostensiblemente este resultado utilizando la matemática simbólica que nos proporciona Sympy. Por este motivo se puede acudir al capítulo dedicado a esta materia al que [se puede acceder desde este enlace](sympy) para ver un procedimiento fácil con el cual se obtiene el mismo resultado que el obtenido de una forma manual. A continuación se transcribe el resultado central de ese apartado. "
   ]
  },
  {
   "cell_type": "code",
   "execution_count": 10,
   "metadata": {},
   "outputs": [
    {
     "name": "stdout",
     "output_type": "stream",
     "text": [
      "IPython console for SymPy 1.12 (Python 3.11.4-64-bit) (ground types: python)\n",
      "\n",
      "These commands were executed:\n",
      ">>> from sympy import *\n",
      ">>> x, y, z, t = symbols('x y z t')\n",
      ">>> k, m, n = symbols('k m n', integer=True)\n",
      ">>> f, g, h = symbols('f g h', cls=Function)\n",
      ">>> init_printing()\n",
      "\n",
      "Documentation can be found at https://docs.sympy.org/1.12/\n",
      "\n"
     ]
    }
   ],
   "source": [
    "from sympy import init_session\n",
    "init_session(use_latex=True)\n",
    "\n",
    "def productoInterno(x,y, simplificar=True):\n",
    "    \"\"\" \n",
    "    Con esta función calculamos el producto interno de dos qubits\n",
    "\n",
    "    @parámteros:\n",
    "    x,y son dos mtarices de Sympy definidas como vectores columna. Estas matrices\n",
    "    son la amplitudes de los qubits\n",
    "\n",
    "    simplificar es un valor lógico que permite obtener el resultado simplificado o no.\n",
    "\n",
    "    \"\"\"\n",
    "\n",
    "    resul = x.T*y\n",
    "\n",
    "    if simplificar:\n",
    "        resul = simplify(resul)\n",
    "\n",
    "    return resul"
   ]
  },
  {
   "cell_type": "code",
   "execution_count": 11,
   "metadata": {},
   "outputs": [
    {
     "data": {
      "image/png": "[encoded data removed]",
      "text/latex": [
       "$\\displaystyle \\left[\\begin{matrix}\\frac{\\sqrt{2}}{4} + \\frac{\\sqrt{6}}{4}\\end{matrix}\\right]$"
      ],
      "text/plain": [
       "⎡√2   √6⎤\n",
       "⎢── + ──⎥\n",
       "⎣4    4 ⎦"
      ]
     },
     "execution_count": 11,
     "metadata": {},
     "output_type": "execute_result"
    }
   ],
   "source": [
    "# defino las amplitudes del primer elemento\n",
    "a= Matrix([1/sqrt(2),1/sqrt(2)])\n",
    "# defino las amplitudes del segundo elemento\n",
    "b= Matrix([sqrt(3)/2,1/2])\n",
    "\n",
    "productoInterno(a,b)"
   ]
  },
  {
   "cell_type": "markdown",
   "metadata": {},
   "source": [
    "Como resultado de todo lo visto en este apartado podemos concluir que :\n",
    "\n",
    "$$|\\psi\\rangle=\\langle+|\\psi\\rangle|+\\rangle+\\langle-|\\psi\\rangle|-\\rangle$$\n",
    "\n",
    "En consecuencia de puede afirmar que:\n",
    "\n",
    "```{note}\n",
    "Para una base ortonormal cualquiera $\\{|a\\rangle, |b\\rangle  \\} $, el estado de un qubit se puede escribir como:\n",
    "\n",
    "$$|\\psi\\rangle=\\alpha|a\\rangle +\\beta |b\\rangle $$\n",
    "\n",
    "donde $\\alpha=\\langle a|\\psi\\rangle$ y $\\beta=\\langle b|\\psi\\rangle$\n",
    "\n",
    "```\n",
    "\n",
    "Por lo tanto $\\langle a|\\psi\\rangle$ es la amplitud de $| \\psi\\rangle$ en $|a\\rangle$. En lenguaje matemático $\\langle a|\\psi\\rangle$ es la proyección de $|\\psi\\rangle$ en $|a\\rangle$\n",
    "\n",
    "## Matrices de puertas cuánticas.\n",
    "\n",
    "Como ya se ha comentado en un apartado anterior, una puerta U lo que en el fondo hace es cambiar los estados de superposición de los qubits delas base canónica, es decir $|0\\rangle$ y $|1\\rangle$. Utilizando notación simbólica, lo anterior quiere decir lo siguiente:\n",
    "\n",
    "$$U|0\\rangle=a|0\\rangle+b|1\\rangle={\\binom{a}{b}},$$\n",
    "\n",
    "$$U|1\\rangle=c|0\\rangle+d|1\\rangle={\\binom{c}{d}}.$$\n",
    "\n",
    "Las expresiones anteriores se pueden expresar con un formato matricial, y en concreto en el caso anterior, la matriz de la puerta U sería la siguiente:\n",
    "\n",
    "$$U=\\left(\\begin{array}{cc}\n",
    "\\left(\\begin{array}{c}\n",
    "a\\\\\n",
    "b\n",
    "\\end{array}\\right) & \\left(\\begin{array}{c}\n",
    "c\\\\\n",
    "d\n",
    "\\end{array}\\right)\\end{array}\\right)=\\left(\\begin{array}{cc}\n",
    "a & c\\\\\n",
    "b & d\n",
    "\\end{array}\\right)$$\n",
    "\n",
    "Entonces si tenemos un qubit en el siguiente estado de superposición:\n",
    "\n",
    "$$|\\psi\\rangle=\\alpha|0\\rangle+\\beta|1\\rangle={\\binom{\\alpha}{\\beta}},$$\n",
    "\n",
    "Aplicar una puerta U es equivalente a hacer la siguiente multiplicación matricial.\n",
    "\n",
    "$$U|\\psi\\rangle={\\binom{a\\ c}{b\\ d}}{\\binom{\\alpha}{\\beta}}={\\binom{a\\alpha+c\\beta}{b\\alpha+d\\beta}}.$$\n",
    "\n",
    "Por lo tanto y utilizando el lenguaje de álgebra lineal, las puerta cuánticas en el fondo no son otra cosa que matrices. No obstante estas matrices deben de asegurar que la suma de probabilidades de colapsar hacia cada elemento de la base debe ser 1, es decir en el ejemplo anterior, se debe cumplir  \n",
    "\n",
    "$$|a\\alpha+c\\beta|^{2}+|b\\alpha+d\\beta|^{2}=1$$\n",
    "\n",
    "Veamos un ejemplo de esta situación:\n",
    "\n",
    "$$U|0\\rangle=\\frac{\\sqrt{2}-i}{2}|0\\rangle-\\frac{1}{2}|1\\rangle=\\left(\\begin{array}{c}\n",
    "\\frac{\\sqrt{2}-i}{2}\\\\\n",
    "-\\frac{1}{2}\n",
    "\\end{array}\\right),$$\n",
    "\n",
    "$$U|1\\rangle={\\frac{1}{2}}|0\\rangle+{\\frac{\\sqrt{2}+i}{2}}|1\\rangle=\\left(\\begin{array}{c}\n",
    "\\frac{1}{2}\\\\\n",
    "\\frac{\\sqrt{2}+i}{2}\n",
    "\\end{array}\\right).$$\n",
    "\n",
    "En consecuencia la matriz asociada a esta puerta es la siguiente:\n",
    "\n",
    "$$U=\\left(\\begin{array}{cc}\n",
    "\\frac{\\sqrt{2}-i}{2} & \\frac{1}{2}\\\\\n",
    "-\\frac{1}{2} & \\frac{\\sqrt{2}+i}{2}\n",
    "\\end{array}\\right)$$\n",
    "\n",
    "```{index} is_unitary (qiskit)\n",
    "```\n",
    "\n",
    "Para que una puerta se válida, debe ser unitaría, es decir que conserve la propiedad de que la suma de probabilidades  de colapsar hacia cada elemento de la base es 1. Con qiskit se puede comprobar si una matriz es unitaria o no utilizando la propiedad *is_unitary()*. Comprobemos esto para el ejemplo con el que estamos trabajando."
   ]
  },
  {
   "cell_type": "code",
   "execution_count": 12,
   "metadata": {},
   "outputs": [
    {
     "data": {
      "text/plain": [
       "True"
      ]
     },
     "execution_count": 12,
     "metadata": {},
     "output_type": "execute_result"
    }
   ],
   "source": [
    "from qiskit.quantum_info.operators import Operator\n",
    "import numpy as np\n",
    "\n",
    "U= np.matrix([[(np.sqrt(2)-1j)/2,1/2],[-1/2,(np.sqrt(2)+1j)/2]])\n",
    "op =Operator(U)\n",
    "\n",
    "op.is_unitary()"
   ]
  },
  {
   "cell_type": "markdown",
   "metadata": {},
   "source": [
    "En la <a href=\"https://algassert.com/quirk\" target=\"_blank\"> herramienta Quirk </a> que ya se ha presentado en un apartado anterior, también se puede crear las matrices asociadas a las puertas lógicas utilizando la opción del menú principal \"*Make Gate*\". al realizar esta operación se abre un cuadro de diálogo para introducir los elementos de la matriz, como se aprecia en la siguiente imagen.\n",
    "\n",
    "<center>\n",
    "\n",
    "![](images/gatesQuirt.PNG)\n",
    "\n",
    "</center>\n",
    "\n",
    "A esta puerta en el momento de la creación se le asigna un nombre, y esta nueva puerta aparecerá en en la pantalla de Quirk con el nombre que se le ha dado en su creación.\n",
    "\n",
    "<center>\n",
    "\n",
    "![](images/PuertaU.PNG)\n",
    "\n",
    "</center>\n",
    "\n",
    "Una vez creada la puerta se puede trabajar con ella, y obtener los resultados correspondientes, como se puede ver en el ejemplo de la siguiente imagen:\n",
    "\n",
    "<center>\n",
    "\n",
    "![](images/PuertaU_2.PNG)\n",
    "\n",
    "</center>\n",
    "\n",
    "en este caso podemos ver que $HTU|0\\rangle$ tiene un 57.3% de probabilidad de colapsar a $|1\\rangle$ y 42.7% hacia $|0\\rangle$.\n",
    "\n",
    "```{index} matrices puertas cuánticas\n",
    "```\n",
    "### Matrices más comúnmente utilizadas.\n",
    "\n",
    "Ya se han comentado [en otro apartado anterior](puertasComunes), cómo se forman y cual es el resultado de las puertas cuánticas más usuales. En este apartado, vamos a exponer esas mismas puertas pero desde el lado algebraico, es decir viendo la matriz (tal y como se han definido anteriormente) que hay detrás de ellas. Estas matrices son las siguientes.\n",
    "\n",
    "| Puerta    | Acción                                                 | Matriz                                                       |\n",
    "|-----------|--------------------------------------------------------|--------------------------------------------------------------|\n",
    "| Identidad | $I\\|0\\rangle=\\|0\\rangle$ <br> $I\\|1\\rangle=\\|1\\rangle$ | $I=\\left(\\begin{array}{cc} 1 & 0\\\\ 0 & 1 \\end{array}\\right)$ |\n",
    "| Pauli X   | $X\\|0\\rangle=\\|1\\rangle$ <br> $X\\|1\\rangle=\\|0\\rangle$ | $X=\\left(\\begin{array}{cc} 0 & 1\\\\ 1 & 0 \\end{array}\\right)$ |\n",
    "| Pauli Y   | $Y\\|0\\rangle=i\\|1\\rangle$ <br> $Y\\|1\\rangle=-i\\|0\\rangle$ | $Y=\\left(\\begin{array}{cc} 0 & -i\\\\ i & 0 \\end{array}\\right)$ |\n",
    "| Pauli Z   | $X\\|0\\rangle=\\|0\\rangle$ <br> $X\\|1\\rangle=\\|1\\rangle$ | $Z=\\left(\\begin{array}{cc} 1 & 0\\\\ 0 & -1 \\end{array}\\right)$ |\n",
    "| Fase S   | $S\\|0\\rangle=\\|0\\rangle$ <br> $S\\|1\\rangle=i\\|1\\rangle$ | $S=\\left(\\begin{array}{cc} 1 & 0\\\\ 0 & i \\end{array}\\right)$ |\n",
    "| Puerta T | $T\\|0\\rangle=\\|0\\rangle$ <br> $T\\|1\\rangle=e^{i\\pi/4}\\|1\\rangle$ | $T=\\left(\\begin{array}{cc} 1 & 0\\\\ 0 & e^{i\\pi/4} \\end{array}\\right)$ |\n",
    "| Hadamard H | $H\\|0\\rangle=\\frac{1}{\\sqrt{2}}\\left(\\|0\\rangle+\\|1\\rangle\\right)$ <br> $H\\|1\\rangle=\\frac{1}{\\sqrt{2}}\\left(\\|0\\rangle-\\|1\\rangle\\right)$ |   $H=\\frac{1}{\\sqrt{2}}\\left(\\begin{array}{cc}1 & 1\\\\1 & -1\\end{array}\\right)$  |\n",
    "\n",
    "### Operando con puertas secuenciales.\n",
    "\n",
    "Usando el álgebra lineal y la definición de las matrices dadas anteriormente, se puede calcular fácilmente el resultado de una secuencia de puertas cuánticas. Por ejemplo se puede demostrar que:\n",
    "\n",
    "$${HSTH|0}\\rangle={\\frac{1}{2}}\\left[\\left(1+e^{i3\\pi/4}\\right)|0\\rangle+\\left(1-e^{i3\\pi/4}\\right)|1\\rangle\\right]$$\n",
    "\n",
    "La operación manual se haría de la siguiente manera:\n",
    "\n",
    "<center>\n",
    "\n",
    "![](images/operaciones.PNG)\n",
    "\n",
    "</center>\n",
    "\n",
    "Mientras que si utilizamos el paquete Sympy de python, nos daría:"
   ]
  },
  {
   "cell_type": "code",
   "execution_count": 13,
   "metadata": {},
   "outputs": [
    {
     "data": {
      "image/png": "[encoded data removed]",
      "text/latex": [
       "$\\displaystyle \\left[\\begin{matrix}\\frac{1}{2} + \\frac{i e^{\\frac{i \\pi}{4}}}{2}\\\\\\frac{1}{2} - \\frac{i e^{\\frac{i \\pi}{4}}}{2}\\end{matrix}\\right]$"
      ],
      "text/plain": [
       "⎡       ⅈ⋅π⎤\n",
       "⎢       ───⎥\n",
       "⎢        4 ⎥\n",
       "⎢1   ⅈ⋅ℯ   ⎥\n",
       "⎢─ + ──────⎥\n",
       "⎢2     2   ⎥\n",
       "⎢          ⎥\n",
       "⎢       ⅈ⋅π⎥\n",
       "⎢       ───⎥\n",
       "⎢        4 ⎥\n",
       "⎢1   ⅈ⋅ℯ   ⎥\n",
       "⎢─ - ──────⎥\n",
       "⎣2     2   ⎦"
      ]
     },
     "execution_count": 13,
     "metadata": {},
     "output_type": "execute_result"
    }
   ],
   "source": [
    "#Definimos las matrices\n",
    "H=(1/sqrt(2))*Matrix([[1,1],[1,-1]])\n",
    "S = Matrix([[1,0],[0,1*I]])\n",
    "T = Matrix([[1,0],[0,exp(pi*I/4)]])\n",
    "\n",
    "# Definimos el vector columna (1,0)\n",
    "c = Matrix([1,0])\n",
    "\n",
    "# Hacemos ahora la multiplicación\n",
    "\n",
    "H*S*T*H*c"
   ]
  },
  {
   "cell_type": "markdown",
   "metadata": {},
   "source": [
    "Observar que el resultado es el mismo que el obtenido de forma manual ya que $i=e^{i\\pi/2}$ y entonces con una simple operación aritmética se llega al mismo resultado que el obtenido de forma manual.\n",
    "\n",
    "Como estas matrices de puertas lógicas son utilizadas con mucha frecuencia, lo que se ha hecho es crear un fichero denominado \"puertasLogicas.py\" que contiene la definición de estas puertas. Entonces se le puede considerar que es un módulo de Python, con lo que no se tiene que hacer más que importarlo para trabajar con esas matrices de puertas lógicas.\n",
    "\n",
    "El código que contiene este fichero es el siguiente:\n",
    "\n",
    ">from sympy import *\n",
    ">init_printing(use_unicode=True)\n",
    ">\n",
    ">I1=Matrix([[1,0],[0,1]])\n",
    ">\n",
    ">X=Matrix([[0,1],[1,0]])\n",
    ">\n",
    ">Y=Matrix([[0,-I],[I,0]])\n",
    ">\n",
    ">Z = Matrix([[1,0],[0,-1]])\n",
    ">\n",
    ">S = Matrix([[1,0],[0,I]])\n",
    ">\n",
    ">T = Matrix([[1,0],[0,exp(pi*I/4)]])\n",
    ">\n",
    ">H=(1/sqrt(2))*Matrix([[1,1],[1,-1]])\n",
    "\n",
    "Entonces su forma de usos sería como se indica a continuación:"
   ]
  },
  {
   "cell_type": "code",
   "execution_count": 14,
   "metadata": {},
   "outputs": [
    {
     "data": {
      "image/png": "[encoded data removed]",
      "text/latex": [
       "$\\displaystyle \\left[\\begin{matrix}\\frac{1}{2} + \\frac{i e^{\\frac{i \\pi}{4}}}{2} & \\frac{1}{2} - \\frac{i e^{\\frac{i \\pi}{4}}}{2}\\\\\\frac{1}{2} - \\frac{i e^{\\frac{i \\pi}{4}}}{2} & \\frac{1}{2} + \\frac{i e^{\\frac{i \\pi}{4}}}{2}\\end{matrix}\\right]$"
      ],
      "text/plain": [
       "⎡       ⅈ⋅π         ⅈ⋅π⎤\n",
       "⎢       ───         ───⎥\n",
       "⎢        4           4 ⎥\n",
       "⎢1   ⅈ⋅ℯ     1   ⅈ⋅ℯ   ⎥\n",
       "⎢─ + ──────  ─ - ──────⎥\n",
       "⎢2     2     2     2   ⎥\n",
       "⎢                      ⎥\n",
       "⎢       ⅈ⋅π         ⅈ⋅π⎥\n",
       "⎢       ───         ───⎥\n",
       "⎢        4           4 ⎥\n",
       "⎢1   ⅈ⋅ℯ     1   ⅈ⋅ℯ   ⎥\n",
       "⎢─ - ──────  ─ + ──────⎥\n",
       "⎣2     2     2     2   ⎦"
      ]
     },
     "execution_count": 14,
     "metadata": {},
     "output_type": "execute_result"
    }
   ],
   "source": [
    "import puertasLogicas as pl\n",
    "\n",
    "pl.H*pl.S*pl.T*pl.H"
   ]
  },
  {
   "cell_type": "markdown",
   "metadata": {},
   "source": [
    "## Identidades entre circuitos.\n",
    "\n",
    "Existen algunas indentidades importantes que conviene tenerlas en cuenta cuando trabajamos en programación cuántica. A continuación se muestran algunas de estas identidades.\n",
    "\n",
    "Se puede comprobar que: HXH=Z, para comprobarlo vamos a ver si es cierto que HXH-Z=0"
   ]
  },
  {
   "cell_type": "code",
   "execution_count": 15,
   "metadata": {},
   "outputs": [
    {
     "data": {
      "image/png": "[encoded data removed]",
      "text/latex": [
       "$\\displaystyle \\left[\\begin{matrix}0 & 0\\\\0 & 0\\end{matrix}\\right]$"
      ],
      "text/plain": [
       "⎡0  0⎤\n",
       "⎢    ⎥\n",
       "⎣0  0⎦"
      ]
     },
     "execution_count": 15,
     "metadata": {},
     "output_type": "execute_result"
    }
   ],
   "source": [
    "import puertasLogicas as pl\n",
    "\n",
    "pl.H*pl.X*pl.H-pl.Z"
   ]
  },
  {
   "cell_type": "code",
   "execution_count": 16,
   "metadata": {},
   "outputs": [
    {
     "data": {
      "image/png": "[encoded data removed]",
      "text/latex": [
       "$\\displaystyle \\left[\\begin{matrix}1 & 0\\\\0 & -1\\end{matrix}\\right]$"
      ],
      "text/plain": [
       "⎡1  0 ⎤\n",
       "⎢     ⎥\n",
       "⎣0  -1⎦"
      ]
     },
     "execution_count": 16,
     "metadata": {},
     "output_type": "execute_result"
    }
   ],
   "source": [
    "# También de esta manera\n",
    "pl.H*pl.X*pl.H"
   ]
  },
  {
   "cell_type": "markdown",
   "metadata": {},
   "source": [
    "## Unitariedad\n",
    "\n",
    "Recordemos que si una puerta cuántica transforma $|0\\rangle$ y $|1\\rangle$ de la siguiente manera:\n",
    "\n",
    "$$U|0\\rangle=a|0\\rangle+b|1\\rangle=\\binom{a}{b}$$\n",
    "\n",
    "$$U|1\\rangle=c|0\\rangle+d|1\\rangle=\\binom{c}{d}$$\n",
    "\n",
    "Entonces podemos escribir U mediante una matriz 2x2, de la siguiente manera:\n",
    "\n",
    "$$U=\\left(\\begin{array}{cc}\n",
    "a & c\\\\\n",
    "b & d\n",
    "\\end{array}\\right)$$\n",
    "\n",
    "En estas circunstancias, si aplicamos es puerta al estado $|\\Psi\\rangle=\\alpha|0\\rangle+\\beta|1\\rangle$ se obtiene lo siguiente:\n",
    "\n",
    "\n",
    "$$U|\\psi\\rangle=\\left(\\begin{array}{cc}\n",
    "a & c\\\\\n",
    "b & d\n",
    "\\end{array}\\right)\\left(\\begin{array}{c}\n",
    "\\alpha\\\\\n",
    "\\beta\n",
    "\\end{array}\\right)=\\left[\\begin{array}{c}\n",
    "a\\alpha+b\\beta\\\\\n",
    "b\\alpha+d\\beta\n",
    "\\end{array}\\right]$$\n",
    "\n",
    "Como puede verse, $U|\\psi\\rangle$ es un vector columna y también lo podemos escribir como un elemento ket $|U\\psi\\rangle$:\n",
    "\n",
    "$$U|\\psi\\rangle=|U\\psi\\rangle$$\n",
    "\n",
    "Ahora consideremos el conjugado transpuesto de $|U\\psi\\rangle$:\n",
    "\n",
    "$$\\langle U\\psi|=(a^{*}\\alpha^{*}+c^{*}\\beta^{*}\\quad b^{*}\\alpha^{*}+d^{*}\\beta^{*})=(\\alpha^{*}\\,\\beta^{*})\\left(\\begin{array}{cc}\n",
    "a^{*} & b^{*}\\\\\n",
    "c^{*} & d^{*}\n",
    "\\end{array}\\right) = \\left(\\alpha^{`*}\\:\\beta^{*}\\right)\\left(\\begin{array}{cc}\n",
    "a & c\\\\\n",
    "b & d\n",
    "\\end{array}\\right)^{\\dagger}= \\langle \\psi | U^{\\dagger}$$\n",
    "\n",
    "Resumiendo:\n",
    "\n",
    "$$\\begin{array}{c l c r}{{|U\\psi\\rangle=U|\\psi\\rangle,}}\\\\ {{\\langle U\\psi|=\\langle\\psi|U^{\\dagger}.}}\\end{array}$$\n",
    "\n",
    "Entonces, utilizando lo anterior, podemos determinar si una matriz U deja la probabilidad total igual a 1. Entonces consideremos una puerta cuántica dada por su matriz U y actúa sobre un estado $\\psi$, es decir $U|\\psi\\rangle=|U\\psi\\rangle$. Para que U sea una puerta cuántica, debe estar normalizada, es decir su producto interno consigo mismo debe ser igual a 1:\n",
    "\n",
    "$$\\begin{array}{c}{{\\langle U\\psi|U\\psi\\rangle=1}}\\\\ {{\\langle\\psi|U^{\\dagger}U|\\psi\\rangle=\\langle\\psi|\\psi,}}\\\\ {{U^{\\dagger}U=I.}}\\end{array}$$\n",
    "\n",
    "```{index} Unitary (matrix)\n",
    "```\n",
    "\n",
    "Una matriz que verifica la condición anterior, se denomina **matriz unitaria**, y en consecuencia podemos concluir que:\n",
    "\n",
    ":::{note}\n",
    "Las puertas cuánticas son matrices unitarias, y además si una matriz es unitaria entonces es una puerta cuántica\n",
    ":::\n",
    "\n",
    "Tenemos varias formas de comprobar si una matriz es unitaria o no. Una forma es utilizar la propiedad <a href=\"https://qiskit.org/documentation/stable/0.19/stubs/qiskit.quantum_info.Operator.is_unitary.html\" target=\"_blank\"> is_unitary </a> de qiskit. Pero también se puede utilizar la multiplicación de matrices de Sympy. Hay que tener en cuenta que la matriz transpuesta conjugada se obtiene utilizando el método *.H*. Veamos un ejemplo. Supongamos que tenemos la siguiente matriz:\n",
    "\n",
    "$$U=\\frac{1}{\\sqrt{2}}\\left(\\begin{array}{cc}\n",
    "1 & i\\\\\n",
    "-i & 1\n",
    "\\end{array}\\right)$$\n",
    "\n",
    "Comprobemos mediante sympy si es o no unitaria"
   ]
  },
  {
   "cell_type": "code",
   "execution_count": 17,
   "metadata": {},
   "outputs": [
    {
     "data": {
      "image/png": "[encoded data removed]",
      "text/latex": [
       "$\\displaystyle \\left[\\begin{matrix}0.707106781186547 & 0.707106781186547 i\\\\- 0.707106781186547 i & 0.707106781186547\\end{matrix}\\right]$"
      ],
      "text/plain": [
       "⎡ 0.707106781186547    0.707106781186547⋅ⅈ⎤\n",
       "⎢                                         ⎥\n",
       "⎣-0.707106781186547⋅ⅈ   0.707106781186547 ⎦"
      ]
     },
     "execution_count": 17,
     "metadata": {},
     "output_type": "execute_result"
    }
   ],
   "source": [
    "#Definimos y presentamos la matriz\n",
    "A=(1/np.sqrt(2))*Matrix([[1,I],[-I,1]])\n",
    "A"
   ]
  },
  {
   "cell_type": "code",
   "execution_count": 18,
   "metadata": {},
   "outputs": [
    {
     "data": {
      "image/png": "[encoded data removed]",
      "text/latex": [
       "$\\displaystyle \\left[\\begin{matrix}1.0 & 1.0 i\\\\- 1.0 i & 1.0\\end{matrix}\\right]$"
      ],
      "text/plain": [
       "⎡ 1.0    1.0⋅ⅈ⎤\n",
       "⎢             ⎥\n",
       "⎣-1.0⋅ⅈ   1.0 ⎦"
      ]
     },
     "execution_count": 18,
     "metadata": {},
     "output_type": "execute_result"
    }
   ],
   "source": [
    "# Multiplicamos la transpuesta conjugada por esa matriz\n",
    "A.H*A"
   ]
  },
  {
   "cell_type": "markdown",
   "metadata": {},
   "source": [
    "Como en el ejemplo anterior, no se obtiene la matriz identidad no podemos utilizar esa matriz como una puerta cuántica. Comprobemos si la matriz \n",
    "\n",
    "$$U=\\frac{1}{\\sqrt{2}}\\left(\\begin{array}{cc}\n",
    "1 & i\\\\\n",
    "i & -1\n",
    "\\end{array}\\right)$$\n",
    "\n",
    "es unitaria:"
   ]
  },
  {
   "cell_type": "code",
   "execution_count": 19,
   "metadata": {},
   "outputs": [
    {
     "data": {
      "text/plain": [
       "False"
      ]
     },
     "execution_count": 19,
     "metadata": {},
     "output_type": "execute_result"
    }
   ],
   "source": [
    "U=np.array([[1/np.sqrt(2),1j/np.sqrt(2)],[1j/np.sqrt(2),-1/np.sqrt(2)]])\n",
    "U1=Operator(U)\n",
    "U1.is_unitary()"
   ]
  },
  {
   "cell_type": "markdown",
   "metadata": {},
   "source": [
    "En consecuencia no sería unitaria. Probemos con \n",
    "\n",
    "$$U=\\frac{1}{\\sqrt{2}}\\left(\\begin{array}{cc}\n",
    "1 & 1\\\\\n",
    "i & -i\n",
    "\\end{array}\\right)$$"
   ]
  },
  {
   "cell_type": "code",
   "execution_count": 20,
   "metadata": {},
   "outputs": [
    {
     "data": {
      "text/plain": [
       "True"
      ]
     },
     "execution_count": 20,
     "metadata": {},
     "output_type": "execute_result"
    }
   ],
   "source": [
    "U=np.array([[1/np.sqrt(2),1/np.sqrt(2)],[1j/np.sqrt(2),-1j/np.sqrt(2)]])\n",
    "U1=Operator(U)\n",
    "U1.is_unitary()"
   ]
  },
  {
   "cell_type": "markdown",
   "metadata": {},
   "source": [
    "Entonces la matriz anterior sería unitaria y por lo tanto se corresponde con alguna puerta cuántica. Ademas:\n",
    "\n",
    "$$U|0\\rangle = |i\\rangle \\qquad U|1\\rangle=-|i\\rangle$$\n",
    "\n",
    "```{index} reversibilidad\n",
    "```\n",
    "## Reversibilidad.\n",
    "\n",
    "Diremos que una matriz es reversible o invertible si existe una matriz, denotada por $M^{-1}$ de forma que se cumple:\n",
    "\n",
    "$$M\\cdot M^{-1}=M^{-1}\\cdot M=I$$\n",
    "\n",
    "Ahora ya sabemos que una matriz correspondiente a una puerta cuántica verifica:\n",
    "\n",
    "$$U^{\\dagger}U=UU^{\\dagger}=I$$\n",
    "\n",
    "\n",
    "De la expresión anterior además se puede deducir que U también verifica que la matriz transpuesta conjugada debe ser igual a la matriz inversa, es decir:\n",
    "\n",
    "$$U^{-1}=U^{\\dagger}$$\n",
    "\n",
    "Por lo tanto, se concluye lo siguiente:\n",
    "\n",
    "```{note}\n",
    "La matriz de una puerta cuántica también deber ser reversible y la inversa coincide con la matriz transpuesta conjugada\n",
    "```\n",
    "\n",
    "## Producto externo (Outer).\n",
    "\n",
    "En esta sección vamos a mostrar lo que se entiende por producto externo de matrices o *outer product*. El resultado que se obtiene es otra matriz, no un escalar como era el caso del producto interno ya visto en secciones anteriores.\n",
    "\n",
    "Consideremos dos estados cuánticos:\n",
    "\n",
    "$$ |\\psi\\rangle=\\alpha|0\\rangle+\\beta|1\\rangle,\\quad|\\phi\\rangle=\\gamma|0\\rangle+\\delta|1\\rangle. $$\n",
    "\n",
    "En lugar de hacer el producto interno $\\langle \\psi | \\phi\\rangle$, vamos a definir el producto externo de la siguiente manera:\n",
    "\n",
    "$$ |\\psi\\rangle\\langle\\phi|={\\binom{\\alpha}{\\beta}}(\\gamma^{*}\\ \\delta^{*}) = \\binom{\\alpha\\gamma^{*} \\quad \\alpha\\delta^{*}}{\\beta\\gamma^{*} \\quad \\beta\\delta^{*}} $$\n",
    "\n",
    "Por lo tanto el resultado es una matriz 2x2, y entonces podemos utilizar este producto externo para construir otras puertas cuánticas. Por ejemplo consideremos lo siguiente:\n",
    "\n",
    "$$ U=|1\\rangle\\langle0|+|0\\rangle\\langle1|. $$\n",
    "\n",
    "\n",
    "Y ahora veamos cómo actúa sobre el estado $|\\psi\\rangle=\\alpha|0\\rangle+\\beta|1\\rangle$.\n",
    "\n",
    "$$\\begin{align*}\n",
    "U|\\psi\\rangle & =\\left(|1\\rangle\\langle0|+|0\\rangle\\langle1|\\right)\\left(\\alpha|0\\rangle+\\beta|1\\rangle\\right)=\\\\\n",
    "= & \\alpha|1\\rangle\\underset{1}{\\underbrace{\\langle0|0\\rangle}}+\\beta|1\\rangle\\underset{0}{\\underbrace{\\langle0|1\\rangle}+}\\alpha|0\\rangle\\underset{0}{\\underbrace{\\langle1|0\\rangle}}+\\beta|0\\rangle\\underset{1}{\\underbrace{\\langle1|1\\rangle}}=\\\\\n",
    "= & \\alpha|1\\rangle+\\beta|0\\rangle=\\beta|0\\rangle+\\alpha|1\\rangle\n",
    "\\end{align*}$$\n",
    "\n",
    "Y como $|\\alpha|^2+|\\beta|^2=1$, podemos concluir que la matriz U corresponde a una puerta cuántica válida. También hemos visto que esta puerta intercambia $|0\\rangle$ con $|1\\rangle$, por lo tanto se trata de la puerta X. Lo podemos ver igualmente de la siguiente manera:\n",
    "\n",
    "$$U=|1\\rangle\\langle0|+|0\\rangle\\langle1|={\\binom{0}{1}}(1\\ 0)+{\\binom{1}{0}}+(0 \\, 1)={\\binom{0 \\, 0}{1\\ 0}}+{\\binom{0\\ 1}{0}}={\\binom{0 \\  1}{1\\ 0}}$$\n",
    "\n",
    "Se puede demostrar lo siguiente:\n",
    "\n",
    "$$\\phi\\rangle\\langle\\psi|=|\\psi\\rangle\\langle\\phi|^{\\dagger}$$\n",
    "\n",
    "Pues en efecto se tiene lo siguiente:\n",
    "\n",
    "$$|\\phi\\rangle\\langle\\psi|={\\binom{\\gamma}{\\delta}}(\\alpha^{*}\\:\\beta^{*})={\\binom{\\gamma\\alpha^{*}\\;\\gamma\\beta^{*}}{\\delta\\alpha^{*}\\;\\delta\\beta^{*}}}={\\binom{\\alpha\\gamma^{*}\\;\\alpha\\delta^{*}}{\\beta\\gamma^{*}}^{\\gamma}}=|\\psi\\rangle\\langle\\phi|^{\\dagger}$$\n",
    "\n"
   ]
  },
  {
   "cell_type": "markdown",
   "metadata": {},
   "source": [
    "## Relación de completitud.\n",
    "\n",
    "Recordar  [de un apartado anteriormente visto](proyecciones) que para cualquier base ortonormal $\\{|a\\rangle , |b\\rangle \\}$ el estado de un qubit puede ser escrito de la de la siguiente manera:\n",
    "\n",
    "$$|\\psi\\rangle=\\alpha|a\\rangle+\\beta|b\\rangle,$$\n",
    "\n",
    "de tal manera que $\\alpha=\\langle a|\\psi\\rangle\\operatorname{y}\\beta=\\langle b|\\psi\\rangle$. Sustituyendo estos valores.\n",
    "\n",
    "$$|\\psi\\rangle=\\underset{escalar}{\\underbrace{\\langle a|\\psi\\rangle}}|a\\rangle+\\underset{escalar}{\\underbrace{\\langle b|\\psi\\rangle}}|b\\rangle$$\n",
    "\n",
    "Como ya se ha dicho el producto interno es un escalar o número y por lo tanto en lugar de multiplicar por la izquierda, lo pasamos al lado derecho:\n",
    "\n",
    "$$|\\psi\\rangle=\\underset{escalar}{|a\\rangle\\underbrace{\\langle a|\\psi\\rangle}}+\\underset{escalar}{|b\\rangle\\underbrace{\\langle b|\\psi\\rangle}}$$\n",
    "\n",
    "Lo anterior lo podemos escribir de la siguiente manera con la finalidad de dejar más claro su significado:\n",
    "\n",
    "$$\\psi\\rangle=|a\\rangle\\langle a||\\psi\\rangle+|b\\rangle\\langle b| |{\\boldsymbol{\\psi}}\\rangle$$\n",
    "\n",
    "Ahora tenemos dos productos externos $|a\\rangle\\langle a|\\mathrm{\\,y\\,}|b\\rangle\\langle b|$ y podemos reducir la expresión anterior a lo siguiente:\n",
    "\n",
    "$$|\\psi\\rangle=(|a\\rangle\\langle a|+|b\\rangle\\langle b|)|\\psi\\rangle$$\n",
    "\n",
    "Commo esto es cierto para cualquier $|\\psi\\rangle$ , entonces se puede concluir que:\n",
    "\n",
    "$$|a\\rangle\\langle a|+|b\\rangle\\langle b|=I$$\n",
    "\n",
    "Esta propiedad se conoce como *relación de completitud* e indica que el esatdo de cualquier qubit en términos de $|a\\rangle \\, y \\, |b\\rangle$. En consecuencia, podemos afirmar que:\n",
    "\n",
    "```{note}\n",
    "Una base ortonormal completa $\\{|a\\rangle,|b\\rangle\\}$ satisface la relación de completitud siguiente:\n",
    "\n",
    "$$|a\\rangle\\langle a|+|b\\rangle\\langle b|=I$$\n",
    "```"
   ]
  },
  {
   "cell_type": "code",
   "execution_count": null,
   "metadata": {},
   "outputs": [],
   "source": []
  },
  {
   "cell_type": "code",
   "execution_count": null,
   "metadata": {},
   "outputs": [],
   "source": []
  }
 ],
 "metadata": {
  "kernelspec": {
   "display_name": "Python 3 (ipykernel)",
   "language": "python",
   "name": "python3"
  },
  "language_info": {
   "codemirror_mode": {
    "name": "ipython",
    "version": 3
   },
   "file_extension": ".py",
   "mimetype": "text/x-python",
   "name": "python",
   "nbconvert_exporter": "python",
   "pygments_lexer": "ipython3",
   "version": "3.11.4"
  }
 },
 "nbformat": 4,
 "nbformat_minor": 5
}
